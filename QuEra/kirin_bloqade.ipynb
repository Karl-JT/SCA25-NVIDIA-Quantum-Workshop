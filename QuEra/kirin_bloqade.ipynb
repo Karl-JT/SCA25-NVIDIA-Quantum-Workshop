{
 "cells": [
  {
   "cell_type": "markdown",
   "metadata": {},
   "source": [
    "# Quantum Fourier Transform\n",
    "In this example, we will explore the Quantum Fourier Transform (QFT) circuit using recursion and iteration -- a convenient way to implement the QFT circuit using our high-level programming features.\n",
    "\n",
    "To begin, we will import the `qasm2` module from the `bloqade` package:"
   ]
  },
  {
   "cell_type": "code",
   "execution_count": 1,
   "metadata": {},
   "outputs": [],
   "source": [
    "import math\n",
    "from bloqade import qasm2"
   ]
  },
  {
   "cell_type": "markdown",
   "metadata": {},
   "source": [
    "In the following, we will define the Quantum Fourier Transform (QFT) circuit using recursion inside a kernel function `qft`. The `qft` function takes two arguments: a quantum register `qreg` and an integer `n` representing the number of qubits we want to apply the QFT circuit to."
   ]
  },
  {
   "cell_type": "code",
   "execution_count": null,
   "metadata": {},
   "outputs": [],
   "source": [
    "pi = math.pi\n",
    "\n",
    "@qasm2.extended\n",
    "def qft(qreg: qasm2.QReg, n: int, k: int):\n",
    "    if k == n:\n",
    "        return qreg\n",
    "\n",
    "    qasm2.h(qreg[k])\n",
    "    for i in range(k + 1, n):\n",
    "        qasm2.cu1(qreg[i], qreg[k], 2 * math.pi / 2**i)\n",
    "    qft(qreg, n, k + 1)  # recursion\n",
    "    return qreg\n"
   ]
  },
  {
   "cell_type": "markdown",
   "metadata": {},
   "source": [
    "Next, we will call this kernel function `qft` inside a `main` function to check if the QFT circuit is correctly implemented. We will use a quantum register of size 4. We can also emit the QASM2 code for the `main` function and print it to see the QASM2 code that corresponds to the QFT circuit."
   ]
  },
  {
   "cell_type": "code",
   "execution_count": 3,
   "metadata": {},
   "outputs": [
    {
     "name": "stdout",
     "output_type": "stream",
     "text": [
      "\u001b[90mOPENQASM 2.0\u001b[0m;\n",
      "\u001b[31minclude\u001b[0m \u001b[32m\"qelib1.inc\"\u001b[0m;\n",
      "\u001b[31mqreg\u001b[0m qreg[4];\n",
      "\u001b[36mh\u001b[0m \u001b[36mqreg\u001b[0m[\u001b[39m0\u001b[0m];\n",
      "\u001b[36mcu1\u001b[0m (3.141592653589793) \u001b[36mqreg\u001b[0m[\u001b[39m1\u001b[0m], \u001b[36mqreg\u001b[0m[\u001b[39m0\u001b[0m];\n",
      "\u001b[36mcu1\u001b[0m (1.5707963267948966) \u001b[36mqreg\u001b[0m[\u001b[39m2\u001b[0m], \u001b[36mqreg\u001b[0m[\u001b[39m0\u001b[0m];\n",
      "\u001b[36mcu1\u001b[0m (0.7853981633974483) \u001b[36mqreg\u001b[0m[\u001b[39m3\u001b[0m], \u001b[36mqreg\u001b[0m[\u001b[39m0\u001b[0m];\n",
      "\u001b[36mh\u001b[0m \u001b[36mqreg\u001b[0m[\u001b[39m1\u001b[0m];\n",
      "\u001b[36mcu1\u001b[0m (1.5707963267948966) \u001b[36mqreg\u001b[0m[\u001b[39m2\u001b[0m], \u001b[36mqreg\u001b[0m[\u001b[39m1\u001b[0m];\n",
      "\u001b[36mcu1\u001b[0m (0.7853981633974483) \u001b[36mqreg\u001b[0m[\u001b[39m3\u001b[0m], \u001b[36mqreg\u001b[0m[\u001b[39m1\u001b[0m];\n",
      "\u001b[36mh\u001b[0m \u001b[36mqreg\u001b[0m[\u001b[39m2\u001b[0m];\n",
      "\u001b[36mcu1\u001b[0m (0.7853981633974483) \u001b[36mqreg\u001b[0m[\u001b[39m3\u001b[0m], \u001b[36mqreg\u001b[0m[\u001b[39m2\u001b[0m];\n",
      "\u001b[36mh\u001b[0m \u001b[36mqreg\u001b[0m[\u001b[39m3\u001b[0m];\n"
     ]
    }
   ],
   "source": [
    "@qasm2.extended\n",
    "def main():\n",
    "    return qft(qasm2.qreg(4), 4, 0)\n",
    "\n",
    "from bloqade.qasm2.emit import QASM2  # noqa: E402\n",
    "from bloqade.qasm2.parse import pprint  # noqa: E402\n",
    "\n",
    "target = QASM2()\n",
    "ast = target.emit(main)\n",
    "pprint(ast)"
   ]
  },
  {
   "cell_type": "markdown",
   "metadata": {},
   "source": [
    "# Kirin infrastructure\n",
    "\n",
    "Bloqade is built on top of `Kirin` , an open source compiler infrastructure based on MLIR. The design intent of Kirin is to be easily able to design and compose domain specific languages (DSLs), with a goal of being able to efficiently lower high level programs onto hardware, as well as orchistrate hybrid quantum-classical program executions\n",
    "\n",
    "For rendering reasons, lets check out the main page of Kirin documentation https://queracomputing.github.io/kirin/latest/#quick-example-the-food-language\n"
   ]
  },
  {
   "cell_type": "markdown",
   "metadata": {},
   "source": []
  }
 ],
 "metadata": {
  "kernelspec": {
   "display_name": ".venv",
   "language": "python",
   "name": "python3"
  },
  "language_info": {
   "codemirror_mode": {
    "name": "ipython",
    "version": 3
   },
   "file_extension": ".py",
   "mimetype": "text/x-python",
   "name": "python",
   "nbconvert_exporter": "python",
   "pygments_lexer": "ipython3",
   "version": "3.12.7"
  }
 },
 "nbformat": 4,
 "nbformat_minor": 2
}
