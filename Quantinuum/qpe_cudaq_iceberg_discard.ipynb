{
 "cells": [
  {
   "cell_type": "markdown",
   "metadata": {},
   "source": [
    "# Information Theoretic Quantum Phase Estimation for Hydrogen with the Iceberg Code"
   ]
  },
  {
   "cell_type": "markdown",
   "metadata": {},
   "source": [
    "Install `pytket` if it is not available (it is used when handling the results):"
   ]
  },
  {
   "cell_type": "code",
   "execution_count": null,
   "metadata": {},
   "outputs": [],
   "source": [
    "# !pip install pytket==1.40.0"
   ]
  },
  {
   "cell_type": "markdown",
   "metadata": {},
   "source": [
    "We rely on the `algorithm` module for some utility functions:"
   ]
  },
  {
   "cell_type": "code",
   "execution_count": 1,
   "metadata": {},
   "outputs": [],
   "source": [
    "import numpy as np\n",
    "from algorithm import generate_ks"
   ]
  },
  {
   "cell_type": "markdown",
   "metadata": {},
   "source": [
    "The phase estimation algorithm requires to generate a number `n_samples` of circuits using different powers `k` of the controlled unitary Trotterized Hamiltonian, up to the largest power `k_max`.\n",
    "A list of random angles `beta` is also needed.\n",
    "Overall, a given pair `(k,beta)` correspond to a single circuit."
   ]
  },
  {
   "cell_type": "code",
   "execution_count": 2,
   "metadata": {},
   "outputs": [],
   "source": [
    "# Prepare the samples of (k, beta).\n",
    "k_max = 16\n",
    "n_samples = 50  # this will set how many circuits we need to run for the QPE\n",
    "error_rate = 0.0 # for a noiseless simulation we can set this to 0\n",
    "\n",
    "\n",
    "def error_rate_func(k: int) -> float:\n",
    "    q = 1 - (1 - error_rate) ** k\n",
    "    return q\n",
    "\n",
    "\n",
    "k_list = generate_ks(k_max, n_samples, error_rate=error_rate_func)\n",
    "beta_list = (1 - 2 * np.random.random(size=n_samples)).tolist()\n"
   ]
  },
  {
   "cell_type": "markdown",
   "metadata": {},
   "source": [
    "## Hamiltonian for the tapered 1-qubit Hydrogen molecule\n",
    "\n",
    "Coefficients for the controlled unitary Trotterized Hamiltonian $e^{-i \\delta t H}$ are defined below"
   ]
  },
  {
   "cell_type": "code",
   "execution_count": 3,
   "metadata": {},
   "outputs": [],
   "source": [
    "# 1-qubit controlled Hamiltonian trotterization coefficients\n",
    "CZ = 0.7960489286466914\n",
    "CX = -0.1809233927385484\n",
    "CI = -0.3209561440881913\n",
    "DELTAT = 0.1\n",
    "# This is the reference energy from a full configuration interaction calculation\n",
    "FCI_ENERGY = -1.13730605"
   ]
  },
  {
   "cell_type": "markdown",
   "metadata": {},
   "source": [
    "## CUDA-Q Circuits"
   ]
  },
  {
   "cell_type": "markdown",
   "metadata": {},
   "source": [
    "This is needed to debug `CUDA-Q` calls:"
   ]
  },
  {
   "cell_type": "code",
   "execution_count": 1,
   "metadata": {},
   "outputs": [],
   "source": [
    "# import os\n",
    "\n",
    "# os.environ[\"CUDAQ_LOG_LEVEL\"] = \"info\"\n",
    "# os.environ[\"CUDAQ_LOG_LEVEL\"] = \"trace\""
   ]
  },
  {
   "cell_type": "code",
   "execution_count": 4,
   "metadata": {},
   "outputs": [],
   "source": [
    "import cudaq\n",
    "cudaq.set_target(\"qpp-cpu\")"
   ]
  },
  {
   "cell_type": "code",
   "execution_count": 5,
   "metadata": {},
   "outputs": [],
   "source": [
    "@cudaq.kernel()\n",
    "def qpe_iceberg(\n",
    "    k: int, beta: float, syndrome_interval: int, coeffs: list[float]\n",
    "):\n",
    "    q = cudaq.qvector(6)\n",
    "    # FT plust state preparation\n",
    "    h(q[0])\n",
    "    x.ctrl(q[0], q[4])\n",
    "    x.ctrl(q[0], q[1])\n",
    "    x.ctrl(q[0], q[4])\n",
    "    h(q[0])\n",
    "    h(q[1])\n",
    "    h(q[2])\n",
    "    bit0 = mz(q[4])\n",
    "    x.ctrl(q[2], q[5])\n",
    "    x.ctrl(q[2], q[3])\n",
    "    x.ctrl(q[2], q[5])\n",
    "    bit1 = mz(q[5])\n",
    "    # HF state preparation\n",
    "    x(q[0])\n",
    "    x(q[2])\n",
    "    # control-U^{k} and Rz(beta) operations\n",
    "    for i in range(k):\n",
    "        exp_pauli(coeffs[0], q, \"IIZZII\")  # this is the pauli exponential e^{i c Z2Z3}\n",
    "        exp_pauli(coeffs[1], q, \"IZZIII\")  # this is the pauli exponential e^{i c Z1Z2}\n",
    "        exp_pauli(coeffs[2], q, \"XIXIII\")  # this is the pauli exponential e^{i c X0X2}\n",
    "        exp_pauli(coeffs[3], q, \"YIYIII\")  # this is the pauli exponential e^{i c Y0Y2}\n",
    "        if i + 1 >= k:  # no syndrome measurement in the last iteration\n",
    "            break\n",
    "        if (i + 1) % syndrome_interval == 0:\n",
    "            reset(q[4])\n",
    "            reset(q[5])\n",
    "            h(q[5])\n",
    "            x.ctrl(q[5], q[0])\n",
    "            x.ctrl(q[0], q[4])\n",
    "            x.ctrl(q[1], q[4])\n",
    "            x.ctrl(q[5], q[1])\n",
    "            x.ctrl(q[5], q[2])\n",
    "            x.ctrl(q[2], q[4])\n",
    "            x.ctrl(q[3], q[4])\n",
    "            x.ctrl(q[5], q[3])\n",
    "            bit0s = mz(q[4])\n",
    "            h(q[5])\n",
    "            bit1s = mz(q[5])\n",
    "    exp_pauli(coeffs[4] * k + beta, q, \"IZIZII\")\n",
    "    # FT measurement\n",
    "    reset(q[4])\n",
    "    reset(q[5])\n",
    "    x.ctrl(q[0], q[4])\n",
    "    h(q[5])\n",
    "    x.ctrl(q[5], q[4])\n",
    "    x.ctrl(q[1], q[4])\n",
    "    x.ctrl(q[2], q[4])\n",
    "    x.ctrl(q[5], q[4])\n",
    "    x.ctrl(q[3], q[4])\n",
    "    bit0m = mz(q[4])\n",
    "    h(q[5])\n",
    "    bit1m = mz(q[5])\n",
    "    # Final Measurements\n",
    "    h(q)\n",
    "    logical_qubits_and_flags = mz(q)"
   ]
  },
  {
   "cell_type": "code",
   "execution_count": 6,
   "metadata": {},
   "outputs": [],
   "source": [
    "from math import pi\n",
    "\n",
    "coefficients = np.array(\n",
    "    [\n",
    "        -pi / 2 * c\n",
    "        for c in [CZ * DELTAT, -CZ * DELTAT, CX * DELTAT, CX * DELTAT, -CI * DELTAT]\n",
    "    ],\n",
    "    dtype=np.float64,\n",
    ")"
   ]
  },
  {
   "cell_type": "code",
   "execution_count": 9,
   "metadata": {},
   "outputs": [
    {
     "name": "stdout",
     "output_type": "stream",
     "text": [
      "{ \n",
      "  __global__ : { 000000:6 000001:8 000010:4 000011:9 001100:5 001101:2 001110:6 001111:4 010100:1 010101:3 010111:1 011000:2 011001:1 011011:2 100100:2 100110:1 101000:2 101001:1 101011:3 110000:7 110001:7 110010:5 110011:4 111100:4 111101:8 111110:1 111111:1 }\n",
      "   bit0 : { 0:100 }\n",
      "   bit0m : { 0:100 }\n",
      "   bit0s : { 0:100 }\n",
      "   bit1 : { 0:100 }\n",
      "   bit1m : { 0:100 }\n",
      "   bit1s : { 0:100 }\n",
      "   logical_qubits_and_flags : { 000000:6 000001:8 000010:4 000011:9 001100:5 001101:2 001110:6 001111:4 010100:1 010101:3 010111:1 011000:2 011001:1 011011:2 100100:2 100110:1 101000:2 101001:1 101011:3 110000:7 110001:7 110010:5 110011:4 111100:4 111101:8 111110:1 111111:1 }\n",
      "}\n"
     ]
    }
   ],
   "source": [
    "counts = cudaq.sample(qpe_iceberg, 2, -0.07, 1, coefficients, explicit_measurements=False, shots_count=100)\n",
    "counts.dump()"
   ]
  },
  {
   "cell_type": "code",
   "execution_count": 12,
   "metadata": {},
   "outputs": [
    {
     "name": "stdout",
     "output_type": "stream",
     "text": [
      "bitstring = 011001, count = 1\n",
      "bitstring = 000010, count = 4\n",
      "bitstring = 110011, count = 4\n",
      "bitstring = 010111, count = 1\n",
      "bitstring = 010100, count = 1\n",
      "bitstring = 010101, count = 3\n",
      "bitstring = 001111, count = 4\n",
      "bitstring = 111110, count = 1\n",
      "bitstring = 001100, count = 5\n",
      "bitstring = 011000, count = 2\n",
      "bitstring = 011011, count = 2\n",
      "bitstring = 001101, count = 2\n",
      "bitstring = 000011, count = 9\n",
      "bitstring = 000001, count = 8\n",
      "bitstring = 111111, count = 1\n",
      "bitstring = 110010, count = 5\n",
      "bitstring = 111100, count = 4\n",
      "bitstring = 111101, count = 8\n",
      "bitstring = 110000, count = 7\n",
      "bitstring = 101011, count = 3\n",
      "bitstring = 101001, count = 1\n",
      "bitstring = 100100, count = 2\n",
      "bitstring = 000000, count = 6\n",
      "bitstring = 001110, count = 6\n",
      "bitstring = 101000, count = 2\n",
      "bitstring = 110001, count = 7\n",
      "bitstring = 100110, count = 1\n"
     ]
    }
   ],
   "source": [
    "for b, c in counts.get_register_counts(\"logical_qubits_and_flags\").items():\n",
    "    print(f\"bitstring = {b}, count = {c}\")"
   ]
  },
  {
   "cell_type": "markdown",
   "metadata": {},
   "source": [
    " ## Create and sample shots from the circuits"
   ]
  },
  {
   "cell_type": "code",
   "execution_count": 14,
   "metadata": {},
   "outputs": [],
   "source": [
    "# Execute the QPE circuits.\n",
    "results = []\n",
    "for k,b in zip(k_list,beta_list):\n",
    "    rb = -pi/2*b  # rescaling needed for beta\n",
    "    results.append(cudaq.sample(qpe_iceberg, k, rb, 6, coefficients, shots_count=1))"
   ]
  },
  {
   "cell_type": "code",
   "execution_count": 15,
   "metadata": {},
   "outputs": [
    {
     "name": "stdout",
     "output_type": "stream",
     "text": [
      "{ \n",
      "  __global__ : { 100110:1 }\n",
      "   bit0 : { 0:1 }\n",
      "   bit0m : { 0:1 }\n",
      "   bit0s : { 0:1 }\n",
      "   bit1 : { 0:1 }\n",
      "   bit1m : { 0:1 }\n",
      "   bit1s : { 0:1 }\n",
      "   logical_qubits_and_flags : { 100110:1 }\n",
      "}\n"
     ]
    }
   ],
   "source": [
    "results[0].dump()"
   ]
  },
  {
   "cell_type": "markdown",
   "metadata": {},
   "source": [
    "We write a helper function to translate the CUDA-Q `SampleResult` into the pytket `BackendResult`"
   ]
  },
  {
   "cell_type": "code",
   "execution_count": 28,
   "metadata": {},
   "outputs": [],
   "source": [
    "from pytket import Bit\n",
    "from pytket.backends.backendresult import BackendResult\n",
    "from pytket.utils.outcomearray import OutcomeArray\n",
    "from typing import Counter\n",
    "\n",
    "\n",
    "def get_decoded_result(result: cudaq.SampleResult) -> BackendResult:\n",
    "    logical_counts = Counter()\n",
    "    # check FT state preparation flags\n",
    "    prep0 = result.get_sequential_data(\"bit0\")\n",
    "    prep1 = result.get_sequential_data(\"bit1\")\n",
    "    # check FT measurement flags\n",
    "    meas0 = result.get_sequential_data(\"bit0m\")\n",
    "    meas1 = result.get_sequential_data(\"bit1m\")\n",
    "    # check syndrome measurements if present\n",
    "    try:\n",
    "        syn0 = result.get_sequential_data(\"bit0s\")\n",
    "        syn1 = result.get_sequential_data(\"bit1s\")\n",
    "    except RuntimeError:\n",
    "        syn0 = [\"0\"] * len(prep0)\n",
    "        syn1 = [\"0\"] * len(prep1)\n",
    "\n",
    "    for p0, p1, m0, m1, s0, s1 in zip(\n",
    "        prep0,\n",
    "        prep1,\n",
    "        meas0,\n",
    "        meas1,\n",
    "        syn0,\n",
    "        syn1,\n",
    "    ):\n",
    "        check_prep = int(p0) or int(p1)\n",
    "        check_meas = int(m0) or int(m1)\n",
    "        check_syn = int(s0) or int(s1)\n",
    "        if check_prep or check_syn or check_meas:\n",
    "            print(\n",
    "                f\"Flagged Error detected! Discard [FT Prep: {check_prep} | Syn: {check_syn} | FT Meas: {check_meas}]\"\n",
    "            )\n",
    "            continue\n",
    "        else:\n",
    "            # if no error detected, proceed to decode the logical readout\n",
    "            logical = result.get_register_counts(\"logical_qubits_and_flags\")\n",
    "            for bitstring, counts in logical.items():\n",
    "                if (\n",
    "                    int(bitstring[0])\n",
    "                    + int(bitstring[1])\n",
    "                    + int(bitstring[2])\n",
    "                    + int(bitstring[3])\n",
    "                ) % 2 != 0:\n",
    "                    print(\n",
    "                        f\"Parity Error detected! Discard [Logical Bits: {bitstring[:4]}]\"\n",
    "                    )\n",
    "                    continue\n",
    "                logical_readout = tuple(\n",
    "                    [(1 - (-1) ** (int(bitstring[0]) + int(bitstring[1]))) // 2]\n",
    "                )\n",
    "                logical_counts[OutcomeArray.from_readouts([logical_readout])] += counts\n",
    "\n",
    "    logical_result = BackendResult(\n",
    "        counts=logical_counts,\n",
    "        c_bits=[Bit(0)],\n",
    "    )\n",
    "    return logical_result"
   ]
  },
  {
   "cell_type": "code",
   "execution_count": 17,
   "metadata": {},
   "outputs": [],
   "source": [
    "# Interpret the encoded results back in the logical space.\n",
    "logical_results = [get_decoded_result(r) for r in results]\n"
   ]
  },
  {
   "cell_type": "markdown",
   "metadata": {},
   "source": [
    "## Post-process the results using utility functions performing the Bayesian Maximum Likelihood computation"
   ]
  },
  {
   "cell_type": "code",
   "execution_count": 18,
   "metadata": {},
   "outputs": [],
   "source": [
    "from algorithm import get_mu_and_sigma, bayesian_update\n",
    "\n",
    "\n",
    "# Prepare the uniform prior distribution.\n",
    "n_grid_points = 2**14\n",
    "phi = np.linspace(-1, 1, n_grid_points + 1)[:-1]\n",
    "prior = np.ones_like(phi)\n",
    "\n",
    "posterior = bayesian_update(\n",
    "    phi,\n",
    "    prior,\n",
    "    k_list,\n",
    "    beta_list,\n",
    "    logical_results,\n",
    "    error_rate=error_rate_func,\n",
    ")"
   ]
  },
  {
   "cell_type": "code",
   "execution_count": 19,
   "metadata": {},
   "outputs": [
    {
     "name": "stdout",
     "output_type": "stream",
     "text": [
      "Energy estimate =    -1.07848 Ha\n",
      "Energy sigma    =     0.04663 Ha\n",
      "FCI energy      =    -1.13731 Ha\n"
     ]
    }
   ],
   "source": [
    "mu, sigma = get_mu_and_sigma(posterior, phi=phi)\n",
    "mu_energy = -mu / DELTAT\n",
    "sigma_energy = sigma / DELTAT\n",
    "print(f\"Energy estimate = {mu_energy:11.5f} Ha\")\n",
    "print(f\"Energy sigma    = {sigma_energy:11.5f} Ha\")\n",
    "print(f\"FCI energy      = {FCI_ENERGY:11.5f} Ha\")"
   ]
  },
  {
   "cell_type": "markdown",
   "metadata": {},
   "source": [
    "### Plot probability distribution"
   ]
  },
  {
   "cell_type": "code",
   "execution_count": 20,
   "metadata": {},
   "outputs": [
    {
     "data": {
      "text/plain": [
       "<matplotlib.legend.Legend at 0xfffebc104ca0>"
      ]
     },
     "execution_count": 20,
     "metadata": {},
     "output_type": "execute_result"
    },
    {
     "data": {
      "image/png": "[encoded data removed]",
      "text/plain": [
       "<Figure size 640x480 with 1 Axes>"
      ]
     },
     "metadata": {},
     "output_type": "display_data"
    }
   ],
   "source": [
    "import matplotlib.pyplot as plt\n",
    "\n",
    "x_energy = -phi / DELTAT\n",
    "plt.plot(x_energy, posterior, \"k-\")\n",
    "plt.xlim([-1.2,-1.0])\n",
    "plt.plot(FCI_ENERGY, 0, \"r^\", label=\"Reference value\")\n",
    "plt.xlabel(r\"Energy $E$ / hartree\")\n",
    "plt.ylabel(r\"Probability distribuition $P(E)$\")\n",
    "plt.legend()"
   ]
  },
  {
   "cell_type": "markdown",
   "metadata": {},
   "source": [
    "## Noisy Simulations\n",
    "\n",
    "We can repeat the simulation above after introducing a noise model for the gate operations. We can use some functions from [this example](https://nvidia.github.io/cuda-quantum/latest/applications/python/logical_aim_sqale.html#Running-a-CUDA-Q-noisy-simulation) in the `cuda-q` documentation"
   ]
  },
  {
   "cell_type": "code",
   "execution_count": 21,
   "metadata": {},
   "outputs": [],
   "source": [
    "def get_device_noise(\n",
    "    depolar_prob_1q: float,\n",
    "    depolar_prob_2q: float,\n",
    "    *,\n",
    "    readout_error_prob: float | None = None,\n",
    "    custom_gates: list[str] | None = None,\n",
    ") -> cudaq.mlir._mlir_libs._quakeDialects.cudaq_runtime.NoiseModel:\n",
    "    noise = cudaq.NoiseModel()\n",
    "    depolar_noise = cudaq.DepolarizationChannel(depolar_prob_1q)\n",
    "\n",
    "    noisy_ops = [\"z\", \"s\", \"x\", \"h\", \"rx\", \"rz\"]\n",
    "    for op in noisy_ops:\n",
    "        noise.add_all_qubit_channel(op, depolar_noise)\n",
    "\n",
    "    if custom_gates:\n",
    "        custom_depolar_channel = cudaq.DepolarizationChannel(depolar_prob_1q)\n",
    "        for op in custom_gates:\n",
    "            noise.add_all_qubit_channel(op, custom_depolar_channel)\n",
    "\n",
    "    # Two qubit depolarization error\n",
    "    p_0 = 1 - depolar_prob_2q\n",
    "    p_1 = np.sqrt((1 - p_0**2) / 3)\n",
    "\n",
    "    k0 = np.array(\n",
    "        [[p_0, 0.0, 0.0, 0.0], [0.0, p_0, 0.0, 0.0], [0.0, 0.0, p_0, 0.0], [0.0, 0.0, 0.0, p_0]],\n",
    "        dtype=np.complex128,\n",
    "    )\n",
    "    k1 = np.array(\n",
    "        [[0.0, 0.0, p_1, 0.0], [0.0, 0.0, 0.0, p_1], [p_1, 0.0, 0.0, 0.0], [0.0, p_1, 0.0, 0.0]],\n",
    "        dtype=np.complex128,\n",
    "    )\n",
    "    k2 = np.array(\n",
    "        [\n",
    "            [0.0, 0.0, -1j * p_1, 0.0],\n",
    "            [0.0, 0.0, 0.0, -1j * p_1],\n",
    "            [1j * p_1, 0.0, 0.0, 0.0],\n",
    "            [0.0, 1j * p_1, 0.0, 0.0],\n",
    "        ],\n",
    "        dtype=np.complex128,\n",
    "    )\n",
    "    k3 = np.array(\n",
    "        [[p_1, 0.0, 0.0, 0.0], [0.0, p_1, 0.0, 0.0], [0.0, 0.0, -p_1, 0.0], [0.0, 0.0, 0.0, -p_1]],\n",
    "        dtype=np.complex128,\n",
    "    )\n",
    "    kraus_channel = cudaq.KrausChannel([k0, k1, k2, k3])\n",
    "\n",
    "    noise.add_all_qubit_channel(\"cz\", kraus_channel)\n",
    "    noise.add_all_qubit_channel(\"cx\", kraus_channel)\n",
    "\n",
    "    if readout_error_prob is not None:\n",
    "        # Readout error modeled with a Bit flip channel on identity before measurement\n",
    "        bit_flip = cudaq.BitFlipChannel(readout_error_prob)\n",
    "        noise.add_all_qubit_channel(\"mz\", bit_flip)\n",
    "    return noise"
   ]
  },
  {
   "cell_type": "markdown",
   "metadata": {},
   "source": [
    "The next cell builds a custom noise model that can be used by `cuda-q`"
   ]
  },
  {
   "cell_type": "code",
   "execution_count": 22,
   "metadata": {},
   "outputs": [],
   "source": [
    "# Example parameters that can model execution on hardware at the high, simulation, level:\n",
    "# Take single-qubit gate depolarization rate: ~0.01% or better (fidelity ≥99.99%)\n",
    "# Take two-qubit gate depolarization rate: ~0.1% (fidelity ~99.9%)\n",
    "cudaq_noise_model = get_device_noise(0.0001, 0.001, readout_error_prob=0.001)"
   ]
  },
  {
   "cell_type": "markdown",
   "metadata": {},
   "source": [
    "A simulator that can use the noise model is the `density-matrix-cpu` target"
   ]
  },
  {
   "cell_type": "code",
   "execution_count": 23,
   "metadata": {},
   "outputs": [],
   "source": [
    "# this is needed for noisy simulations\n",
    "cudaq.reset_target()\n",
    "cudaq.set_target(\"density-matrix-cpu\")"
   ]
  },
  {
   "cell_type": "markdown",
   "metadata": {},
   "source": [
    "Since we have a noisy backend, we can improve our information theoretic QPE algorithm by telling our likelihood that our gates are noisy."
   ]
  },
  {
   "cell_type": "code",
   "execution_count": null,
   "metadata": {},
   "outputs": [],
   "source": [
    "# Prepare the samples of (k, beta).\n",
    "k_max = 16\n",
    "n_samples = 100  # this will set how many circuits we need to run for the QPE\n",
    "error_rate = 0.002 # this is for the custom noise model above: we consider a factor of 2 because we have 2 TQ gates in each controlled-U step\n",
    "\n",
    "\n",
    "def error_rate_func(k: int) -> float:\n",
    "    q = 1 - (1 - error_rate) ** k\n",
    "    return q\n",
    "\n",
    "\n",
    "k_list = generate_ks(k_max, n_samples, error_rate=error_rate_func)\n",
    "beta_list = (1 - 2 * np.random.random(size=n_samples)).tolist()\n"
   ]
  },
  {
   "cell_type": "code",
   "execution_count": 25,
   "metadata": {},
   "outputs": [],
   "source": [
    "# Execute the QPE circuits.\n",
    "noisy_results = []\n",
    "for k, b in zip(k_list, beta_list):\n",
    "    rb = -pi / 2 * b  # rescaling needed for beta\n",
    "    noisy_results.append(\n",
    "        cudaq.sample(\n",
    "            qpe_iceberg,\n",
    "            k,\n",
    "            rb,\n",
    "            4,\n",
    "            coefficients,\n",
    "            shots_count=1,\n",
    "            noise_model=cudaq_noise_model,\n",
    "        )\n",
    "    )"
   ]
  },
  {
   "cell_type": "markdown",
   "metadata": {},
   "source": [
    "We now decode the measurement flags and bitstrings, discarding shots with an error:"
   ]
  },
  {
   "cell_type": "code",
   "execution_count": 29,
   "metadata": {},
   "outputs": [
    {
     "name": "stdout",
     "output_type": "stream",
     "text": [
      "Flagged Error detected! Discard [FT Prep: 0 | Syn: 1 | FT Meas: 1]\n",
      "Flagged Error detected! Discard [FT Prep: 0 | Syn: 0 | FT Meas: 1]\n",
      "Flagged Error detected! Discard [FT Prep: 0 | Syn: 0 | FT Meas: 1]\n",
      "Flagged Error detected! Discard [FT Prep: 0 | Syn: 1 | FT Meas: 1]\n",
      "Flagged Error detected! Discard [FT Prep: 0 | Syn: 0 | FT Meas: 1]\n",
      "Flagged Error detected! Discard [FT Prep: 0 | Syn: 1 | FT Meas: 0]\n",
      "Flagged Error detected! Discard [FT Prep: 0 | Syn: 0 | FT Meas: 1]\n",
      "Flagged Error detected! Discard [FT Prep: 0 | Syn: 1 | FT Meas: 1]\n",
      "Flagged Error detected! Discard [FT Prep: 0 | Syn: 1 | FT Meas: 0]\n",
      "Flagged Error detected! Discard [FT Prep: 0 | Syn: 1 | FT Meas: 1]\n",
      "Flagged Error detected! Discard [FT Prep: 0 | Syn: 1 | FT Meas: 0]\n",
      "Flagged Error detected! Discard [FT Prep: 0 | Syn: 1 | FT Meas: 1]\n",
      "Flagged Error detected! Discard [FT Prep: 0 | Syn: 1 | FT Meas: 1]\n",
      "Flagged Error detected! Discard [FT Prep: 0 | Syn: 1 | FT Meas: 1]\n",
      "Flagged Error detected! Discard [FT Prep: 0 | Syn: 0 | FT Meas: 1]\n",
      "Flagged Error detected! Discard [FT Prep: 0 | Syn: 0 | FT Meas: 1]\n",
      "Flagged Error detected! Discard [FT Prep: 0 | Syn: 1 | FT Meas: 1]\n",
      "Flagged Error detected! Discard [FT Prep: 0 | Syn: 0 | FT Meas: 1]\n",
      "Flagged Error detected! Discard [FT Prep: 0 | Syn: 1 | FT Meas: 0]\n",
      "Parity Error detected! Discard [Logical Bits: 0111]\n",
      "Flagged Error detected! Discard [FT Prep: 0 | Syn: 1 | FT Meas: 0]\n",
      "Flagged Error detected! Discard [FT Prep: 0 | Syn: 0 | FT Meas: 1]\n",
      "Parity Error detected! Discard [Logical Bits: 1000]\n",
      "Flagged Error detected! Discard [FT Prep: 0 | Syn: 1 | FT Meas: 0]\n",
      "Flagged Error detected! Discard [FT Prep: 0 | Syn: 1 | FT Meas: 0]\n"
     ]
    }
   ],
   "source": [
    "# Interpret the encoded results back in the logical space.\n",
    "logical_results = [get_decoded_result(r) for r in noisy_results]"
   ]
  },
  {
   "cell_type": "markdown",
   "metadata": {},
   "source": [
    "We have about 20% discard rate at this noise level and for these deep circuits"
   ]
  },
  {
   "cell_type": "code",
   "execution_count": 30,
   "metadata": {},
   "outputs": [],
   "source": [
    "# Prepare the uniform prior distribution.\n",
    "n_grid_points = 2**14\n",
    "phi = np.linspace(-1, 1, n_grid_points + 1)[:-1]\n",
    "prior = np.ones_like(phi)\n",
    "\n",
    "posterior = bayesian_update(\n",
    "    phi,\n",
    "    prior,\n",
    "    k_list,\n",
    "    beta_list,\n",
    "    logical_results,\n",
    "    error_rate=error_rate_func,\n",
    ")"
   ]
  },
  {
   "cell_type": "code",
   "execution_count": 31,
   "metadata": {},
   "outputs": [
    {
     "name": "stdout",
     "output_type": "stream",
     "text": [
      "Energy estimate =    -1.16004 Ha\n",
      "Energy sigma    =     0.03887 Ha\n",
      "FCI energy      =    -1.13731 Ha\n"
     ]
    }
   ],
   "source": [
    "mu, sigma = get_mu_and_sigma(posterior, phi=phi)\n",
    "mu_energy = -mu / DELTAT\n",
    "sigma_energy = sigma / DELTAT\n",
    "print(f\"Energy estimate = {mu_energy:11.5f} Ha\")\n",
    "print(f\"Energy sigma    = {sigma_energy:11.5f} Ha\")\n",
    "print(f\"FCI energy      = {FCI_ENERGY:11.5f} Ha\")"
   ]
  },
  {
   "cell_type": "code",
   "execution_count": 32,
   "metadata": {},
   "outputs": [
    {
     "data": {
      "text/plain": [
       "<matplotlib.legend.Legend at 0xfffeb4502830>"
      ]
     },
     "execution_count": 32,
     "metadata": {},
     "output_type": "execute_result"
    },
    {
     "data": {
      "image/png": "[encoded data removed]",
      "text/plain": [
       "<Figure size 640x480 with 1 Axes>"
      ]
     },
     "metadata": {},
     "output_type": "display_data"
    }
   ],
   "source": [
    "import matplotlib.pyplot as plt\n",
    "\n",
    "x_energy = -phi / DELTAT\n",
    "plt.plot(x_energy, posterior, \"k-\")\n",
    "plt.xlim([-1.2,-1.0])\n",
    "plt.plot(FCI_ENERGY, 0, \"r^\", label=\"Reference value\")\n",
    "plt.xlabel(r\"Energy $E$ / hartree\")\n",
    "plt.ylabel(r\"Probability distribuition $P(E)$\")\n",
    "plt.legend()"
   ]
  },
  {
   "cell_type": "code",
   "execution_count": null,
   "metadata": {},
   "outputs": [],
   "source": []
  }
 ],
 "metadata": {
  "kernelspec": {
   "display_name": "Python 3",
   "language": "python",
   "name": "python3"
  },
  "language_info": {
   "codemirror_mode": {
    "name": "ipython",
    "version": 3
   },
   "file_extension": ".py",
   "mimetype": "text/x-python",
   "name": "python",
   "nbconvert_exporter": "python",
   "pygments_lexer": "ipython3",
   "version": "3.10.12"
  }
 },
 "nbformat": 4,
 "nbformat_minor": 2
}
