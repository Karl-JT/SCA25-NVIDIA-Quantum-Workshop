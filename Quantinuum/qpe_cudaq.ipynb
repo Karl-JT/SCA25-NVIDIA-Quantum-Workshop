{
 "cells": [
  {
   "cell_type": "markdown",
   "metadata": {},
   "source": [
    "# Information Theoretic Quantum Phase Estimation for Hydrogen"
   ]
  },
  {
   "cell_type": "markdown",
   "metadata": {},
   "source": [
    "This is needed to debug `CUDA-Q` calls:"
   ]
  },
  {
   "cell_type": "code",
   "execution_count": null,
   "metadata": {},
   "outputs": [],
   "source": [
    "# import os\n",
    "\n",
    "# os.environ[\"CUDAQ_LOG_LEVEL\"] = \"info\"\n",
    "# os.environ[\"CUDAQ_LOG_LEVEL\"] = \"trace\"\n",
    "\n",
    "!python -m pip install pytket==1.40.0"
   ]
  },
  {
   "cell_type": "markdown",
   "metadata": {},
   "source": [
    "## Using `pytket` to generate a set of circuits: this will be our baseline"
   ]
  },
  {
   "cell_type": "markdown",
   "metadata": {},
   "source": [
    "We rely on the `algorithm` module in the `sca25_demo_qpe` repository:"
   ]
  },
  {
   "cell_type": "code",
   "execution_count": 1,
   "metadata": {},
   "outputs": [],
   "source": [
    "import numpy as np\n",
    "from algorithm import generate_ks"
   ]
  },
  {
   "cell_type": "code",
   "execution_count": 4,
   "metadata": {},
   "outputs": [],
   "source": [
    "# Prepare the samples of (k, beta).\n",
    "k_max = 16\n",
    "n_samples = 50  # this will set how many circuits we need to run for the QPE\n",
    "error_rate = 0.0  # use 0 for noiseless simulations\n",
    "# k_max = 50\n",
    "# n_samples = 250\n",
    "# error_rate = 0.01\n",
    "\n",
    "\n",
    "def error_rate_func(k: int) -> float:\n",
    "    q = 1 - (1 - error_rate) ** k\n",
    "    return q\n",
    "\n",
    "\n",
    "k_list = generate_ks(k_max, n_samples, error_rate=error_rate_func)\n",
    "beta_list = (1 - 2 * np.random.random(size=n_samples)).tolist()\n"
   ]
  },
  {
   "cell_type": "markdown",
   "metadata": {},
   "source": [
    "## Hamiltonian for the tapered 1-qubit Hydrogen molecule: the controlled unitary is directly implemented"
   ]
  },
  {
   "cell_type": "code",
   "execution_count": 6,
   "metadata": {},
   "outputs": [],
   "source": [
    "# 1-qubit controlled Hamiltonian trotterization coefficients\n",
    "CZ = 0.7960489286466914\n",
    "CX = -0.1809233927385484\n",
    "CI = -0.3209561440881913\n",
    "DELTAT = 0.1\n",
    "# Exact energy\n",
    "FCI_ENERGY = -1.13730605"
   ]
  },
  {
   "cell_type": "code",
   "execution_count": 7,
   "metadata": {},
   "outputs": [],
   "source": [
    "from pytket import Circuit\n",
    "from pytket.pauli import Pauli\n",
    "from pytket.circuit import PauliExpBox"
   ]
  },
  {
   "cell_type": "code",
   "execution_count": 8,
   "metadata": {},
   "outputs": [],
   "source": [
    "# ctrl-Unitary: the unitary is U^k where U is e^{-idtH}\n",
    "def get_ctrlu(k: int) -> Circuit:\n",
    "    circ = Circuit(2)\n",
    "    for ii in range(k):\n",
    "        circ.add_pauliexpbox(\n",
    "            PauliExpBox([Pauli.Z], CZ*DELTAT),\n",
    "            [circ.qubits[1]],\n",
    "        )\n",
    "        circ.add_pauliexpbox(\n",
    "            PauliExpBox([Pauli.Z, Pauli.Z], -CZ*DELTAT),\n",
    "            circ.qubits,\n",
    "        )\n",
    "        circ.add_pauliexpbox(\n",
    "            PauliExpBox([Pauli.X], CX*DELTAT),\n",
    "            [circ.qubits[1]],\n",
    "        )\n",
    "        circ.add_pauliexpbox(\n",
    "            PauliExpBox([Pauli.Z, Pauli.X], -CX*DELTAT),\n",
    "            circ.qubits,\n",
    "        )\n",
    "        if (ii + 1) >= k:\n",
    "            break\n",
    "            \n",
    "    circ.add_pauliexpbox(\n",
    "        PauliExpBox([Pauli.Z], -CI*k*DELTAT),\n",
    "        [circ.qubits[0]],\n",
    "    )\n",
    "    return circ"
   ]
  },
  {
   "cell_type": "code",
   "execution_count": 11,
   "metadata": {},
   "outputs": [
    {
     "data": {
      "text/html": [
       "\n",
       "\n",
       "\n",
       "\n",
       "\n",
       "\n",
       "<div style=\"resize: vertical; overflow: auto; height: 400px; display: block\">\n",
       "    <iframe srcdoc=\"\n",
       "&lt;!DOCTYPE html&gt;\n",
       "&lt;html lang=&#34;en&#34;&gt;\n",
       "&lt;head&gt;\n",
       "    &lt;meta charset=&#34;UTF-8&#34;&gt;\n",
       "    &lt;!-- Download Vue 3--&gt;\n",
       "&lt;script type=&#34;application/javascript&#34; src=&#34;https://cdn.jsdelivr.net/npm/vue@3&#34;&gt;&lt;/script&gt;\n",
       "&lt;!-- Download Circuit Renderer with styles --&gt;\n",
       "&lt;script type=&#34;application/javascript&#34; src=&#34;https://unpkg.com/pytket-circuit-renderer@0.10/dist/pytket-circuit-renderer.umd.js&#34;&gt;&lt;/script&gt;\n",
       "&lt;link rel=&#34;stylesheet&#34; href=&#34;https://unpkg.com/pytket-circuit-renderer@0.10/dist/pytket-circuit-renderer.css&#34;&gt;\n",
       "&lt;/head&gt;\n",
       "&lt;body&gt;\n",
       "\n",
       "\n",
       "    &lt;div id=&#34;circuit-display-vue-container-e7ce6ce1-963a-4997-81db-d526e402373f&#34; class=&#34;pytket-circuit-display-container&#34;&gt;\n",
       "        &lt;div style=&#34;display: none&#34;&gt;\n",
       "            &lt;div id=&#34;circuit-json-to-display&#34;&gt;{&#34;bits&#34;: [], &#34;commands&#34;: [{&#34;args&#34;: [[&#34;q&#34;, [1]]], &#34;op&#34;: {&#34;box&#34;: {&#34;cx_config&#34;: &#34;Tree&#34;, &#34;id&#34;: &#34;d1816d39-e0ce-4600-ab2d-0eb2c4caf7a8&#34;, &#34;paulis&#34;: [&#34;Z&#34;], &#34;phase&#34;: &#34;0.0796048928646692&#34;, &#34;type&#34;: &#34;PauliExpBox&#34;}, &#34;type&#34;: &#34;PauliExpBox&#34;}}, {&#34;args&#34;: [[&#34;q&#34;, [0]], [&#34;q&#34;, [1]]], &#34;op&#34;: {&#34;box&#34;: {&#34;cx_config&#34;: &#34;Tree&#34;, &#34;id&#34;: &#34;f62c047d-ccb7-486e-a56b-06ea5dc6b5f8&#34;, &#34;paulis&#34;: [&#34;Z&#34;, &#34;Z&#34;], &#34;phase&#34;: &#34;-0.0796048928646692&#34;, &#34;type&#34;: &#34;PauliExpBox&#34;}, &#34;type&#34;: &#34;PauliExpBox&#34;}}, {&#34;args&#34;: [[&#34;q&#34;, [1]]], &#34;op&#34;: {&#34;box&#34;: {&#34;cx_config&#34;: &#34;Tree&#34;, &#34;id&#34;: &#34;9f4074fd-942b-4050-a6e5-543a174c9de9&#34;, &#34;paulis&#34;: [&#34;X&#34;], &#34;phase&#34;: &#34;-0.0180923392738548&#34;, &#34;type&#34;: &#34;PauliExpBox&#34;}, &#34;type&#34;: &#34;PauliExpBox&#34;}}, {&#34;args&#34;: [[&#34;q&#34;, [0]], [&#34;q&#34;, [1]]], &#34;op&#34;: {&#34;box&#34;: {&#34;cx_config&#34;: &#34;Tree&#34;, &#34;id&#34;: &#34;e70b9f8b-eeae-4d7c-a119-c3e2296e6fff&#34;, &#34;paulis&#34;: [&#34;Z&#34;, &#34;X&#34;], &#34;phase&#34;: &#34;0.0180923392738548&#34;, &#34;type&#34;: &#34;PauliExpBox&#34;}, &#34;type&#34;: &#34;PauliExpBox&#34;}}, {&#34;args&#34;: [[&#34;q&#34;, [1]]], &#34;op&#34;: {&#34;box&#34;: {&#34;cx_config&#34;: &#34;Tree&#34;, &#34;id&#34;: &#34;b6f9008d-20ea-4895-9a20-695eac1c5f09&#34;, &#34;paulis&#34;: [&#34;Z&#34;], &#34;phase&#34;: &#34;0.0796048928646692&#34;, &#34;type&#34;: &#34;PauliExpBox&#34;}, &#34;type&#34;: &#34;PauliExpBox&#34;}}, {&#34;args&#34;: [[&#34;q&#34;, [0]], [&#34;q&#34;, [1]]], &#34;op&#34;: {&#34;box&#34;: {&#34;cx_config&#34;: &#34;Tree&#34;, &#34;id&#34;: &#34;ed887e55-06ec-49b5-9729-2dba924ea97a&#34;, &#34;paulis&#34;: [&#34;Z&#34;, &#34;Z&#34;], &#34;phase&#34;: &#34;-0.0796048928646692&#34;, &#34;type&#34;: &#34;PauliExpBox&#34;}, &#34;type&#34;: &#34;PauliExpBox&#34;}}, {&#34;args&#34;: [[&#34;q&#34;, [1]]], &#34;op&#34;: {&#34;box&#34;: {&#34;cx_config&#34;: &#34;Tree&#34;, &#34;id&#34;: &#34;ec161f5d-60f0-4b65-b7a2-ed04c1a307c5&#34;, &#34;paulis&#34;: [&#34;X&#34;], &#34;phase&#34;: &#34;-0.0180923392738548&#34;, &#34;type&#34;: &#34;PauliExpBox&#34;}, &#34;type&#34;: &#34;PauliExpBox&#34;}}, {&#34;args&#34;: [[&#34;q&#34;, [0]], [&#34;q&#34;, [1]]], &#34;op&#34;: {&#34;box&#34;: {&#34;cx_config&#34;: &#34;Tree&#34;, &#34;id&#34;: &#34;42fa8363-b800-4b04-a30f-46f54f660dbf&#34;, &#34;paulis&#34;: [&#34;Z&#34;, &#34;X&#34;], &#34;phase&#34;: &#34;0.0180923392738548&#34;, &#34;type&#34;: &#34;PauliExpBox&#34;}, &#34;type&#34;: &#34;PauliExpBox&#34;}}, {&#34;args&#34;: [[&#34;q&#34;, [0]]], &#34;op&#34;: {&#34;box&#34;: {&#34;cx_config&#34;: &#34;Tree&#34;, &#34;id&#34;: &#34;a4e15ff6-ba4b-4bc0-a1cd-7b6908fdadee&#34;, &#34;paulis&#34;: [&#34;Z&#34;], &#34;phase&#34;: &#34;0.0641912288176383&#34;, &#34;type&#34;: &#34;PauliExpBox&#34;}, &#34;type&#34;: &#34;PauliExpBox&#34;}}], &#34;created_qubits&#34;: [], &#34;discarded_qubits&#34;: [], &#34;implicit_permutation&#34;: [[[&#34;q&#34;, [0]], [&#34;q&#34;, [0]]], [[&#34;q&#34;, [1]], [&#34;q&#34;, [1]]]], &#34;phase&#34;: &#34;0.0&#34;, &#34;qubits&#34;: [[&#34;q&#34;, [0]], [&#34;q&#34;, [1]]]}&lt;/div&gt;\n",
       "        &lt;/div&gt;\n",
       "        &lt;circuit-display-container\n",
       "                :circuit-element-str=&#34;&#39;#circuit-json-to-display&#39;&#34;\n",
       "                :init-render-options=&#34;initRenderOptions&#34;\n",
       "                view-format=&#34;None&#34;\n",
       "        &gt;&lt;/circuit-display-container&gt;\n",
       "    &lt;/div&gt;\n",
       "    &lt;script type=&#34;application/javascript&#34;&gt;\n",
       "      const circuitRendererUid = &#34;e7ce6ce1-963a-4997-81db-d526e402373f&#34;;\n",
       "      const displayOptions = JSON.parse(&#39;{}&#39;);\n",
       "\n",
       "      // Script to initialise the circuit renderer app\n",
       "\n",
       "const { createApp } = Vue;\n",
       "const circuitDisplayContainer = window[&#34;pytket-circuit-renderer&#34;].default;\n",
       "// Init variables to be shared between circuit display instances\n",
       "if (typeof window.pytketCircuitDisplays === &#34;undefined&#34;) {\n",
       "    window.pytketCircuitDisplays = {};\n",
       "}\n",
       "// Create the root Vue component\n",
       "const app = createApp({\n",
       "    delimiters: [&#39;[[#&#39;, &#39;#]]&#39;],\n",
       "    components: { circuitDisplayContainer },\n",
       "    data () {\n",
       "      return {\n",
       "        initRenderOptions: displayOptions,\n",
       "      }\n",
       "    }\n",
       "})\n",
       "app.config.unwrapInjectedRef = true;\n",
       "app.mount(&#34;#circuit-display-vue-container-&#34;+circuitRendererUid);\n",
       "window.pytketCircuitDisplays[circuitRendererUid] = app;\n",
       "    &lt;/script&gt;\n",
       "\n",
       "\n",
       "\n",
       "&lt;/body&gt;\n",
       "&lt;/html&gt;\n",
       "\"\n",
       "            width=\"100%\" height=\"100%\"\n",
       "            style=\"border: none; outline: none; overflow: auto\"></iframe>\n",
       "</div>\n",
       "\n"
      ],
      "text/plain": [
       "<IPython.core.display.HTML object>"
      ]
     },
     "metadata": {},
     "output_type": "display_data"
    }
   ],
   "source": [
    "from pytket.circuit.display import render_circuit_jupyter as draw \n",
    "\n",
    "circ = get_ctrlu(2)\n",
    "draw(circ)"
   ]
  },
  {
   "cell_type": "code",
   "execution_count": 12,
   "metadata": {},
   "outputs": [
    {
     "name": "stdout",
     "output_type": "stream",
     "text": [
      "[ 0.995-0.101j -0.   -0.j     0.   +0.j     0.   +0.j   ]\n"
     ]
    }
   ],
   "source": [
    "print(circ.get_statevector().round(3))"
   ]
  },
  {
   "cell_type": "code",
   "execution_count": 13,
   "metadata": {},
   "outputs": [
    {
     "data": {
      "text/html": [
       "\n",
       "\n",
       "\n",
       "\n",
       "\n",
       "\n",
       "<div style=\"resize: vertical; overflow: auto; height: 400px; display: block\">\n",
       "    <iframe srcdoc=\"\n",
       "&lt;!DOCTYPE html&gt;\n",
       "&lt;html lang=&#34;en&#34;&gt;\n",
       "&lt;head&gt;\n",
       "    &lt;meta charset=&#34;UTF-8&#34;&gt;\n",
       "    &lt;!-- Download Vue 3--&gt;\n",
       "&lt;script type=&#34;application/javascript&#34; src=&#34;https://cdn.jsdelivr.net/npm/vue@3&#34;&gt;&lt;/script&gt;\n",
       "&lt;!-- Download Circuit Renderer with styles --&gt;\n",
       "&lt;script type=&#34;application/javascript&#34; src=&#34;https://unpkg.com/pytket-circuit-renderer@0.10/dist/pytket-circuit-renderer.umd.js&#34;&gt;&lt;/script&gt;\n",
       "&lt;link rel=&#34;stylesheet&#34; href=&#34;https://unpkg.com/pytket-circuit-renderer@0.10/dist/pytket-circuit-renderer.css&#34;&gt;\n",
       "&lt;/head&gt;\n",
       "&lt;body&gt;\n",
       "\n",
       "\n",
       "    &lt;div id=&#34;circuit-display-vue-container-442be43a-7d14-460f-9898-d1e51bf53e05&#34; class=&#34;pytket-circuit-display-container&#34;&gt;\n",
       "        &lt;div style=&#34;display: none&#34;&gt;\n",
       "            &lt;div id=&#34;circuit-json-to-display&#34;&gt;{&#34;bits&#34;: [], &#34;commands&#34;: [{&#34;args&#34;: [[&#34;q&#34;, [1]]], &#34;op&#34;: {&#34;params&#34;: [&#34;0.0796048928646692&#34;], &#34;type&#34;: &#34;Rz&#34;}}, {&#34;args&#34;: [[&#34;q&#34;, [1]], [&#34;q&#34;, [0]]], &#34;op&#34;: {&#34;type&#34;: &#34;CX&#34;}}, {&#34;args&#34;: [[&#34;q&#34;, [0]]], &#34;op&#34;: {&#34;params&#34;: [&#34;-0.0796048928646692&#34;], &#34;type&#34;: &#34;Rz&#34;}}, {&#34;args&#34;: [[&#34;q&#34;, [1]], [&#34;q&#34;, [0]]], &#34;op&#34;: {&#34;type&#34;: &#34;CX&#34;}}, {&#34;args&#34;: [[&#34;q&#34;, [1]]], &#34;op&#34;: {&#34;type&#34;: &#34;H&#34;}}, {&#34;args&#34;: [[&#34;q&#34;, [1]]], &#34;op&#34;: {&#34;params&#34;: [&#34;-0.0180923392738548&#34;], &#34;type&#34;: &#34;Rz&#34;}}, {&#34;args&#34;: [[&#34;q&#34;, [1]]], &#34;op&#34;: {&#34;type&#34;: &#34;H&#34;}}, {&#34;args&#34;: [[&#34;q&#34;, [1]]], &#34;op&#34;: {&#34;type&#34;: &#34;H&#34;}}, {&#34;args&#34;: [[&#34;q&#34;, [1]], [&#34;q&#34;, [0]]], &#34;op&#34;: {&#34;type&#34;: &#34;CX&#34;}}, {&#34;args&#34;: [[&#34;q&#34;, [0]]], &#34;op&#34;: {&#34;params&#34;: [&#34;0.0180923392738548&#34;], &#34;type&#34;: &#34;Rz&#34;}}, {&#34;args&#34;: [[&#34;q&#34;, [1]], [&#34;q&#34;, [0]]], &#34;op&#34;: {&#34;type&#34;: &#34;CX&#34;}}, {&#34;args&#34;: [[&#34;q&#34;, [1]]], &#34;op&#34;: {&#34;type&#34;: &#34;H&#34;}}, {&#34;args&#34;: [[&#34;q&#34;, [1]]], &#34;op&#34;: {&#34;params&#34;: [&#34;0.0796048928646692&#34;], &#34;type&#34;: &#34;Rz&#34;}}, {&#34;args&#34;: [[&#34;q&#34;, [1]], [&#34;q&#34;, [0]]], &#34;op&#34;: {&#34;type&#34;: &#34;CX&#34;}}, {&#34;args&#34;: [[&#34;q&#34;, [0]]], &#34;op&#34;: {&#34;params&#34;: [&#34;-0.0796048928646692&#34;], &#34;type&#34;: &#34;Rz&#34;}}, {&#34;args&#34;: [[&#34;q&#34;, [1]], [&#34;q&#34;, [0]]], &#34;op&#34;: {&#34;type&#34;: &#34;CX&#34;}}, {&#34;args&#34;: [[&#34;q&#34;, [1]]], &#34;op&#34;: {&#34;type&#34;: &#34;H&#34;}}, {&#34;args&#34;: [[&#34;q&#34;, [1]]], &#34;op&#34;: {&#34;params&#34;: [&#34;-0.0180923392738548&#34;], &#34;type&#34;: &#34;Rz&#34;}}, {&#34;args&#34;: [[&#34;q&#34;, [1]]], &#34;op&#34;: {&#34;type&#34;: &#34;H&#34;}}, {&#34;args&#34;: [[&#34;q&#34;, [1]]], &#34;op&#34;: {&#34;type&#34;: &#34;H&#34;}}, {&#34;args&#34;: [[&#34;q&#34;, [1]], [&#34;q&#34;, [0]]], &#34;op&#34;: {&#34;type&#34;: &#34;CX&#34;}}, {&#34;args&#34;: [[&#34;q&#34;, [0]]], &#34;op&#34;: {&#34;params&#34;: [&#34;0.0180923392738548&#34;], &#34;type&#34;: &#34;Rz&#34;}}, {&#34;args&#34;: [[&#34;q&#34;, [1]], [&#34;q&#34;, [0]]], &#34;op&#34;: {&#34;type&#34;: &#34;CX&#34;}}, {&#34;args&#34;: [[&#34;q&#34;, [0]]], &#34;op&#34;: {&#34;params&#34;: [&#34;0.0641912288176383&#34;], &#34;type&#34;: &#34;Rz&#34;}}, {&#34;args&#34;: [[&#34;q&#34;, [1]]], &#34;op&#34;: {&#34;type&#34;: &#34;H&#34;}}], &#34;created_qubits&#34;: [], &#34;discarded_qubits&#34;: [], &#34;implicit_permutation&#34;: [[[&#34;q&#34;, [0]], [&#34;q&#34;, [0]]], [[&#34;q&#34;, [1]], [&#34;q&#34;, [1]]]], &#34;phase&#34;: &#34;0.0&#34;, &#34;qubits&#34;: [[&#34;q&#34;, [0]], [&#34;q&#34;, [1]]]}&lt;/div&gt;\n",
       "        &lt;/div&gt;\n",
       "        &lt;circuit-display-container\n",
       "                :circuit-element-str=&#34;&#39;#circuit-json-to-display&#39;&#34;\n",
       "                :init-render-options=&#34;initRenderOptions&#34;\n",
       "                view-format=&#34;None&#34;\n",
       "        &gt;&lt;/circuit-display-container&gt;\n",
       "    &lt;/div&gt;\n",
       "    &lt;script type=&#34;application/javascript&#34;&gt;\n",
       "      const circuitRendererUid = &#34;442be43a-7d14-460f-9898-d1e51bf53e05&#34;;\n",
       "      const displayOptions = JSON.parse(&#39;{}&#39;);\n",
       "\n",
       "      // Script to initialise the circuit renderer app\n",
       "\n",
       "const { createApp } = Vue;\n",
       "const circuitDisplayContainer = window[&#34;pytket-circuit-renderer&#34;].default;\n",
       "// Init variables to be shared between circuit display instances\n",
       "if (typeof window.pytketCircuitDisplays === &#34;undefined&#34;) {\n",
       "    window.pytketCircuitDisplays = {};\n",
       "}\n",
       "// Create the root Vue component\n",
       "const app = createApp({\n",
       "    delimiters: [&#39;[[#&#39;, &#39;#]]&#39;],\n",
       "    components: { circuitDisplayContainer },\n",
       "    data () {\n",
       "      return {\n",
       "        initRenderOptions: displayOptions,\n",
       "      }\n",
       "    }\n",
       "})\n",
       "app.config.unwrapInjectedRef = true;\n",
       "app.mount(&#34;#circuit-display-vue-container-&#34;+circuitRendererUid);\n",
       "window.pytketCircuitDisplays[circuitRendererUid] = app;\n",
       "    &lt;/script&gt;\n",
       "\n",
       "\n",
       "\n",
       "&lt;/body&gt;\n",
       "&lt;/html&gt;\n",
       "\"\n",
       "            width=\"100%\" height=\"100%\"\n",
       "            style=\"border: none; outline: none; overflow: auto\"></iframe>\n",
       "</div>\n",
       "\n"
      ],
      "text/plain": [
       "<IPython.core.display.HTML object>"
      ]
     },
     "metadata": {},
     "output_type": "display_data"
    }
   ],
   "source": [
    "from pytket.passes import DecomposeBoxes\n",
    "\n",
    "DecomposeBoxes().apply(circ)\n",
    "draw(circ)"
   ]
  },
  {
   "cell_type": "markdown",
   "metadata": {},
   "source": [
    "## Convert the controlled-unitary circuit to CUDA-Q using `exp_pauli` objects\n",
    "\n",
    "This is a literal translation"
   ]
  },
  {
   "cell_type": "code",
   "execution_count": 17,
   "metadata": {},
   "outputs": [],
   "source": [
    "import cudaq\n",
    "import numpy as np\n",
    "from math import pi"
   ]
  },
  {
   "cell_type": "markdown",
   "metadata": {},
   "source": [
    "`PauliExpBox` is converted to `exp_pauli`"
   ]
  },
  {
   "cell_type": "code",
   "execution_count": 18,
   "metadata": {},
   "outputs": [],
   "source": [
    "# take care of the angle rescaling between `exp_pauli` and `PauliExpBox`\n",
    "coefficients = np.array(\n",
    "    [\n",
    "        -pi / 2 * c\n",
    "        for c in [CZ * DELTAT, -CZ * DELTAT, CX * DELTAT, -CX * DELTAT, -CI * DELTAT]\n",
    "    ],\n",
    "    dtype=np.float64,\n",
    ")\n",
    "\n",
    "# passing float coefficients is the only way to make it work right now\n",
    "@cudaq.kernel\n",
    "def ctrlu(k: int, coeffs: list[float]):\n",
    "    # 2-qubit register\n",
    "    q = cudaq.qvector(2)\n",
    "    # Loop over k\n",
    "    for i in range(k):\n",
    "        exp_pauli(coeffs[0], q, \"IZ\")  # this is the pauli exponential e^{i c I0Z1}\n",
    "        exp_pauli(coeffs[1], q, \"ZZ\")  # this is the pauli exponential e^{i c Z0Z1}\n",
    "        exp_pauli(coeffs[2], q, \"IX\")  # this is the pauli exponential e^{i c I0X1}\n",
    "        exp_pauli(coeffs[3], q, \"ZX\")  # this is the pauli exponential e^{i c Z0X1}\n",
    "    # add final phase\n",
    "    exp_pauli(coeffs[4]*k, q, \"ZI\")  # this is the pauli exponential e^{i c Z0I1}"
   ]
  },
  {
   "cell_type": "markdown",
   "metadata": {},
   "source": [
    "Let's get the statevector on CPU. It matches the amplitude we get from `pytket` on the 00 state"
   ]
  },
  {
   "cell_type": "code",
   "execution_count": 24,
   "metadata": {},
   "outputs": [
    {
     "name": "stdout",
     "output_type": "stream",
     "text": [
      "[ 0.995-0.101j  0.   +0.j    -0.   -0.j     0.   +0.j   ]\n"
     ]
    }
   ],
   "source": [
    "# Define the simulation target.\n",
    "cudaq.set_target(\"qpp-cpu\")\n",
    "\n",
    "# Compute the statevector of the kernel\n",
    "result = cudaq.get_state(ctrlu, 2, coefficients)\n",
    "\n",
    "print(np.array(result).round(3))"
   ]
  },
  {
   "cell_type": "markdown",
   "metadata": {},
   "source": [
    "We can print the `cudaq` decomposed circuit. We note that `cudaq` implements the pauli exponentials by inverting the control and the target qubits:"
   ]
  },
  {
   "cell_type": "code",
   "execution_count": 26,
   "metadata": {},
   "outputs": [
    {
     "name": "stdout",
     "output_type": "stream",
     "text": [
      "                                                                           »\n",
      "q0 : ────────────────●───────────────────●─────────────────────────────────»\n",
      "     ╭────────────╮╭─┴─╮╭─────────────╮╭─┴─╮╭───╮╭──────────────╮╭───╮╭───╮»\n",
      "q1 : ┤ rz(0.2501) ├┤ x ├┤ rz(-0.2501) ├┤ x ├┤ h ├┤ rz(-0.05684) ├┤ h ├┤ h ├»\n",
      "     ╰────────────╯╰───╯╰─────────────╯╰───╯╰───╯╰──────────────╯╰───╯╰───╯»\n",
      "\n",
      "################################################################################\n",
      "\n",
      "                                                                          »\n",
      "──●───────────────────●───────────────────────●───────────────────●───────»\n",
      "╭─┴─╮╭─────────────╮╭─┴─╮╭───╮╭────────────╮╭─┴─╮╭─────────────╮╭─┴─╮╭───╮»\n",
      "┤ x ├┤ rz(0.05684) ├┤ x ├┤ h ├┤ rz(0.2501) ├┤ x ├┤ rz(-0.2501) ├┤ x ├┤ h ├»\n",
      "╰───╯╰─────────────╯╰───╯╰───╯╰────────────╯╰───╯╰─────────────╯╰───╯╰───╯»\n",
      "\n",
      "################################################################################\n",
      "\n",
      "                                                   ╭────────────╮\n",
      "────────────────────────────●───────────────────●──┤ rz(0.2017) ├\n",
      "╭──────────────╮╭───╮╭───╮╭─┴─╮╭─────────────╮╭─┴─╮╰───┬───┬────╯\n",
      "┤ rz(-0.05684) ├┤ h ├┤ h ├┤ x ├┤ rz(0.05684) ├┤ x ├────┤ h ├─────\n",
      "╰──────────────╯╰───╯╰───╯╰───╯╰─────────────╯╰───╯    ╰───╯     \n",
      "\n"
     ]
    }
   ],
   "source": [
    "print(cudaq.draw(ctrlu, 2, coefficients))"
   ]
  },
  {
   "cell_type": "markdown",
   "metadata": {},
   "source": [
    "Try and run on Quantinuum after setting up credentials in `~/.quantinuum_config`"
   ]
  },
  {
   "cell_type": "code",
   "execution_count": 29,
   "metadata": {},
   "outputs": [],
   "source": [
    "# By default, we will submit to the Quantinuum syntax checker. \n",
    "# With emulate=True it will only test the compilation without querying the API\n",
    "cudaq.set_target(\"quantinuum\", emulate=True)\n",
    "\n",
    "\n",
    "# Create the kernel we'd like to execute on Quantinuum.\n",
    "# remember to add measurements or it will fail with emulate=False\n",
    "@cudaq.kernel\n",
    "def kernel():\n",
    "    qvector = cudaq.qvector(2)\n",
    "    h(qvector[0])\n",
    "    x.ctrl(qvector[0], qvector[1])\n",
    "    mz(qvector[0])\n",
    "    mz(qvector[1])"
   ]
  },
  {
   "cell_type": "code",
   "execution_count": 30,
   "metadata": {},
   "outputs": [
    {
     "name": "stdout",
     "output_type": "stream",
     "text": [
      "{ 00:1 }\n"
     ]
    }
   ],
   "source": [
    "counts = cudaq.sample(kernel, shots_count=1)\n",
    "counts.dump()"
   ]
  },
  {
   "cell_type": "markdown",
   "metadata": {},
   "source": [
    "Test our `ctrlu` kernel without measurements on `quantinuum` with `emulate=True`"
   ]
  },
  {
   "cell_type": "code",
   "execution_count": 31,
   "metadata": {},
   "outputs": [
    {
     "name": "stdout",
     "output_type": "stream",
     "text": [
      "{ 00:1 }\n"
     ]
    }
   ],
   "source": [
    "counts = cudaq.sample(ctrlu, 1, coefficients, shots_count=1)\n",
    "counts.dump()"
   ]
  },
  {
   "cell_type": "markdown",
   "metadata": {},
   "source": [
    "## Get the full QPE circuit in `pytket`"
   ]
  },
  {
   "cell_type": "code",
   "execution_count": 32,
   "metadata": {},
   "outputs": [],
   "source": [
    "from algorithm import get_qpe_func"
   ]
  },
  {
   "cell_type": "code",
   "execution_count": 33,
   "metadata": {},
   "outputs": [],
   "source": [
    "# Prepare the Hartree-Fock state\n",
    "state = Circuit(1).X(0)\n",
    "\n",
    "qpe_func = get_qpe_func(\n",
    "    state,\n",
    "    get_ctrlu,\n",
    "    n_rounds=1,\n",
    ")\n",
    "\n",
    "circ = qpe_func(k=2, beta=0.25)"
   ]
  },
  {
   "cell_type": "code",
   "execution_count": 34,
   "metadata": {},
   "outputs": [
    {
     "data": {
      "text/html": [
       "\n",
       "\n",
       "\n",
       "\n",
       "\n",
       "\n",
       "<div style=\"resize: vertical; overflow: auto; height: 400px; display: block\">\n",
       "    <iframe srcdoc=\"\n",
       "&lt;!DOCTYPE html&gt;\n",
       "&lt;html lang=&#34;en&#34;&gt;\n",
       "&lt;head&gt;\n",
       "    &lt;meta charset=&#34;UTF-8&#34;&gt;\n",
       "    &lt;!-- Download Vue 3--&gt;\n",
       "&lt;script type=&#34;application/javascript&#34; src=&#34;https://cdn.jsdelivr.net/npm/vue@3&#34;&gt;&lt;/script&gt;\n",
       "&lt;!-- Download Circuit Renderer with styles --&gt;\n",
       "&lt;script type=&#34;application/javascript&#34; src=&#34;https://unpkg.com/pytket-circuit-renderer@0.10/dist/pytket-circuit-renderer.umd.js&#34;&gt;&lt;/script&gt;\n",
       "&lt;link rel=&#34;stylesheet&#34; href=&#34;https://unpkg.com/pytket-circuit-renderer@0.10/dist/pytket-circuit-renderer.css&#34;&gt;\n",
       "&lt;/head&gt;\n",
       "&lt;body&gt;\n",
       "\n",
       "\n",
       "    &lt;div id=&#34;circuit-display-vue-container-6f35d8a5-5a1c-490e-ad61-f3eead64dc4b&#34; class=&#34;pytket-circuit-display-container&#34;&gt;\n",
       "        &lt;div style=&#34;display: none&#34;&gt;\n",
       "            &lt;div id=&#34;circuit-json-to-display&#34;&gt;{&#34;bits&#34;: [[&#34;c&#34;, [0]]], &#34;commands&#34;: [{&#34;args&#34;: [[&#34;q&#34;, [0]]], &#34;op&#34;: {&#34;type&#34;: &#34;H&#34;}}, {&#34;args&#34;: [[&#34;q&#34;, [1]]], &#34;op&#34;: {&#34;type&#34;: &#34;X&#34;}}, {&#34;args&#34;: [[&#34;q&#34;, [1]]], &#34;op&#34;: {&#34;box&#34;: {&#34;cx_config&#34;: &#34;Tree&#34;, &#34;id&#34;: &#34;97cb39a6-e517-430c-a9ae-b3936e58530c&#34;, &#34;paulis&#34;: [&#34;Z&#34;], &#34;phase&#34;: &#34;0.0796048928646692&#34;, &#34;type&#34;: &#34;PauliExpBox&#34;}, &#34;type&#34;: &#34;PauliExpBox&#34;}}, {&#34;args&#34;: [[&#34;q&#34;, [0]], [&#34;q&#34;, [1]]], &#34;op&#34;: {&#34;box&#34;: {&#34;cx_config&#34;: &#34;Tree&#34;, &#34;id&#34;: &#34;297dc2b4-f3e7-4ddc-a580-ff34e0294404&#34;, &#34;paulis&#34;: [&#34;Z&#34;, &#34;Z&#34;], &#34;phase&#34;: &#34;-0.0796048928646692&#34;, &#34;type&#34;: &#34;PauliExpBox&#34;}, &#34;type&#34;: &#34;PauliExpBox&#34;}}, {&#34;args&#34;: [[&#34;q&#34;, [1]]], &#34;op&#34;: {&#34;box&#34;: {&#34;cx_config&#34;: &#34;Tree&#34;, &#34;id&#34;: &#34;2a68b91a-69e9-4211-a61d-f385de198ed2&#34;, &#34;paulis&#34;: [&#34;X&#34;], &#34;phase&#34;: &#34;-0.0180923392738548&#34;, &#34;type&#34;: &#34;PauliExpBox&#34;}, &#34;type&#34;: &#34;PauliExpBox&#34;}}, {&#34;args&#34;: [[&#34;q&#34;, [0]], [&#34;q&#34;, [1]]], &#34;op&#34;: {&#34;box&#34;: {&#34;cx_config&#34;: &#34;Tree&#34;, &#34;id&#34;: &#34;d61c9037-52d4-4b8e-8891-57ee659683c9&#34;, &#34;paulis&#34;: [&#34;Z&#34;, &#34;X&#34;], &#34;phase&#34;: &#34;0.0180923392738548&#34;, &#34;type&#34;: &#34;PauliExpBox&#34;}, &#34;type&#34;: &#34;PauliExpBox&#34;}}, {&#34;args&#34;: [[&#34;q&#34;, [1]]], &#34;op&#34;: {&#34;box&#34;: {&#34;cx_config&#34;: &#34;Tree&#34;, &#34;id&#34;: &#34;25e04507-09d8-4939-ab4f-0b93171452d2&#34;, &#34;paulis&#34;: [&#34;Z&#34;], &#34;phase&#34;: &#34;0.0796048928646692&#34;, &#34;type&#34;: &#34;PauliExpBox&#34;}, &#34;type&#34;: &#34;PauliExpBox&#34;}}, {&#34;args&#34;: [[&#34;q&#34;, [0]], [&#34;q&#34;, [1]]], &#34;op&#34;: {&#34;box&#34;: {&#34;cx_config&#34;: &#34;Tree&#34;, &#34;id&#34;: &#34;b39531ba-2797-4dc1-a0cd-378a484676d7&#34;, &#34;paulis&#34;: [&#34;Z&#34;, &#34;Z&#34;], &#34;phase&#34;: &#34;-0.0796048928646692&#34;, &#34;type&#34;: &#34;PauliExpBox&#34;}, &#34;type&#34;: &#34;PauliExpBox&#34;}}, {&#34;args&#34;: [[&#34;q&#34;, [1]]], &#34;op&#34;: {&#34;box&#34;: {&#34;cx_config&#34;: &#34;Tree&#34;, &#34;id&#34;: &#34;68c0525a-d00c-419a-b50e-c62ee7ddf2de&#34;, &#34;paulis&#34;: [&#34;X&#34;], &#34;phase&#34;: &#34;-0.0180923392738548&#34;, &#34;type&#34;: &#34;PauliExpBox&#34;}, &#34;type&#34;: &#34;PauliExpBox&#34;}}, {&#34;args&#34;: [[&#34;q&#34;, [0]], [&#34;q&#34;, [1]]], &#34;op&#34;: {&#34;box&#34;: {&#34;cx_config&#34;: &#34;Tree&#34;, &#34;id&#34;: &#34;ab12f7da-d22c-4ea4-b798-f4fecdb68090&#34;, &#34;paulis&#34;: [&#34;Z&#34;, &#34;X&#34;], &#34;phase&#34;: &#34;0.0180923392738548&#34;, &#34;type&#34;: &#34;PauliExpBox&#34;}, &#34;type&#34;: &#34;PauliExpBox&#34;}}, {&#34;args&#34;: [[&#34;q&#34;, [0]]], &#34;op&#34;: {&#34;box&#34;: {&#34;cx_config&#34;: &#34;Tree&#34;, &#34;id&#34;: &#34;4035b0f1-ac4c-4df2-9149-adc2b189ec2b&#34;, &#34;paulis&#34;: [&#34;Z&#34;], &#34;phase&#34;: &#34;0.0641912288176383&#34;, &#34;type&#34;: &#34;PauliExpBox&#34;}, &#34;type&#34;: &#34;PauliExpBox&#34;}}, {&#34;args&#34;: [[&#34;q&#34;, [0]]], &#34;op&#34;: {&#34;box&#34;: {&#34;cx_config&#34;: &#34;Tree&#34;, &#34;id&#34;: &#34;908486ee-ebd3-443a-a7b1-9242fd6e7b2c&#34;, &#34;paulis&#34;: [&#34;Z&#34;], &#34;phase&#34;: &#34;0.25&#34;, &#34;type&#34;: &#34;PauliExpBox&#34;}, &#34;type&#34;: &#34;PauliExpBox&#34;}}, {&#34;args&#34;: [[&#34;q&#34;, [0]]], &#34;op&#34;: {&#34;type&#34;: &#34;H&#34;}}, {&#34;args&#34;: [[&#34;q&#34;, [0]], [&#34;c&#34;, [0]]], &#34;op&#34;: {&#34;type&#34;: &#34;Measure&#34;}}], &#34;created_qubits&#34;: [], &#34;discarded_qubits&#34;: [], &#34;implicit_permutation&#34;: [[[&#34;q&#34;, [0]], [&#34;q&#34;, [0]]], [[&#34;q&#34;, [1]], [&#34;q&#34;, [1]]]], &#34;phase&#34;: &#34;0.0&#34;, &#34;qubits&#34;: [[&#34;q&#34;, [0]], [&#34;q&#34;, [1]]]}&lt;/div&gt;\n",
       "        &lt;/div&gt;\n",
       "        &lt;circuit-display-container\n",
       "                :circuit-element-str=&#34;&#39;#circuit-json-to-display&#39;&#34;\n",
       "                :init-render-options=&#34;initRenderOptions&#34;\n",
       "                view-format=&#34;None&#34;\n",
       "        &gt;&lt;/circuit-display-container&gt;\n",
       "    &lt;/div&gt;\n",
       "    &lt;script type=&#34;application/javascript&#34;&gt;\n",
       "      const circuitRendererUid = &#34;6f35d8a5-5a1c-490e-ad61-f3eead64dc4b&#34;;\n",
       "      const displayOptions = JSON.parse(&#39;{}&#39;);\n",
       "\n",
       "      // Script to initialise the circuit renderer app\n",
       "\n",
       "const { createApp } = Vue;\n",
       "const circuitDisplayContainer = window[&#34;pytket-circuit-renderer&#34;].default;\n",
       "// Init variables to be shared between circuit display instances\n",
       "if (typeof window.pytketCircuitDisplays === &#34;undefined&#34;) {\n",
       "    window.pytketCircuitDisplays = {};\n",
       "}\n",
       "// Create the root Vue component\n",
       "const app = createApp({\n",
       "    delimiters: [&#39;[[#&#39;, &#39;#]]&#39;],\n",
       "    components: { circuitDisplayContainer },\n",
       "    data () {\n",
       "      return {\n",
       "        initRenderOptions: displayOptions,\n",
       "      }\n",
       "    }\n",
       "})\n",
       "app.config.unwrapInjectedRef = true;\n",
       "app.mount(&#34;#circuit-display-vue-container-&#34;+circuitRendererUid);\n",
       "window.pytketCircuitDisplays[circuitRendererUid] = app;\n",
       "    &lt;/script&gt;\n",
       "\n",
       "\n",
       "\n",
       "&lt;/body&gt;\n",
       "&lt;/html&gt;\n",
       "\"\n",
       "            width=\"100%\" height=\"100%\"\n",
       "            style=\"border: none; outline: none; overflow: auto\"></iframe>\n",
       "</div>\n",
       "\n"
      ],
      "text/plain": [
       "<IPython.core.display.HTML object>"
      ]
     },
     "metadata": {},
     "output_type": "display_data"
    }
   ],
   "source": [
    "draw(circ)"
   ]
  },
  {
   "cell_type": "markdown",
   "metadata": {},
   "source": [
    "Get the statevector to check the results against `cudaq`. Remove the measurements at the end of the circuit to be able to get the statevector directly from `pytket`"
   ]
  },
  {
   "cell_type": "code",
   "execution_count": 37,
   "metadata": {},
   "outputs": [],
   "source": [
    "# remove measurements\n",
    "def _remove_measurements(circ: Circuit) -> Circuit:\n",
    "    \"\"\"Return the circuit with measurements removed\"\"\"\n",
    "    circ_dict = circ.to_dict()\n",
    "    new_cmds = [x for x in circ_dict[\"commands\"] if x[\"op\"][\"type\"] != \"Measure\"]\n",
    "    circ_dict[\"commands\"] = new_cmds\n",
    "    return Circuit.from_dict(circ_dict)\n",
    "\n",
    "circ_no_meas = _remove_measurements(circ)"
   ]
  },
  {
   "cell_type": "code",
   "execution_count": 38,
   "metadata": {},
   "outputs": [
    {
     "data": {
      "text/plain": [
       "array([-0.037+0.04j ,  0.711+0.18j ,  0.037-0.04j ,  0.17 -0.654j])"
      ]
     },
     "execution_count": 38,
     "metadata": {},
     "output_type": "execute_result"
    }
   ],
   "source": [
    "circ_no_meas.get_statevector().round(3)"
   ]
  },
  {
   "cell_type": "markdown",
   "metadata": {},
   "source": [
    "## Translate the full QPE circuit to CUDA-Q by combining different kernels"
   ]
  },
  {
   "cell_type": "markdown",
   "metadata": {},
   "source": [
    "We have the same `ctrlu` kernel as before. Now we make it act on a register `q` that we pass as input:"
   ]
  },
  {
   "cell_type": "code",
   "execution_count": 42,
   "metadata": {},
   "outputs": [],
   "source": [
    "@cudaq.kernel\n",
    "def ctrlU(qubits: cudaq.qview, k: int, coeffs: list[float]):\n",
    "    # Loop over k\n",
    "    for i in range(k):\n",
    "        exp_pauli(coeffs[0], qubits, \"IZ\")\n",
    "        exp_pauli(coeffs[1], qubits, \"ZZ\")\n",
    "        exp_pauli(coeffs[2], qubits, \"IX\")\n",
    "        exp_pauli(coeffs[3], qubits, \"ZX\")\n",
    "    # add final phase\n",
    "    exp_pauli(coeffs[4]*k, qubits, \"ZI\")"
   ]
  },
  {
   "cell_type": "markdown",
   "metadata": {},
   "source": [
    "Then we have a state preparation circuit that we make it act on the single qubit of the Hydrogen molecule system. It prepares a Hartree-Fock initial state:"
   ]
  },
  {
   "cell_type": "code",
   "execution_count": 39,
   "metadata": {},
   "outputs": [],
   "source": [
    "@cudaq.kernel\n",
    "def statePrep(qubit: cudaq.qubit):\n",
    "    x(qubit)"
   ]
  },
  {
   "cell_type": "markdown",
   "metadata": {},
   "source": [
    "This is the full QPE circuit for `k` and `beta` and using the `coefficients` that define the Hydrogen Hamiltonian"
   ]
  },
  {
   "cell_type": "code",
   "execution_count": 56,
   "metadata": {},
   "outputs": [],
   "source": [
    "@cudaq.kernel\n",
    "def qpe_kernel(\n",
    "    k: int,\n",
    "    beta: float,\n",
    "    coefficients: list[float],\n",
    "):\n",
    "    q = cudaq.qvector(2)  # we always only use 2 qubits\n",
    "    ancilla = q[0]  # we use this qubit to read the results\n",
    "    register = q[1]  # this is the system qubit\n",
    "    # we add the gates one after the other. a kernel will add all the gates it has inside\n",
    "    h(ancilla)\n",
    "    statePrep(register)\n",
    "    ctrlU(q, k, coefficients)\n",
    "    rz(math.pi * beta, ancilla)  # account for different angle conventions between pytket and cudaq\n",
    "    h(ancilla)  # inverse QFT on a single qubit\n",
    "    # we do not measure here so we can check the full statevector"
   ]
  },
  {
   "cell_type": "code",
   "execution_count": 57,
   "metadata": {},
   "outputs": [
    {
     "name": "stdout",
     "output_type": "stream",
     "text": [
      "[-0.037+0.04j   0.037-0.04j   0.711+0.18j   0.17 -0.654j]\n"
     ]
    }
   ],
   "source": [
    "cudaq.set_target(\"qpp-cpu\")\n",
    "\n",
    "result = cudaq.get_state(qpe_kernel, 2, 0.25, coefficients)\n",
    "print(np.array(result).round(3))"
   ]
  },
  {
   "cell_type": "code",
   "execution_count": 58,
   "metadata": {},
   "outputs": [
    {
     "data": {
      "text/plain": [
       "(0.7108268099435376+0.1800402809974428j)"
      ]
     },
     "execution_count": 58,
     "metadata": {},
     "output_type": "execute_result"
    }
   ],
   "source": [
    "result.amplitude('01')"
   ]
  },
  {
   "cell_type": "markdown",
   "metadata": {},
   "source": [
    "The statevector generated by the `get_state` command follows Big-endian convention for associating numbers with their binary representations, which places the least significant bit on the left.  That is, for the example of a 2-bit system, we have the following translation between integers and bits:\n",
    "$$\\begin{matrix} \\text{Integer} & \\text{Binary representation}\\\\\n",
    "& \\text{least significant bit on left}\\\\\n",
    "0 =\\textcolor{red}{0}*2^0+\\textcolor{blue}{0}*2^1 & \\textcolor{red}{0}\\textcolor{blue}{0} \\\\\n",
    "1 = \\textcolor{red}{1}*2^0 + \\textcolor{blue}{0} *2^1 & \\textcolor{red}{1}\\textcolor{blue}{0}\\\\\n",
    "2 = \\textcolor{red}{0}*2^0 + \\textcolor{blue}{1}*2^1 & \\textcolor{red}{0}\\textcolor{blue}{1} \\\\\n",
    "3 = \\textcolor{red}{1}*2^0 + \\textcolor{blue}{1}*2^1 & \\textcolor{red}{1}\\textcolor{blue}{1} \\end{matrix}\n",
    "$$"
   ]
  },
  {
   "cell_type": "code",
   "execution_count": 74,
   "metadata": {},
   "outputs": [],
   "source": [
    "# from pytket k=1: \n",
    "# state | amplitude\n",
    "# 00    | -0.018 + 0.022j\n",
    "# 01    | 0.836 + 0.105j\n",
    "# 10    | 0.018 - 0.022j\n",
    "# 11    | 0.068 - 0.533j\n",
    "# from pytket k=2:\n",
    "# state | amplitude\n",
    "# 00    | -0.037 + 0.04j\n",
    "# 01    | 0.711 + 0.18j\n",
    "# 10    | 0.037 - 0.04j\n",
    "# 11    | 0.17 - 0.654j"
   ]
  },
  {
   "cell_type": "code",
   "execution_count": 45,
   "metadata": {},
   "outputs": [
    {
     "name": "stdout",
     "output_type": "stream",
     "text": [
      "     ╭───╮                                                                 »\n",
      "q0 : ┤ h ├────────────────●───────────────────●────────────────────────────»\n",
      "     ├───┤╭────────────╮╭─┴─╮╭─────────────╮╭─┴─╮╭───╮╭──────────────╮╭───╮»\n",
      "q1 : ┤ x ├┤ rz(0.2501) ├┤ x ├┤ rz(-0.2501) ├┤ x ├┤ h ├┤ rz(-0.05684) ├┤ h ├»\n",
      "     ╰───╯╰────────────╯╰───╯╰─────────────╯╰───╯╰───╯╰──────────────╯╰───╯»\n",
      "\n",
      "################################################################################\n",
      "\n",
      "                                                                          »\n",
      "───────●───────────────────●───────────────────────●───────────────────●──»\n",
      "╭───╮╭─┴─╮╭─────────────╮╭─┴─╮╭───╮╭────────────╮╭─┴─╮╭─────────────╮╭─┴─╮»\n",
      "┤ h ├┤ x ├┤ rz(0.05684) ├┤ x ├┤ h ├┤ rz(0.2501) ├┤ x ├┤ rz(-0.2501) ├┤ x ├»\n",
      "╰───╯╰───╯╰─────────────╯╰───╯╰───╯╰────────────╯╰───╯╰─────────────╯╰───╯»\n",
      "\n",
      "################################################################################\n",
      "\n",
      "                                                        ╭────────────╮»\n",
      "─────────────────────────────────●───────────────────●──┤ rz(0.2017) ├»\n",
      "╭───╮╭──────────────╮╭───╮╭───╮╭─┴─╮╭─────────────╮╭─┴─╮╰───┬───┬────╯»\n",
      "┤ h ├┤ rz(-0.05684) ├┤ h ├┤ h ├┤ x ├┤ rz(0.05684) ├┤ x ├────┤ h ├─────»\n",
      "╰───╯╰──────────────╯╰───╯╰───╯╰───╯╰─────────────╯╰───╯    ╰───╯     »\n",
      "\n",
      "################################################################################\n",
      "\n",
      "╭────────────╮╭───╮\n",
      "┤ rz(0.7854) ├┤ h ├\n",
      "╰────────────╯╰───╯\n",
      "───────────────────\n",
      "                   \n",
      "\n"
     ]
    }
   ],
   "source": [
    "print(cudaq.draw(qpe_kernel, 2, 0.25, coefficients))"
   ]
  },
  {
   "cell_type": "markdown",
   "metadata": {},
   "source": [
    "## Run QPE"
   ]
  },
  {
   "cell_type": "markdown",
   "metadata": {},
   "source": [
    "In `CUDA-Q` we can run the kernels that we generate using the `k_list` and `beta_list` values. Since we want to get samples from them, we could do it in parallel on multi-CPU or multi-GPU with the [sample_async](https://nvidia.github.io/cuda-quantum/latest/api/languages/python_api.html#cudaq.sample_async) function"
   ]
  },
  {
   "cell_type": "code",
   "execution_count": 46,
   "metadata": {},
   "outputs": [],
   "source": [
    "# add measurement\n",
    "@cudaq.kernel\n",
    "def qpe_kernel(\n",
    "    k: int,\n",
    "    beta: float,\n",
    "    coefficients: list[float],\n",
    "):\n",
    "    q = cudaq.qvector(2)  # we always only use 2 qubits\n",
    "    ancilla = q[0]\n",
    "    register = q[1]\n",
    "    h(ancilla)\n",
    "    statePrep(register)\n",
    "    ctrlU(q, k, coefficients)\n",
    "    rz(math.pi * beta, ancilla)\n",
    "    h(ancilla)\n",
    "    # we add the measurement to be able to sample\n",
    "    mz(ancilla)"
   ]
  },
  {
   "cell_type": "code",
   "execution_count": 47,
   "metadata": {},
   "outputs": [],
   "source": [
    "counts = cudaq.sample(qpe_kernel, 1, -0.25, coefficients, shots_count=1)"
   ]
  },
  {
   "cell_type": "markdown",
   "metadata": {},
   "source": [
    "We only measure one ancilla qubit, so the counts will look like this:"
   ]
  },
  {
   "cell_type": "code",
   "execution_count": 48,
   "metadata": {},
   "outputs": [
    {
     "name": "stdout",
     "output_type": "stream",
     "text": [
      "{ 0:1 }\n"
     ]
    }
   ],
   "source": [
    "counts.dump()"
   ]
  },
  {
   "cell_type": "code",
   "execution_count": 49,
   "metadata": {},
   "outputs": [],
   "source": [
    "# CPU\n",
    "cudaq.set_target('qpp-cpu')\n",
    "# Quantinuum\n",
    "# cudaq.set_target('quantinuum', emulate=True)\n",
    "\n",
    "# Execute the QPE circuits.\n",
    "results = []\n",
    "for k,b in zip(k_list,beta_list):\n",
    "    results.append(cudaq.sample(qpe_kernel, k, b, coefficients, shots_count=1))"
   ]
  },
  {
   "cell_type": "markdown",
   "metadata": {},
   "source": [
    "We write a helper function to translate the CUDA-Q `SampleResult` into the pytket `BackendResult`"
   ]
  },
  {
   "cell_type": "code",
   "execution_count": 50,
   "metadata": {},
   "outputs": [],
   "source": [
    "from pytket import Bit \n",
    "from pytket.backends.backendresult import BackendResult\n",
    "from pytket.utils.outcomearray import OutcomeArray\n",
    "from typing import Counter\n",
    "\n",
    "\n",
    "def get_decoded_result(result: cudaq.SampleResult) -> BackendResult:\n",
    "    logical_counts = Counter()\n",
    "    for logical_readout, counts in result.items():\n",
    "        logical_counts[OutcomeArray.from_readouts([[logical_readout]])] += counts\n",
    "    logical_result = BackendResult(\n",
    "        counts=logical_counts,\n",
    "        c_bits=[Bit(0)],\n",
    "    )\n",
    "    return logical_result"
   ]
  },
  {
   "cell_type": "code",
   "execution_count": 51,
   "metadata": {},
   "outputs": [],
   "source": [
    "# Interpret the cuda-q results as pytket BackendResults\n",
    "logical_results = [get_decoded_result(r) for r in results]"
   ]
  },
  {
   "cell_type": "code",
   "execution_count": 52,
   "metadata": {},
   "outputs": [
    {
     "data": {
      "text/plain": [
       "BackendResult(q_bits={},c_bits={c[0]: 0},counts=Counter({OutcomeArray([[0]], dtype=uint8): 1}),shots=None,state=None,unitary=None,density_matrix=None)"
      ]
     },
     "execution_count": 52,
     "metadata": {},
     "output_type": "execute_result"
    }
   ],
   "source": [
    "logical_results[0]"
   ]
  },
  {
   "cell_type": "markdown",
   "metadata": {},
   "source": [
    "## Post-process the results using our own pytket pipeline:"
   ]
  },
  {
   "cell_type": "code",
   "execution_count": 53,
   "metadata": {},
   "outputs": [],
   "source": [
    "from algorithm import get_mu_and_sigma, bayesian_update\n",
    "\n",
    "\n",
    "# Prepare the uniform prior distribution.\n",
    "n_grid_points = 2**10\n",
    "phi = np.linspace(-1, 1, n_grid_points + 1)[:-1]\n",
    "prior = np.ones_like(phi)\n",
    "\n",
    "posterior = bayesian_update(\n",
    "    phi,\n",
    "    prior,\n",
    "    k_list,\n",
    "    beta_list,\n",
    "    logical_results,\n",
    "    error_rate=error_rate_func,\n",
    ")"
   ]
  },
  {
   "cell_type": "code",
   "execution_count": 54,
   "metadata": {},
   "outputs": [
    {
     "name": "stdout",
     "output_type": "stream",
     "text": [
      "Energy estimate =    -1.11294 Ha\n",
      "Energy sigma    =     0.04864 Ha\n",
      "FCI energy      =    -1.13731 Ha\n"
     ]
    }
   ],
   "source": [
    "mu, sigma = get_mu_and_sigma(posterior, phi=phi)\n",
    "mu_energy = -mu / DELTAT\n",
    "sigma_energy = sigma / DELTAT\n",
    "print(f\"Energy estimate = {mu_energy:11.5f} Ha\")\n",
    "print(f\"Energy sigma    = {sigma_energy:11.5f} Ha\")\n",
    "print(f\"FCI energy      = {FCI_ENERGY:11.5f} Ha\")"
   ]
  },
  {
   "cell_type": "markdown",
   "metadata": {},
   "source": [
    "### Plot probability distribution"
   ]
  },
  {
   "cell_type": "code",
   "execution_count": 55,
   "metadata": {},
   "outputs": [
    {
     "data": {
      "text/plain": [
       "<matplotlib.legend.Legend at 0xfffec8201f90>"
      ]
     },
     "execution_count": 55,
     "metadata": {},
     "output_type": "execute_result"
    },
    {
     "data": {
      "image/png": "[encoded data removed]",
      "text/plain": [
       "<Figure size 640x480 with 1 Axes>"
      ]
     },
     "metadata": {},
     "output_type": "display_data"
    }
   ],
   "source": [
    "import matplotlib.pyplot as plt\n",
    "\n",
    "x_energy = -phi / DELTAT\n",
    "plt.plot(x_energy, posterior, \"k-\")\n",
    "plt.plot(FCI_ENERGY, 0, \"r^\", label=\"Reference value\")\n",
    "plt.xlim(-1.5,-0.5)\n",
    "plt.xlabel(r\"Energy $E$ / hartree\")\n",
    "plt.ylabel(r\"Probability distribuition $P(E)$\")\n",
    "plt.legend()"
   ]
  },
  {
   "cell_type": "code",
   "execution_count": null,
   "metadata": {},
   "outputs": [],
   "source": []
  }
 ],
 "metadata": {
  "kernelspec": {
   "display_name": "Python 3",
   "language": "python",
   "name": "python3"
  },
  "language_info": {
   "codemirror_mode": {
    "name": "ipython",
    "version": 3
   },
   "file_extension": ".py",
   "mimetype": "text/x-python",
   "name": "python",
   "nbconvert_exporter": "python",
   "pygments_lexer": "ipython3",
   "version": "3.10.12"
  }
 },
 "nbformat": 4,
 "nbformat_minor": 2
}
