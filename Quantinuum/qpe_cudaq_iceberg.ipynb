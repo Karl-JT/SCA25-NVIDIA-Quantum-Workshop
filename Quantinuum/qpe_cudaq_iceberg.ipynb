{
 "cells": [
  {
   "cell_type": "markdown",
   "metadata": {},
   "source": [
    "# Information Theoretic Quantum Phase Estimation for Hydrogen with Iceberg Code"
   ]
  },
  {
   "cell_type": "markdown",
   "metadata": {},
   "source": [
    "This is needed to debug `CUDA-Q` calls:"
   ]
  },
  {
   "cell_type": "code",
   "execution_count": 1,
   "metadata": {},
   "outputs": [],
   "source": [
    "# import os\n",
    "\n",
    "# os.environ[\"CUDAQ_LOG_LEVEL\"] = \"info\"\n",
    "# os.environ[\"CUDAQ_LOG_LEVEL\"] = \"trace\""
   ]
  },
  {
   "cell_type": "markdown",
   "metadata": {},
   "source": [
    "## Using `pytket` to generate a set of circuits: this will be our baseline"
   ]
  },
  {
   "cell_type": "markdown",
   "metadata": {},
   "source": [
    "We rely on the `algorithm` module in the `sca25_demo_qpe` repository:"
   ]
  },
  {
   "cell_type": "code",
   "execution_count": 2,
   "metadata": {},
   "outputs": [],
   "source": [
    "import numpy as np\n",
    "from algorithm import generate_ks"
   ]
  },
  {
   "cell_type": "code",
   "execution_count": 3,
   "metadata": {},
   "outputs": [],
   "source": [
    "# Prepare the samples of (k, beta).\n",
    "k_max = 16\n",
    "n_samples = 50  # this will set how many circuits we need to run for the QPE\n",
    "error_rate = 0.0 # this is for the noise model on H1-1\n",
    "\n",
    "\n",
    "def error_rate_func(k: int) -> float:\n",
    "    q = 1 - (1 - error_rate) ** k\n",
    "    return q\n",
    "\n",
    "\n",
    "k_list = generate_ks(k_max, n_samples, error_rate=error_rate_func)\n",
    "beta_list = (1 - 2 * np.random.random(size=n_samples)).tolist()\n"
   ]
  },
  {
   "cell_type": "markdown",
   "metadata": {},
   "source": [
    "## Hamiltonian for the tapered 1-qubit Hydrogen molecule: the controlled unitary is directly implemented"
   ]
  },
  {
   "cell_type": "code",
   "execution_count": 4,
   "metadata": {},
   "outputs": [],
   "source": [
    "# 1-qubit controlled Hamiltonian trotterization coefficients\n",
    "CZ = 0.7960489286466914\n",
    "CX = -0.1809233927385484\n",
    "CI = -0.3209561440881913\n",
    "DELTAT = 0.1\n",
    "# Exact energy\n",
    "FCI_ENERGY = -1.13730605"
   ]
  },
  {
   "cell_type": "markdown",
   "metadata": {},
   "source": [
    "## `pytket` circuit"
   ]
  },
  {
   "cell_type": "code",
   "execution_count": 5,
   "metadata": {},
   "outputs": [],
   "source": [
    "from typing import Callable\n",
    "from pytket.circuit import Circuit, Bit\n",
    "from pytket.backends.backendresult import BackendResult\n",
    "from pytket.utils.outcomearray import OutcomeArray\n",
    "from typing import Counter\n",
    "from pytket.circuit.display import render_circuit_jupyter as draw\n",
    "\n",
    "\n",
    "def get_qpe_func_iceberg(syndrome_interval: int) -> Callable[[int, float], Circuit]:\n",
    "\n",
    "    def qpe_func_iceberg(k: int, beta: float) -> Circuit:\n",
    "        \"\"\"Hard-coded QPE circuit function.\"\"\"\n",
    "        # Qubit register mapping:\n",
    "        # [t, 0, 1, b, f0, f1]\n",
    "        # Bit register mapping:\n",
    "        # [a0, a1, a2, a3, discard]\n",
    "        circ = Circuit(6, 5)\n",
    "        # === FT plus state preparation ===\n",
    "        circ.H(0)\n",
    "        circ.CX(0, 4)\n",
    "        circ.add_barrier(circ.qubits)\n",
    "        circ.CX(0, 1)\n",
    "        circ.add_barrier(circ.qubits)\n",
    "        circ.CX(0, 4)\n",
    "        circ.add_barrier(circ.qubits)\n",
    "        circ.H(0)\n",
    "        circ.H(1)\n",
    "        circ.H(2)\n",
    "        circ.Measure(4, 0)\n",
    "        circ.CX(2, 5)\n",
    "        circ.add_barrier(circ.qubits)\n",
    "        circ.CX(2, 3)\n",
    "        circ.add_barrier(circ.qubits)\n",
    "        circ.CX(2, 5)\n",
    "        circ.Measure(5, 1)\n",
    "        circ.add_classicalexpbox_bit(\n",
    "            circ.bits[0] | circ.bits[1],\n",
    "            [circ.bits[4]],\n",
    "        )\n",
    "        circ.add_barrier(circ.qubits)\n",
    "        # === Logical operations ===\n",
    "        # HF state preparation.\n",
    "        circ.X(0)\n",
    "        circ.X(2)\n",
    "        # ctrl-U^{k} and Rz(beta) operations.\n",
    "        for ii in range(k):\n",
    "            circ.ZZPhase(CZ*DELTAT, 2, 3)\n",
    "            circ.ZZPhase(-CZ*DELTAT, 1, 2)\n",
    "            circ.XXPhase(CX*DELTAT, 0, 2)\n",
    "            circ.YYPhase(CX*DELTAT, 0, 2)\n",
    "            if ii + 1 >= k:\n",
    "                break\n",
    "            if (ii + 1) % syndrome_interval == 0:\n",
    "                circ.add_barrier(circ.qubits)\n",
    "                circ.Reset(4)\n",
    "                circ.Reset(5)\n",
    "                circ.H(5)\n",
    "                circ.CX(5, 0)\n",
    "                circ.add_barrier(circ.qubits)\n",
    "                circ.CX(0, 4)\n",
    "                circ.add_barrier(circ.qubits)\n",
    "                circ.CX(1, 4)\n",
    "                circ.add_barrier(circ.qubits)\n",
    "                circ.CX(5, 1)\n",
    "                circ.add_barrier(circ.qubits)\n",
    "                circ.CX(5, 2)\n",
    "                circ.add_barrier(circ.qubits)\n",
    "                circ.CX(2, 4)\n",
    "                circ.add_barrier(circ.qubits)\n",
    "                circ.CX(3, 4)\n",
    "                circ.add_barrier(circ.qubits)\n",
    "                circ.CX(5, 3)\n",
    "                circ.add_barrier(circ.qubits)\n",
    "                circ.Measure(4, 0)\n",
    "                circ.H(5)\n",
    "                circ.Measure(5, 1)\n",
    "                circ.add_classicalexpbox_bit(\n",
    "                    circ.bits[0] | circ.bits[1] | circ.bits[4],\n",
    "                    [circ.bits[4]],\n",
    "                )\n",
    "                circ.add_barrier(circ.qubits)\n",
    "        circ.add_barrier(circ.qubits)\n",
    "        circ.ZZPhase(-CI*DELTAT*k + beta, 1, 3)\n",
    "        # === FT measurements ===\n",
    "        circ.add_barrier(circ.qubits)\n",
    "        circ.Reset(4)\n",
    "        circ.Reset(5)\n",
    "        circ.CX(0, 4)\n",
    "        circ.H(5)\n",
    "        circ.add_barrier(circ.qubits)\n",
    "        circ.CX(5, 4)\n",
    "        circ.add_barrier(circ.qubits)\n",
    "        circ.CX(1, 4)\n",
    "        circ.add_barrier(circ.qubits)\n",
    "        circ.CX(2, 4)\n",
    "        circ.add_barrier(circ.qubits)\n",
    "        circ.CX(5, 4)\n",
    "        circ.add_barrier(circ.qubits)\n",
    "        circ.CX(3, 4)\n",
    "        circ.add_barrier(circ.qubits)\n",
    "        circ.Measure(4, 0)\n",
    "        circ.H(5)\n",
    "        circ.Measure(5, 1)\n",
    "        circ.add_classicalexpbox_bit(\n",
    "            circ.bits[0] | circ.bits[1] | circ.bits[4],\n",
    "            [circ.bits[4]],\n",
    "        )\n",
    "        circ.add_barrier(circ.qubits)\n",
    "        circ.H(0)\n",
    "        circ.H(1)\n",
    "        circ.H(2)\n",
    "        circ.H(3)\n",
    "        circ.Measure(0, 0)\n",
    "        circ.Measure(1, 1)\n",
    "        circ.Measure(2, 2)\n",
    "        circ.Measure(3, 3)\n",
    "        return circ\n",
    "    \n",
    "    return qpe_func_iceberg"
   ]
  },
  {
   "cell_type": "code",
   "execution_count": 6,
   "metadata": {},
   "outputs": [
    {
     "name": "stderr",
     "output_type": "stream",
     "text": [
      "/tmp/ipykernel_58728/2226060012.py:36: DeprecationWarning: The add_classicalexpbox_bit method is deprecated. Please use Circuit::add_clexpr() instead.\n",
      "  circ.add_classicalexpbox_bit(\n",
      "/tmp/ipykernel_58728/2226060012.py:77: DeprecationWarning: The add_classicalexpbox_bit method is deprecated. Please use Circuit::add_clexpr() instead.\n",
      "  circ.add_classicalexpbox_bit(\n",
      "/tmp/ipykernel_58728/2226060012.py:104: DeprecationWarning: The add_classicalexpbox_bit method is deprecated. Please use Circuit::add_clexpr() instead.\n",
      "  circ.add_classicalexpbox_bit(\n"
     ]
    },
    {
     "data": {
      "text/html": [
       "\n",
       "\n",
       "\n",
       "\n",
       "\n",
       "\n",
       "<div style=\"resize: vertical; overflow: auto; height: 400px; display: block\">\n",
       "    <iframe srcdoc=\"\n",
       "&lt;!DOCTYPE html&gt;\n",
       "&lt;html lang=&#34;en&#34;&gt;\n",
       "&lt;head&gt;\n",
       "    &lt;meta charset=&#34;UTF-8&#34;&gt;\n",
       "    &lt;!-- Download Vue 3--&gt;\n",
       "&lt;script type=&#34;application/javascript&#34; src=&#34;https://cdn.jsdelivr.net/npm/vue@3&#34;&gt;&lt;/script&gt;\n",
       "&lt;!-- Download Circuit Renderer with styles --&gt;\n",
       "&lt;script type=&#34;application/javascript&#34; src=&#34;https://unpkg.com/pytket-circuit-renderer@0.10/dist/pytket-circuit-renderer.umd.js&#34;&gt;&lt;/script&gt;\n",
       "&lt;link rel=&#34;stylesheet&#34; href=&#34;https://unpkg.com/pytket-circuit-renderer@0.10/dist/pytket-circuit-renderer.css&#34;&gt;\n",
       "&lt;/head&gt;\n",
       "&lt;body&gt;\n",
       "\n",
       "\n",
       "    &lt;div id=&#34;circuit-display-vue-container-7bf34434-c8d6-44c2-89d0-4f260d995ab4&#34; class=&#34;pytket-circuit-display-container&#34;&gt;\n",
       "        &lt;div style=&#34;display: none&#34;&gt;\n",
       "            &lt;div id=&#34;circuit-json-to-display&#34;&gt;{&#34;bits&#34;: [[&#34;c&#34;, [0]], [&#34;c&#34;, [1]], [&#34;c&#34;, [2]], [&#34;c&#34;, [3]], [&#34;c&#34;, [4]]], &#34;commands&#34;: [{&#34;args&#34;: [[&#34;q&#34;, [0]]], &#34;op&#34;: {&#34;type&#34;: &#34;H&#34;}}, {&#34;args&#34;: [[&#34;q&#34;, [0]], [&#34;q&#34;, [4]]], &#34;op&#34;: {&#34;type&#34;: &#34;CX&#34;}}, {&#34;args&#34;: [[&#34;q&#34;, [0]], [&#34;q&#34;, [1]], [&#34;q&#34;, [2]], [&#34;q&#34;, [3]], [&#34;q&#34;, [4]], [&#34;q&#34;, [5]]], &#34;op&#34;: {&#34;data&#34;: &#34;&#34;, &#34;signature&#34;: [&#34;Q&#34;, &#34;Q&#34;, &#34;Q&#34;, &#34;Q&#34;, &#34;Q&#34;, &#34;Q&#34;], &#34;type&#34;: &#34;Barrier&#34;}}, {&#34;args&#34;: [[&#34;q&#34;, [0]], [&#34;q&#34;, [1]]], &#34;op&#34;: {&#34;type&#34;: &#34;CX&#34;}}, {&#34;args&#34;: [[&#34;q&#34;, [0]], [&#34;q&#34;, [1]], [&#34;q&#34;, [2]], [&#34;q&#34;, [3]], [&#34;q&#34;, [4]], [&#34;q&#34;, [5]]], &#34;op&#34;: {&#34;data&#34;: &#34;&#34;, &#34;signature&#34;: [&#34;Q&#34;, &#34;Q&#34;, &#34;Q&#34;, &#34;Q&#34;, &#34;Q&#34;, &#34;Q&#34;], &#34;type&#34;: &#34;Barrier&#34;}}, {&#34;args&#34;: [[&#34;q&#34;, [0]], [&#34;q&#34;, [4]]], &#34;op&#34;: {&#34;type&#34;: &#34;CX&#34;}}, {&#34;args&#34;: [[&#34;q&#34;, [0]], [&#34;q&#34;, [1]], [&#34;q&#34;, [2]], [&#34;q&#34;, [3]], [&#34;q&#34;, [4]], [&#34;q&#34;, [5]]], &#34;op&#34;: {&#34;data&#34;: &#34;&#34;, &#34;signature&#34;: [&#34;Q&#34;, &#34;Q&#34;, &#34;Q&#34;, &#34;Q&#34;, &#34;Q&#34;, &#34;Q&#34;], &#34;type&#34;: &#34;Barrier&#34;}}, {&#34;args&#34;: [[&#34;q&#34;, [4]], [&#34;c&#34;, [0]]], &#34;op&#34;: {&#34;type&#34;: &#34;Measure&#34;}}, {&#34;args&#34;: [[&#34;q&#34;, [0]]], &#34;op&#34;: {&#34;type&#34;: &#34;H&#34;}}, {&#34;args&#34;: [[&#34;q&#34;, [1]]], &#34;op&#34;: {&#34;type&#34;: &#34;H&#34;}}, {&#34;args&#34;: [[&#34;q&#34;, [2]]], &#34;op&#34;: {&#34;type&#34;: &#34;H&#34;}}, {&#34;args&#34;: [[&#34;q&#34;, [2]], [&#34;q&#34;, [5]]], &#34;op&#34;: {&#34;type&#34;: &#34;CX&#34;}}, {&#34;args&#34;: [[&#34;q&#34;, [0]], [&#34;q&#34;, [1]], [&#34;q&#34;, [2]], [&#34;q&#34;, [3]], [&#34;q&#34;, [4]], [&#34;q&#34;, [5]]], &#34;op&#34;: {&#34;data&#34;: &#34;&#34;, &#34;signature&#34;: [&#34;Q&#34;, &#34;Q&#34;, &#34;Q&#34;, &#34;Q&#34;, &#34;Q&#34;, &#34;Q&#34;], &#34;type&#34;: &#34;Barrier&#34;}}, {&#34;args&#34;: [[&#34;q&#34;, [2]], [&#34;q&#34;, [3]]], &#34;op&#34;: {&#34;type&#34;: &#34;CX&#34;}}, {&#34;args&#34;: [[&#34;q&#34;, [0]], [&#34;q&#34;, [1]], [&#34;q&#34;, [2]], [&#34;q&#34;, [3]], [&#34;q&#34;, [4]], [&#34;q&#34;, [5]]], &#34;op&#34;: {&#34;data&#34;: &#34;&#34;, &#34;signature&#34;: [&#34;Q&#34;, &#34;Q&#34;, &#34;Q&#34;, &#34;Q&#34;, &#34;Q&#34;, &#34;Q&#34;], &#34;type&#34;: &#34;Barrier&#34;}}, {&#34;args&#34;: [[&#34;q&#34;, [2]], [&#34;q&#34;, [5]]], &#34;op&#34;: {&#34;type&#34;: &#34;CX&#34;}}, {&#34;args&#34;: [[&#34;q&#34;, [5]], [&#34;c&#34;, [1]]], &#34;op&#34;: {&#34;type&#34;: &#34;Measure&#34;}}, {&#34;args&#34;: [[&#34;c&#34;, [0]], [&#34;c&#34;, [1]], [&#34;c&#34;, [4]]], &#34;op&#34;: {&#34;box&#34;: {&#34;exp&#34;: {&#34;args&#34;: [[&#34;c&#34;, [0]], [&#34;c&#34;, [1]]], &#34;op&#34;: &#34;BitWiseOp.OR&#34;}, &#34;id&#34;: &#34;4232cff8-1784-44fa-9d8b-249248d09092&#34;, &#34;n_i&#34;: 2, &#34;n_io&#34;: 0, &#34;n_o&#34;: 1, &#34;type&#34;: &#34;ClassicalExpBox&#34;}, &#34;type&#34;: &#34;ClassicalExpBox&#34;}}, {&#34;args&#34;: [[&#34;q&#34;, [0]], [&#34;q&#34;, [1]], [&#34;q&#34;, [2]], [&#34;q&#34;, [3]], [&#34;q&#34;, [4]], [&#34;q&#34;, [5]]], &#34;op&#34;: {&#34;data&#34;: &#34;&#34;, &#34;signature&#34;: [&#34;Q&#34;, &#34;Q&#34;, &#34;Q&#34;, &#34;Q&#34;, &#34;Q&#34;, &#34;Q&#34;], &#34;type&#34;: &#34;Barrier&#34;}}, {&#34;args&#34;: [[&#34;q&#34;, [0]]], &#34;op&#34;: {&#34;type&#34;: &#34;X&#34;}}, {&#34;args&#34;: [[&#34;q&#34;, [2]]], &#34;op&#34;: {&#34;type&#34;: &#34;X&#34;}}, {&#34;args&#34;: [[&#34;q&#34;, [2]], [&#34;q&#34;, [3]]], &#34;op&#34;: {&#34;params&#34;: [&#34;0.0796048928646692&#34;], &#34;type&#34;: &#34;ZZPhase&#34;}}, {&#34;args&#34;: [[&#34;q&#34;, [1]], [&#34;q&#34;, [2]]], &#34;op&#34;: {&#34;params&#34;: [&#34;-0.0796048928646692&#34;], &#34;type&#34;: &#34;ZZPhase&#34;}}, {&#34;args&#34;: [[&#34;q&#34;, [0]], [&#34;q&#34;, [2]]], &#34;op&#34;: {&#34;params&#34;: [&#34;-0.0180923392738548&#34;], &#34;type&#34;: &#34;XXPhase&#34;}}, {&#34;args&#34;: [[&#34;q&#34;, [0]], [&#34;q&#34;, [2]]], &#34;op&#34;: {&#34;params&#34;: [&#34;-0.0180923392738548&#34;], &#34;type&#34;: &#34;YYPhase&#34;}}, {&#34;args&#34;: [[&#34;q&#34;, [0]], [&#34;q&#34;, [1]], [&#34;q&#34;, [2]], [&#34;q&#34;, [3]], [&#34;q&#34;, [4]], [&#34;q&#34;, [5]]], &#34;op&#34;: {&#34;data&#34;: &#34;&#34;, &#34;signature&#34;: [&#34;Q&#34;, &#34;Q&#34;, &#34;Q&#34;, &#34;Q&#34;, &#34;Q&#34;, &#34;Q&#34;], &#34;type&#34;: &#34;Barrier&#34;}}, {&#34;args&#34;: [[&#34;q&#34;, [4]]], &#34;op&#34;: {&#34;type&#34;: &#34;Reset&#34;}}, {&#34;args&#34;: [[&#34;q&#34;, [5]]], &#34;op&#34;: {&#34;type&#34;: &#34;Reset&#34;}}, {&#34;args&#34;: [[&#34;q&#34;, [5]]], &#34;op&#34;: {&#34;type&#34;: &#34;H&#34;}}, {&#34;args&#34;: [[&#34;q&#34;, [5]], [&#34;q&#34;, [0]]], &#34;op&#34;: {&#34;type&#34;: &#34;CX&#34;}}, {&#34;args&#34;: [[&#34;q&#34;, [0]], [&#34;q&#34;, [1]], [&#34;q&#34;, [2]], [&#34;q&#34;, [3]], [&#34;q&#34;, [4]], [&#34;q&#34;, [5]]], &#34;op&#34;: {&#34;data&#34;: &#34;&#34;, &#34;signature&#34;: [&#34;Q&#34;, &#34;Q&#34;, &#34;Q&#34;, &#34;Q&#34;, &#34;Q&#34;, &#34;Q&#34;], &#34;type&#34;: &#34;Barrier&#34;}}, {&#34;args&#34;: [[&#34;q&#34;, [0]], [&#34;q&#34;, [4]]], &#34;op&#34;: {&#34;type&#34;: &#34;CX&#34;}}, {&#34;args&#34;: [[&#34;q&#34;, [0]], [&#34;q&#34;, [1]], [&#34;q&#34;, [2]], [&#34;q&#34;, [3]], [&#34;q&#34;, [4]], [&#34;q&#34;, [5]]], &#34;op&#34;: {&#34;data&#34;: &#34;&#34;, &#34;signature&#34;: [&#34;Q&#34;, &#34;Q&#34;, &#34;Q&#34;, &#34;Q&#34;, &#34;Q&#34;, &#34;Q&#34;], &#34;type&#34;: &#34;Barrier&#34;}}, {&#34;args&#34;: [[&#34;q&#34;, [1]], [&#34;q&#34;, [4]]], &#34;op&#34;: {&#34;type&#34;: &#34;CX&#34;}}, {&#34;args&#34;: [[&#34;q&#34;, [0]], [&#34;q&#34;, [1]], [&#34;q&#34;, [2]], [&#34;q&#34;, [3]], [&#34;q&#34;, [4]], [&#34;q&#34;, [5]]], &#34;op&#34;: {&#34;data&#34;: &#34;&#34;, &#34;signature&#34;: [&#34;Q&#34;, &#34;Q&#34;, &#34;Q&#34;, &#34;Q&#34;, &#34;Q&#34;, &#34;Q&#34;], &#34;type&#34;: &#34;Barrier&#34;}}, {&#34;args&#34;: [[&#34;q&#34;, [5]], [&#34;q&#34;, [1]]], &#34;op&#34;: {&#34;type&#34;: &#34;CX&#34;}}, {&#34;args&#34;: [[&#34;q&#34;, [0]], [&#34;q&#34;, [1]], [&#34;q&#34;, [2]], [&#34;q&#34;, [3]], [&#34;q&#34;, [4]], [&#34;q&#34;, [5]]], &#34;op&#34;: {&#34;data&#34;: &#34;&#34;, &#34;signature&#34;: [&#34;Q&#34;, &#34;Q&#34;, &#34;Q&#34;, &#34;Q&#34;, &#34;Q&#34;, &#34;Q&#34;], &#34;type&#34;: &#34;Barrier&#34;}}, {&#34;args&#34;: [[&#34;q&#34;, [5]], [&#34;q&#34;, [2]]], &#34;op&#34;: {&#34;type&#34;: &#34;CX&#34;}}, {&#34;args&#34;: [[&#34;q&#34;, [0]], [&#34;q&#34;, [1]], [&#34;q&#34;, [2]], [&#34;q&#34;, [3]], [&#34;q&#34;, [4]], [&#34;q&#34;, [5]]], &#34;op&#34;: {&#34;data&#34;: &#34;&#34;, &#34;signature&#34;: [&#34;Q&#34;, &#34;Q&#34;, &#34;Q&#34;, &#34;Q&#34;, &#34;Q&#34;, &#34;Q&#34;], &#34;type&#34;: &#34;Barrier&#34;}}, {&#34;args&#34;: [[&#34;q&#34;, [2]], [&#34;q&#34;, [4]]], &#34;op&#34;: {&#34;type&#34;: &#34;CX&#34;}}, {&#34;args&#34;: [[&#34;q&#34;, [0]], [&#34;q&#34;, [1]], [&#34;q&#34;, [2]], [&#34;q&#34;, [3]], [&#34;q&#34;, [4]], [&#34;q&#34;, [5]]], &#34;op&#34;: {&#34;data&#34;: &#34;&#34;, &#34;signature&#34;: [&#34;Q&#34;, &#34;Q&#34;, &#34;Q&#34;, &#34;Q&#34;, &#34;Q&#34;, &#34;Q&#34;], &#34;type&#34;: &#34;Barrier&#34;}}, {&#34;args&#34;: [[&#34;q&#34;, [3]], [&#34;q&#34;, [4]]], &#34;op&#34;: {&#34;type&#34;: &#34;CX&#34;}}, {&#34;args&#34;: [[&#34;q&#34;, [0]], [&#34;q&#34;, [1]], [&#34;q&#34;, [2]], [&#34;q&#34;, [3]], [&#34;q&#34;, [4]], [&#34;q&#34;, [5]]], &#34;op&#34;: {&#34;data&#34;: &#34;&#34;, &#34;signature&#34;: [&#34;Q&#34;, &#34;Q&#34;, &#34;Q&#34;, &#34;Q&#34;, &#34;Q&#34;, &#34;Q&#34;], &#34;type&#34;: &#34;Barrier&#34;}}, {&#34;args&#34;: [[&#34;q&#34;, [5]], [&#34;q&#34;, [3]]], &#34;op&#34;: {&#34;type&#34;: &#34;CX&#34;}}, {&#34;args&#34;: [[&#34;q&#34;, [0]], [&#34;q&#34;, [1]], [&#34;q&#34;, [2]], [&#34;q&#34;, [3]], [&#34;q&#34;, [4]], [&#34;q&#34;, [5]]], &#34;op&#34;: {&#34;data&#34;: &#34;&#34;, &#34;signature&#34;: [&#34;Q&#34;, &#34;Q&#34;, &#34;Q&#34;, &#34;Q&#34;, &#34;Q&#34;, &#34;Q&#34;], &#34;type&#34;: &#34;Barrier&#34;}}, {&#34;args&#34;: [[&#34;q&#34;, [4]], [&#34;c&#34;, [0]]], &#34;op&#34;: {&#34;type&#34;: &#34;Measure&#34;}}, {&#34;args&#34;: [[&#34;q&#34;, [5]]], &#34;op&#34;: {&#34;type&#34;: &#34;H&#34;}}, {&#34;args&#34;: [[&#34;q&#34;, [5]], [&#34;c&#34;, [1]]], &#34;op&#34;: {&#34;type&#34;: &#34;Measure&#34;}}, {&#34;args&#34;: [[&#34;c&#34;, [0]], [&#34;c&#34;, [1]], [&#34;c&#34;, [4]]], &#34;op&#34;: {&#34;box&#34;: {&#34;exp&#34;: {&#34;args&#34;: [{&#34;args&#34;: [[&#34;c&#34;, [0]], [&#34;c&#34;, [1]]], &#34;op&#34;: &#34;BitWiseOp.OR&#34;}, [&#34;c&#34;, [4]]], &#34;op&#34;: &#34;BitWiseOp.OR&#34;}, &#34;id&#34;: &#34;2a112d3c-8888-4f6d-a0e0-6de5ef5ff758&#34;, &#34;n_i&#34;: 2, &#34;n_io&#34;: 1, &#34;n_o&#34;: 0, &#34;type&#34;: &#34;ClassicalExpBox&#34;}, &#34;type&#34;: &#34;ClassicalExpBox&#34;}}, {&#34;args&#34;: [[&#34;q&#34;, [0]], [&#34;q&#34;, [1]], [&#34;q&#34;, [2]], [&#34;q&#34;, [3]], [&#34;q&#34;, [4]], [&#34;q&#34;, [5]]], &#34;op&#34;: {&#34;data&#34;: &#34;&#34;, &#34;signature&#34;: [&#34;Q&#34;, &#34;Q&#34;, &#34;Q&#34;, &#34;Q&#34;, &#34;Q&#34;, &#34;Q&#34;], &#34;type&#34;: &#34;Barrier&#34;}}, {&#34;args&#34;: [[&#34;q&#34;, [2]], [&#34;q&#34;, [3]]], &#34;op&#34;: {&#34;params&#34;: [&#34;0.0796048928646692&#34;], &#34;type&#34;: &#34;ZZPhase&#34;}}, {&#34;args&#34;: [[&#34;q&#34;, [1]], [&#34;q&#34;, [2]]], &#34;op&#34;: {&#34;params&#34;: [&#34;-0.0796048928646692&#34;], &#34;type&#34;: &#34;ZZPhase&#34;}}, {&#34;args&#34;: [[&#34;q&#34;, [0]], [&#34;q&#34;, [2]]], &#34;op&#34;: {&#34;params&#34;: [&#34;-0.0180923392738548&#34;], &#34;type&#34;: &#34;XXPhase&#34;}}, {&#34;args&#34;: [[&#34;q&#34;, [0]], [&#34;q&#34;, [2]]], &#34;op&#34;: {&#34;params&#34;: [&#34;-0.0180923392738548&#34;], &#34;type&#34;: &#34;YYPhase&#34;}}, {&#34;args&#34;: [[&#34;q&#34;, [0]], [&#34;q&#34;, [1]], [&#34;q&#34;, [2]], [&#34;q&#34;, [3]], [&#34;q&#34;, [4]], [&#34;q&#34;, [5]]], &#34;op&#34;: {&#34;data&#34;: &#34;&#34;, &#34;signature&#34;: [&#34;Q&#34;, &#34;Q&#34;, &#34;Q&#34;, &#34;Q&#34;, &#34;Q&#34;, &#34;Q&#34;], &#34;type&#34;: &#34;Barrier&#34;}}, {&#34;args&#34;: [[&#34;q&#34;, [1]], [&#34;q&#34;, [3]]], &#34;op&#34;: {&#34;params&#34;: [&#34;-0.0495393761823617&#34;], &#34;type&#34;: &#34;ZZPhase&#34;}}, {&#34;args&#34;: [[&#34;q&#34;, [0]], [&#34;q&#34;, [1]], [&#34;q&#34;, [2]], [&#34;q&#34;, [3]], [&#34;q&#34;, [4]], [&#34;q&#34;, [5]]], &#34;op&#34;: {&#34;data&#34;: &#34;&#34;, &#34;signature&#34;: [&#34;Q&#34;, &#34;Q&#34;, &#34;Q&#34;, &#34;Q&#34;, &#34;Q&#34;, &#34;Q&#34;], &#34;type&#34;: &#34;Barrier&#34;}}, {&#34;args&#34;: [[&#34;q&#34;, [4]]], &#34;op&#34;: {&#34;type&#34;: &#34;Reset&#34;}}, {&#34;args&#34;: [[&#34;q&#34;, [5]]], &#34;op&#34;: {&#34;type&#34;: &#34;Reset&#34;}}, {&#34;args&#34;: [[&#34;q&#34;, [0]], [&#34;q&#34;, [4]]], &#34;op&#34;: {&#34;type&#34;: &#34;CX&#34;}}, {&#34;args&#34;: [[&#34;q&#34;, [5]]], &#34;op&#34;: {&#34;type&#34;: &#34;H&#34;}}, {&#34;args&#34;: [[&#34;q&#34;, [0]], [&#34;q&#34;, [1]], [&#34;q&#34;, [2]], [&#34;q&#34;, [3]], [&#34;q&#34;, [4]], [&#34;q&#34;, [5]]], &#34;op&#34;: {&#34;data&#34;: &#34;&#34;, &#34;signature&#34;: [&#34;Q&#34;, &#34;Q&#34;, &#34;Q&#34;, &#34;Q&#34;, &#34;Q&#34;, &#34;Q&#34;], &#34;type&#34;: &#34;Barrier&#34;}}, {&#34;args&#34;: [[&#34;q&#34;, [5]], [&#34;q&#34;, [4]]], &#34;op&#34;: {&#34;type&#34;: &#34;CX&#34;}}, {&#34;args&#34;: [[&#34;q&#34;, [0]], [&#34;q&#34;, [1]], [&#34;q&#34;, [2]], [&#34;q&#34;, [3]], [&#34;q&#34;, [4]], [&#34;q&#34;, [5]]], &#34;op&#34;: {&#34;data&#34;: &#34;&#34;, &#34;signature&#34;: [&#34;Q&#34;, &#34;Q&#34;, &#34;Q&#34;, &#34;Q&#34;, &#34;Q&#34;, &#34;Q&#34;], &#34;type&#34;: &#34;Barrier&#34;}}, {&#34;args&#34;: [[&#34;q&#34;, [1]], [&#34;q&#34;, [4]]], &#34;op&#34;: {&#34;type&#34;: &#34;CX&#34;}}, {&#34;args&#34;: [[&#34;q&#34;, [0]], [&#34;q&#34;, [1]], [&#34;q&#34;, [2]], [&#34;q&#34;, [3]], [&#34;q&#34;, [4]], [&#34;q&#34;, [5]]], &#34;op&#34;: {&#34;data&#34;: &#34;&#34;, &#34;signature&#34;: [&#34;Q&#34;, &#34;Q&#34;, &#34;Q&#34;, &#34;Q&#34;, &#34;Q&#34;, &#34;Q&#34;], &#34;type&#34;: &#34;Barrier&#34;}}, {&#34;args&#34;: [[&#34;q&#34;, [2]], [&#34;q&#34;, [4]]], &#34;op&#34;: {&#34;type&#34;: &#34;CX&#34;}}, {&#34;args&#34;: [[&#34;q&#34;, [0]], [&#34;q&#34;, [1]], [&#34;q&#34;, [2]], [&#34;q&#34;, [3]], [&#34;q&#34;, [4]], [&#34;q&#34;, [5]]], &#34;op&#34;: {&#34;data&#34;: &#34;&#34;, &#34;signature&#34;: [&#34;Q&#34;, &#34;Q&#34;, &#34;Q&#34;, &#34;Q&#34;, &#34;Q&#34;, &#34;Q&#34;], &#34;type&#34;: &#34;Barrier&#34;}}, {&#34;args&#34;: [[&#34;q&#34;, [5]], [&#34;q&#34;, [4]]], &#34;op&#34;: {&#34;type&#34;: &#34;CX&#34;}}, {&#34;args&#34;: [[&#34;q&#34;, [0]], [&#34;q&#34;, [1]], [&#34;q&#34;, [2]], [&#34;q&#34;, [3]], [&#34;q&#34;, [4]], [&#34;q&#34;, [5]]], &#34;op&#34;: {&#34;data&#34;: &#34;&#34;, &#34;signature&#34;: [&#34;Q&#34;, &#34;Q&#34;, &#34;Q&#34;, &#34;Q&#34;, &#34;Q&#34;, &#34;Q&#34;], &#34;type&#34;: &#34;Barrier&#34;}}, {&#34;args&#34;: [[&#34;q&#34;, [3]], [&#34;q&#34;, [4]]], &#34;op&#34;: {&#34;type&#34;: &#34;CX&#34;}}, {&#34;args&#34;: [[&#34;q&#34;, [0]], [&#34;q&#34;, [1]], [&#34;q&#34;, [2]], [&#34;q&#34;, [3]], [&#34;q&#34;, [4]], [&#34;q&#34;, [5]]], &#34;op&#34;: {&#34;data&#34;: &#34;&#34;, &#34;signature&#34;: [&#34;Q&#34;, &#34;Q&#34;, &#34;Q&#34;, &#34;Q&#34;, &#34;Q&#34;, &#34;Q&#34;], &#34;type&#34;: &#34;Barrier&#34;}}, {&#34;args&#34;: [[&#34;q&#34;, [4]], [&#34;c&#34;, [0]]], &#34;op&#34;: {&#34;type&#34;: &#34;Measure&#34;}}, {&#34;args&#34;: [[&#34;q&#34;, [5]]], &#34;op&#34;: {&#34;type&#34;: &#34;H&#34;}}, {&#34;args&#34;: [[&#34;q&#34;, [5]], [&#34;c&#34;, [1]]], &#34;op&#34;: {&#34;type&#34;: &#34;Measure&#34;}}, {&#34;args&#34;: [[&#34;c&#34;, [0]], [&#34;c&#34;, [1]], [&#34;c&#34;, [4]]], &#34;op&#34;: {&#34;box&#34;: {&#34;exp&#34;: {&#34;args&#34;: [{&#34;args&#34;: [[&#34;c&#34;, [0]], [&#34;c&#34;, [1]]], &#34;op&#34;: &#34;BitWiseOp.OR&#34;}, [&#34;c&#34;, [4]]], &#34;op&#34;: &#34;BitWiseOp.OR&#34;}, &#34;id&#34;: &#34;3e03b600-fc86-4b07-afdf-74bfff28b2ae&#34;, &#34;n_i&#34;: 2, &#34;n_io&#34;: 1, &#34;n_o&#34;: 0, &#34;type&#34;: &#34;ClassicalExpBox&#34;}, &#34;type&#34;: &#34;ClassicalExpBox&#34;}}, {&#34;args&#34;: [[&#34;q&#34;, [0]], [&#34;q&#34;, [1]], [&#34;q&#34;, [2]], [&#34;q&#34;, [3]], [&#34;q&#34;, [4]], [&#34;q&#34;, [5]]], &#34;op&#34;: {&#34;data&#34;: &#34;&#34;, &#34;signature&#34;: [&#34;Q&#34;, &#34;Q&#34;, &#34;Q&#34;, &#34;Q&#34;, &#34;Q&#34;, &#34;Q&#34;], &#34;type&#34;: &#34;Barrier&#34;}}, {&#34;args&#34;: [[&#34;q&#34;, [0]]], &#34;op&#34;: {&#34;type&#34;: &#34;H&#34;}}, {&#34;args&#34;: [[&#34;q&#34;, [1]]], &#34;op&#34;: {&#34;type&#34;: &#34;H&#34;}}, {&#34;args&#34;: [[&#34;q&#34;, [2]]], &#34;op&#34;: {&#34;type&#34;: &#34;H&#34;}}, {&#34;args&#34;: [[&#34;q&#34;, [3]]], &#34;op&#34;: {&#34;type&#34;: &#34;H&#34;}}, {&#34;args&#34;: [[&#34;q&#34;, [0]], [&#34;c&#34;, [0]]], &#34;op&#34;: {&#34;type&#34;: &#34;Measure&#34;}}, {&#34;args&#34;: [[&#34;q&#34;, [1]], [&#34;c&#34;, [1]]], &#34;op&#34;: {&#34;type&#34;: &#34;Measure&#34;}}, {&#34;args&#34;: [[&#34;q&#34;, [2]], [&#34;c&#34;, [2]]], &#34;op&#34;: {&#34;type&#34;: &#34;Measure&#34;}}, {&#34;args&#34;: [[&#34;q&#34;, [3]], [&#34;c&#34;, [3]]], &#34;op&#34;: {&#34;type&#34;: &#34;Measure&#34;}}], &#34;created_qubits&#34;: [], &#34;discarded_qubits&#34;: [], &#34;implicit_permutation&#34;: [[[&#34;q&#34;, [0]], [&#34;q&#34;, [0]]], [[&#34;q&#34;, [1]], [&#34;q&#34;, [1]]], [[&#34;q&#34;, [2]], [&#34;q&#34;, [2]]], [[&#34;q&#34;, [3]], [&#34;q&#34;, [3]]], [[&#34;q&#34;, [4]], [&#34;q&#34;, [4]]], [[&#34;q&#34;, [5]], [&#34;q&#34;, [5]]]], &#34;phase&#34;: &#34;0.0&#34;, &#34;qubits&#34;: [[&#34;q&#34;, [0]], [&#34;q&#34;, [1]], [&#34;q&#34;, [2]], [&#34;q&#34;, [3]], [&#34;q&#34;, [4]], [&#34;q&#34;, [5]]]}&lt;/div&gt;\n",
       "        &lt;/div&gt;\n",
       "        &lt;circuit-display-container\n",
       "                :circuit-element-str=&#34;&#39;#circuit-json-to-display&#39;&#34;\n",
       "                :init-render-options=&#34;initRenderOptions&#34;\n",
       "                view-format=&#34;None&#34;\n",
       "        &gt;&lt;/circuit-display-container&gt;\n",
       "    &lt;/div&gt;\n",
       "    &lt;script type=&#34;application/javascript&#34;&gt;\n",
       "      const circuitRendererUid = &#34;7bf34434-c8d6-44c2-89d0-4f260d995ab4&#34;;\n",
       "      const displayOptions = JSON.parse(&#39;{}&#39;);\n",
       "\n",
       "      // Script to initialise the circuit renderer app\n",
       "\n",
       "const { createApp } = Vue;\n",
       "const circuitDisplayContainer = window[&#34;pytket-circuit-renderer&#34;].default;\n",
       "// Init variables to be shared between circuit display instances\n",
       "if (typeof window.pytketCircuitDisplays === &#34;undefined&#34;) {\n",
       "    window.pytketCircuitDisplays = {};\n",
       "}\n",
       "// Create the root Vue component\n",
       "const app = createApp({\n",
       "    delimiters: [&#39;[[#&#39;, &#39;#]]&#39;],\n",
       "    components: { circuitDisplayContainer },\n",
       "    data () {\n",
       "      return {\n",
       "        initRenderOptions: displayOptions,\n",
       "      }\n",
       "    }\n",
       "})\n",
       "app.config.unwrapInjectedRef = true;\n",
       "app.mount(&#34;#circuit-display-vue-container-&#34;+circuitRendererUid);\n",
       "window.pytketCircuitDisplays[circuitRendererUid] = app;\n",
       "    &lt;/script&gt;\n",
       "\n",
       "\n",
       "\n",
       "&lt;/body&gt;\n",
       "&lt;/html&gt;\n",
       "\"\n",
       "            width=\"100%\" height=\"100%\"\n",
       "            style=\"border: none; outline: none; overflow: auto\"></iframe>\n",
       "</div>\n",
       "\n"
      ],
      "text/plain": [
       "<IPython.core.display.HTML object>"
      ]
     },
     "metadata": {},
     "output_type": "display_data"
    }
   ],
   "source": [
    "qpe_func_iceberg = get_qpe_func_iceberg(syndrome_interval=1)\n",
    "    \n",
    "circ_temp = qpe_func_iceberg(k=2, beta=FCI_ENERGY*DELTAT)\n",
    "draw(circ_temp)\n"
   ]
  },
  {
   "cell_type": "markdown",
   "metadata": {},
   "source": [
    "## CUDA-Q Circuits"
   ]
  },
  {
   "cell_type": "code",
   "execution_count": 7,
   "metadata": {},
   "outputs": [],
   "source": [
    "import cudaq"
   ]
  },
  {
   "cell_type": "markdown",
   "metadata": {},
   "source": [
    "Build kernels that we can use to create the Iceberg Encoded circuit"
   ]
  },
  {
   "cell_type": "code",
   "execution_count": 8,
   "metadata": {},
   "outputs": [],
   "source": [
    "# Fault-tolerant Plus state preparation\n",
    "@cudaq.kernel\n",
    "def FTstatePrep(q: cudaq.qview):\n",
    "    # Qubit register mapping:\n",
    "    # ic: [t, 0, 1, b, f0, f1]\n",
    "    #  q: [0, 1, 2, 3, 4, 5]\n",
    "    h(q[0])\n",
    "    x.ctrl(q[0], q[4])\n",
    "    # barrier()\n",
    "    x.ctrl(q[0], q[1])\n",
    "    # barrier()\n",
    "    x.ctrl(q[0], q[4])\n",
    "    # barrier()\n",
    "    h(q[0])\n",
    "    h(q[1])\n",
    "    h(q[2])\n",
    "    # bit0 = mz(q[4])\n",
    "    x.ctrl(q[2], q[5])\n",
    "    # barrier()\n",
    "    x.ctrl(q[2], q[3])\n",
    "    # barrier()\n",
    "    x.ctrl(q[2], q[5])\n",
    "    # bit1 = mz(q[5])\n",
    "    # return (bit0 or bit1)"
   ]
  },
  {
   "cell_type": "code",
   "execution_count": 9,
   "metadata": {},
   "outputs": [],
   "source": [
    "# logical hartree-fock state preparation\n",
    "@cudaq.kernel\n",
    "def HFstatePrep(q: cudaq.qview):\n",
    "    x(q[0])\n",
    "    x(q[2])"
   ]
  },
  {
   "cell_type": "code",
   "execution_count": 10,
   "metadata": {},
   "outputs": [],
   "source": [
    "# Syndrome measurement circuit\n",
    "@cudaq.kernel\n",
    "def syndromeMeasurement(q: cudaq.qview):\n",
    "    reset(q[4])\n",
    "    reset(q[5])\n",
    "    h(q[5])\n",
    "    x.ctrl(q[5], q[0])\n",
    "    # barrier()\n",
    "    x.ctrl(q[0], q[4])\n",
    "    # barrier()\n",
    "    x.ctrl(q[1], q[4])\n",
    "    # barrier()\n",
    "    x.ctrl(q[5], q[1])\n",
    "    # barrier()\n",
    "    x.ctrl(q[5], q[2])\n",
    "    # barrier()\n",
    "    x.ctrl(q[2], q[4])\n",
    "    # barrier()\n",
    "    x.ctrl(q[3], q[4])\n",
    "    # barrier()\n",
    "    x.ctrl(q[5], q[3])\n",
    "    # barrier()\n",
    "    # bit0 = mz(q[4])\n",
    "    h(q[5])\n",
    "    # bit1 = mz(q[5])\n",
    "    # return (bit0 or bit1)"
   ]
  },
  {
   "cell_type": "code",
   "execution_count": 11,
   "metadata": {},
   "outputs": [],
   "source": [
    "# Fault-tolerant measurements\n",
    "@cudaq.kernel\n",
    "def FTmeasurement(q: cudaq.qview):\n",
    "    reset(q[4])\n",
    "    reset(q[5])\n",
    "    x.ctrl(q[0], q[4])\n",
    "    h(q[5])\n",
    "    # barrier()\n",
    "    x.ctrl(q[5], q[4])\n",
    "    # barrier()\n",
    "    x.ctrl(q[1], q[4])\n",
    "    # barrier()\n",
    "    x.ctrl(q[2], q[4])\n",
    "    # barrier()\n",
    "    x.ctrl(q[5], q[4])\n",
    "    # barrier()\n",
    "    x.ctrl(q[3], q[4])\n",
    "    # barrier()\n",
    "    # bit0 = mz(q[4])\n",
    "    h(q[5])\n",
    "    # bit1 = mz(q[5])\n",
    "    # return (bit0 or bit1)"
   ]
  },
  {
   "cell_type": "code",
   "execution_count": 12,
   "metadata": {},
   "outputs": [],
   "source": [
    "from math import pi\n",
    "\n",
    "coefficients = np.array(\n",
    "    [\n",
    "        -pi / 2 * c\n",
    "        for c in [CZ * DELTAT, -CZ * DELTAT, CX * DELTAT, CX * DELTAT, -CI * DELTAT]\n",
    "    ],\n",
    "    dtype=np.float64,\n",
    ")\n",
    "# control-U^{k} and Rz(beta) operations\n",
    "@cudaq.kernel\n",
    "def ctrlU(q: cudaq.qview, k: int, rescaled_beta: float, coeffs: list[float], syndrome_interval: int):\n",
    "    for i in range(k):\n",
    "        exp_pauli(coeffs[0], q, \"IIZZII\")  # this is the pauli exponential e^{i c Z2Z3}\n",
    "        exp_pauli(coeffs[1], q, \"IZZIII\")  # this is the pauli exponential e^{i c Z1Z2}\n",
    "        exp_pauli(coeffs[2], q, \"XIXIII\")  # this is the pauli exponential e^{i c X0X2}\n",
    "        exp_pauli(coeffs[3], q, \"YIYIII\")  # this is the pauli exponential e^{i c Y0Y2}\n",
    "        if i + 1 >= k:  # no syndrome measurement in the last iteration\n",
    "            break\n",
    "        if (i + 1) % syndrome_interval == 0:\n",
    "            syndromeMeasurement(q)\n",
    "    exp_pauli(coeffs[4]*k + rescaled_beta, q, \"IZIZII\")  # this is the pauli exponential e^{i c Z1Z3}"
   ]
  },
  {
   "cell_type": "code",
   "execution_count": 13,
   "metadata": {},
   "outputs": [],
   "source": [
    "@cudaq.kernel(verbose=False)\n",
    "def qpe_iceberg(k: int, rescaled_beta: float, syndrome_interval: int):\n",
    "    q = cudaq.qvector(6)\n",
    "    # state preparation\n",
    "    FTstatePrep(q)\n",
    "    # HF state preparation\n",
    "    HFstatePrep(q)\n",
    "    # ctrl-U with syndrome\n",
    "    ctrlU(q, k, rescaled_beta, coefficients, syndrome_interval)\n",
    "    # FT measurements\n",
    "    FTmeasurement(q)\n",
    "    # measure in X basis\n",
    "    h(q)\n",
    "    mz(q)\n",
    "\n"
   ]
  },
  {
   "cell_type": "markdown",
   "metadata": {},
   "source": [
    " ## Create and sample shots from the circuits"
   ]
  },
  {
   "cell_type": "code",
   "execution_count": 14,
   "metadata": {},
   "outputs": [],
   "source": [
    "# CPU\n",
    "cudaq.set_target('qpp-cpu')\n",
    "# Quantinuum\n",
    "# cudaq.set_target('quantinuum', emulate=True)\n",
    "\n",
    "# Execute the QPE circuits.\n",
    "results = []\n",
    "for k,b in zip(k_list,beta_list):\n",
    "    rb = -pi/2*b  # rescaling needed for beta\n",
    "    results.append(cudaq.sample(qpe_iceberg, k, rb, 20, shots_count=1))"
   ]
  },
  {
   "cell_type": "markdown",
   "metadata": {},
   "source": [
    "We write a helper function to translate the CUDA-Q `SampleResult` into the pytket `BackendResult`"
   ]
  },
  {
   "cell_type": "code",
   "execution_count": 15,
   "metadata": {},
   "outputs": [],
   "source": [
    "from pytket import Bit\n",
    "from pytket.backends.backendresult import BackendResult\n",
    "from pytket.utils.outcomearray import OutcomeArray\n",
    "from typing import Counter\n",
    "\n",
    "\n",
    "# def get_decoded_result(result: cudaq.SampleResult) -> BackendResult:\n",
    "#     logical_counts = Counter()\n",
    "#     readout0 = result.get_sequential_data('readout0')\n",
    "#     readout1 = result.get_sequential_data('readout1')\n",
    "#     readout2 = result.get_sequential_data('readout2')\n",
    "#     readout3 = result.get_sequential_data('readout3')    \n",
    "#     for r0, r1, r2, r3 in zip(readout0, readout1, readout2, readout3):\n",
    "#         if (int(r0) + int(r1) + int(r2) + int(r3)) % 2 != 0:\n",
    "#             print(\"Discard\")\n",
    "#         readout = (int(r0), int(r1))\n",
    "#         # print(readout)\n",
    "#         logical_readout = tuple([(1 - (-1) ** (readout[0] + readout[1])) // 2])\n",
    "#         logical_counts[OutcomeArray.from_readouts([logical_readout])] += 1\n",
    "#     logical_result = BackendResult(\n",
    "#         counts=logical_counts,\n",
    "#         c_bits=[Bit(0)],\n",
    "#     )\n",
    "#     return logical_result\n",
    "\n",
    "\n",
    "def get_decoded_result(result: cudaq.SampleResult) -> BackendResult:\n",
    "    logical_counts = Counter()\n",
    "    for bitstring, counts in result.items():\n",
    "        # print(bitstring, counts)\n",
    "        if (int(bitstring[0]) + int(bitstring[1]) + int(bitstring[2]) + int(bitstring[3])) % 2 != 0:\n",
    "            print(\"Discard\")\n",
    "            continue\n",
    "        logical_readout = tuple(\n",
    "            [(1 - (-1) ** (int(bitstring[0]) + int(bitstring[1]))) // 2]\n",
    "        )\n",
    "        logical_counts[OutcomeArray.from_readouts([logical_readout])] += counts\n",
    "    logical_result = BackendResult(\n",
    "        counts=logical_counts,\n",
    "        c_bits=[Bit(0)],\n",
    "    )\n",
    "    return logical_result"
   ]
  },
  {
   "cell_type": "code",
   "execution_count": 16,
   "metadata": {},
   "outputs": [],
   "source": [
    "# Interpret the encoded results back in the logical space.\n",
    "logical_results = [get_decoded_result(r) for r in results]\n"
   ]
  },
  {
   "cell_type": "markdown",
   "metadata": {},
   "source": [
    "## Post-process the results using our own pytket pipeline:"
   ]
  },
  {
   "cell_type": "code",
   "execution_count": 17,
   "metadata": {},
   "outputs": [],
   "source": [
    "from algorithm import get_mu_and_sigma, bayesian_update\n",
    "\n",
    "\n",
    "# Prepare the uniform prior distribution.\n",
    "n_grid_points = 2**14\n",
    "phi = np.linspace(-1, 1, n_grid_points + 1)[:-1]\n",
    "prior = np.ones_like(phi)\n",
    "\n",
    "posterior = bayesian_update(\n",
    "    phi,\n",
    "    prior,\n",
    "    k_list,\n",
    "    beta_list,\n",
    "    logical_results,\n",
    "    error_rate=error_rate_func,\n",
    ")"
   ]
  },
  {
   "cell_type": "code",
   "execution_count": 18,
   "metadata": {},
   "outputs": [
    {
     "name": "stdout",
     "output_type": "stream",
     "text": [
      "Energy estimate =    -1.12881 Ha\n",
      "Energy sigma    =     0.04685 Ha\n",
      "FCI energy      =    -1.13731 Ha\n"
     ]
    }
   ],
   "source": [
    "mu, sigma = get_mu_and_sigma(posterior, phi=phi)\n",
    "mu_energy = -mu / DELTAT\n",
    "sigma_energy = sigma / DELTAT\n",
    "print(f\"Energy estimate = {mu_energy:11.5f} Ha\")\n",
    "print(f\"Energy sigma    = {sigma_energy:11.5f} Ha\")\n",
    "print(f\"FCI energy      = {FCI_ENERGY:11.5f} Ha\")"
   ]
  },
  {
   "cell_type": "markdown",
   "metadata": {},
   "source": [
    "### Plot probability distribution"
   ]
  },
  {
   "cell_type": "code",
   "execution_count": 20,
   "metadata": {},
   "outputs": [
    {
     "data": {
      "text/plain": [
       "<matplotlib.legend.Legend at 0xfffedc4211e0>"
      ]
     },
     "execution_count": 20,
     "metadata": {},
     "output_type": "execute_result"
    },
    {
     "data": {
      "image/png": "[encoded data removed]",
      "text/plain": [
       "<Figure size 640x480 with 1 Axes>"
      ]
     },
     "metadata": {},
     "output_type": "display_data"
    }
   ],
   "source": [
    "import matplotlib.pyplot as plt\n",
    "\n",
    "x_energy = -phi / DELTAT\n",
    "plt.plot(x_energy, posterior, \"k-\")\n",
    "plt.xlim([-1.2,-1.0])\n",
    "plt.plot(FCI_ENERGY, 0, \"r^\", label=\"Reference value\")\n",
    "plt.xlabel(r\"Energy $E$ / hartree\")\n",
    "plt.ylabel(r\"Probability distribuition $P(E)$\")\n",
    "plt.legend()"
   ]
  },
  {
   "cell_type": "code",
   "execution_count": null,
   "metadata": {},
   "outputs": [],
   "source": []
  }
 ],
 "metadata": {
  "kernelspec": {
   "display_name": "Python 3",
   "language": "python",
   "name": "python3"
  },
  "language_info": {
   "codemirror_mode": {
    "name": "ipython",
    "version": 3
   },
   "file_extension": ".py",
   "mimetype": "text/x-python",
   "name": "python",
   "nbconvert_exporter": "python",
   "pygments_lexer": "ipython3",
   "version": "3.10.12"
  }
 },
 "nbformat": 4,
 "nbformat_minor": 2
}
