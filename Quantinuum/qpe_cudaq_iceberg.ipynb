{
 "cells": [
  {
   "cell_type": "markdown",
   "metadata": {},
   "source": [
    "# Information Theoretic Quantum Phase Estimation for Hydrogen with the Iceberg Code"
   ]
  },
  {
   "cell_type": "markdown",
   "metadata": {},
   "source": [
    "Install `pytket` if it is not available (we use it to create a baseline quantum circuit and to process results):"
   ]
  },
  {
   "cell_type": "code",
   "execution_count": null,
   "metadata": {},
   "outputs": [],
   "source": [
    "# !pip install pytket==1.40.0"
   ]
  },
  {
   "cell_type": "markdown",
   "metadata": {},
   "source": [
    "We rely on the `algorithm` module for some utility functions:"
   ]
  },
  {
   "cell_type": "code",
   "execution_count": 2,
   "metadata": {},
   "outputs": [],
   "source": [
    "import numpy as np\n",
    "from algorithm import generate_ks"
   ]
  },
  {
   "cell_type": "markdown",
   "metadata": {},
   "source": [
    "The phase estimation algorithm requires to generate a number `n_samples` of circuits using different powers `k` of the controlled unitary Trotterized Hamiltonian, up to the largest power `k_max`.\n",
    "A list of random angles `beta` is also needed.\n",
    "Overall, a given pair `(k,beta)` correspond to a single circuit."
   ]
  },
  {
   "cell_type": "code",
   "execution_count": 3,
   "metadata": {},
   "outputs": [],
   "source": [
    "# Prepare the samples of (k, beta).\n",
    "k_max = 16\n",
    "n_samples = 50  # this will set how many circuits we need to run for the QPE\n",
    "error_rate = 0.0 # for a noiseless simulation we can set this to 0\n",
    "\n",
    "\n",
    "def error_rate_func(k: int) -> float:\n",
    "    q = 1 - (1 - error_rate) ** k\n",
    "    return q\n",
    "\n",
    "\n",
    "k_list = generate_ks(k_max, n_samples, error_rate=error_rate_func)\n",
    "beta_list = (1 - 2 * np.random.random(size=n_samples)).tolist()\n"
   ]
  },
  {
   "cell_type": "markdown",
   "metadata": {},
   "source": [
    "## Hamiltonian for the tapered 1-qubit Hydrogen molecule\n",
    "\n",
    "Coefficients for the controlled unitary Trotterized Hamiltonian $e^{-i \\delta t H}$ are defined below"
   ]
  },
  {
   "cell_type": "code",
   "execution_count": 4,
   "metadata": {},
   "outputs": [],
   "source": [
    "# 1-qubit controlled Hamiltonian trotterization coefficients\n",
    "CZ = 0.7960489286466914\n",
    "CX = -0.1809233927385484\n",
    "CI = -0.3209561440881913\n",
    "DELTAT = 0.1\n",
    "# This is the reference energy from a full configuration interaction calculation\n",
    "FCI_ENERGY = -1.13730605"
   ]
  },
  {
   "cell_type": "markdown",
   "metadata": {},
   "source": [
    "## The QPE `pytket` circuit as a baseline"
   ]
  },
  {
   "cell_type": "markdown",
   "metadata": {},
   "source": [
    "Here we define a function that generates the QPE circuit for a given `(k, beta)` pair and encodes it using the [Iceberg Code](https://www.quantinuum.com/blog/protecting-expressive-circuits-with-a-quantum-error-detection-code) with a specified number of syndrome measurement circuits "
   ]
  },
  {
   "cell_type": "code",
   "execution_count": 5,
   "metadata": {},
   "outputs": [],
   "source": [
    "from typing import Callable\n",
    "from pytket.circuit import Circuit\n",
    "\n",
    "\n",
    "def get_qpe_func_iceberg(syndrome_interval: int) -> Callable[[int, float], Circuit]:\n",
    "\n",
    "    def qpe_func_iceberg(k: int, beta: float) -> Circuit:\n",
    "        \"\"\"Hard-coded QPE circuit function.\"\"\"\n",
    "        # Qubit register mapping:\n",
    "        # [t, 0, 1, b, f0, f1]\n",
    "        # Bit register mapping:\n",
    "        # [a0, a1, a2, a3, discard]\n",
    "        circ = Circuit(6, 5)\n",
    "        # === FT plus state preparation ===\n",
    "        circ.H(0)\n",
    "        circ.CX(0, 4)\n",
    "        circ.add_barrier(circ.qubits)\n",
    "        circ.CX(0, 1)\n",
    "        circ.add_barrier(circ.qubits)\n",
    "        circ.CX(0, 4)\n",
    "        circ.add_barrier(circ.qubits)\n",
    "        circ.H(0)\n",
    "        circ.H(1)\n",
    "        circ.H(2)\n",
    "        circ.Measure(4, 0)\n",
    "        circ.CX(2, 5)\n",
    "        circ.add_barrier(circ.qubits)\n",
    "        circ.CX(2, 3)\n",
    "        circ.add_barrier(circ.qubits)\n",
    "        circ.CX(2, 5)\n",
    "        circ.Measure(5, 1)\n",
    "        circ.add_classicalexpbox_bit(\n",
    "            circ.bits[0] | circ.bits[1],\n",
    "            [circ.bits[4]],\n",
    "        )\n",
    "        circ.add_barrier(circ.qubits)\n",
    "        # === Logical operations ===\n",
    "        # HF state preparation.\n",
    "        circ.X(0)\n",
    "        circ.X(2)\n",
    "        # ctrl-U^{k} and Rz(beta) operations.\n",
    "        for ii in range(k):\n",
    "            circ.ZZPhase(CZ*DELTAT, 2, 3)\n",
    "            circ.ZZPhase(-CZ*DELTAT, 1, 2)\n",
    "            circ.XXPhase(CX*DELTAT, 0, 2)\n",
    "            circ.YYPhase(CX*DELTAT, 0, 2)\n",
    "            if ii + 1 >= k:\n",
    "                break\n",
    "            if (ii + 1) % syndrome_interval == 0:\n",
    "                circ.add_barrier(circ.qubits)\n",
    "                circ.Reset(4)\n",
    "                circ.Reset(5)\n",
    "                circ.H(5)\n",
    "                circ.CX(5, 0)\n",
    "                circ.add_barrier(circ.qubits)\n",
    "                circ.CX(0, 4)\n",
    "                circ.add_barrier(circ.qubits)\n",
    "                circ.CX(1, 4)\n",
    "                circ.add_barrier(circ.qubits)\n",
    "                circ.CX(5, 1)\n",
    "                circ.add_barrier(circ.qubits)\n",
    "                circ.CX(5, 2)\n",
    "                circ.add_barrier(circ.qubits)\n",
    "                circ.CX(2, 4)\n",
    "                circ.add_barrier(circ.qubits)\n",
    "                circ.CX(3, 4)\n",
    "                circ.add_barrier(circ.qubits)\n",
    "                circ.CX(5, 3)\n",
    "                circ.add_barrier(circ.qubits)\n",
    "                circ.Measure(4, 0)\n",
    "                circ.H(5)\n",
    "                circ.Measure(5, 1)\n",
    "                circ.add_classicalexpbox_bit(\n",
    "                    circ.bits[0] | circ.bits[1] | circ.bits[4],\n",
    "                    [circ.bits[4]],\n",
    "                )\n",
    "                circ.add_barrier(circ.qubits)\n",
    "        circ.add_barrier(circ.qubits)\n",
    "        circ.ZZPhase(-CI*DELTAT*k + beta, 1, 3)\n",
    "        # === FT measurements ===\n",
    "        circ.add_barrier(circ.qubits)\n",
    "        circ.Reset(4)\n",
    "        circ.Reset(5)\n",
    "        circ.CX(0, 4)\n",
    "        circ.H(5)\n",
    "        circ.add_barrier(circ.qubits)\n",
    "        circ.CX(5, 4)\n",
    "        circ.add_barrier(circ.qubits)\n",
    "        circ.CX(1, 4)\n",
    "        circ.add_barrier(circ.qubits)\n",
    "        circ.CX(2, 4)\n",
    "        circ.add_barrier(circ.qubits)\n",
    "        circ.CX(5, 4)\n",
    "        circ.add_barrier(circ.qubits)\n",
    "        circ.CX(3, 4)\n",
    "        circ.add_barrier(circ.qubits)\n",
    "        circ.Measure(4, 0)\n",
    "        circ.H(5)\n",
    "        circ.Measure(5, 1)\n",
    "        circ.add_classicalexpbox_bit(\n",
    "            circ.bits[0] | circ.bits[1] | circ.bits[4],\n",
    "            [circ.bits[4]],\n",
    "        )\n",
    "        circ.add_barrier(circ.qubits)\n",
    "        circ.H(0)\n",
    "        circ.H(1)\n",
    "        circ.H(2)\n",
    "        circ.H(3)\n",
    "        circ.Measure(0, 0)\n",
    "        circ.Measure(1, 1)\n",
    "        circ.Measure(2, 2)\n",
    "        circ.Measure(3, 3)\n",
    "        return circ\n",
    "    \n",
    "    return qpe_func_iceberg"
   ]
  },
  {
   "cell_type": "markdown",
   "metadata": {},
   "source": [
    "A function to generate circuits for any `(k, beta)` pairs at fixed number of syndrome measurements can now be used"
   ]
  },
  {
   "cell_type": "code",
   "execution_count": 6,
   "metadata": {},
   "outputs": [
    {
     "name": "stderr",
     "output_type": "stream",
     "text": [
      "/tmp/ipykernel_37144/3274549630.py:32: DeprecationWarning: The add_classicalexpbox_bit method is deprecated. Please use Circuit::add_clexpr() instead.\n",
      "  circ.add_classicalexpbox_bit(\n",
      "/tmp/ipykernel_37144/3274549630.py:73: DeprecationWarning: The add_classicalexpbox_bit method is deprecated. Please use Circuit::add_clexpr() instead.\n",
      "  circ.add_classicalexpbox_bit(\n",
      "/tmp/ipykernel_37144/3274549630.py:100: DeprecationWarning: The add_classicalexpbox_bit method is deprecated. Please use Circuit::add_clexpr() instead.\n",
      "  circ.add_classicalexpbox_bit(\n"
     ]
    }
   ],
   "source": [
    "qpe_func_iceberg = get_qpe_func_iceberg(syndrome_interval=1)\n",
    "\n",
    "circ_temp = qpe_func_iceberg(k=2, beta=-0.1)"
   ]
  },
  {
   "cell_type": "markdown",
   "metadata": {},
   "source": [
    "We can display the circuit in this notebook using the `render_circuit_jupyter` function"
   ]
  },
  {
   "cell_type": "code",
   "execution_count": 7,
   "metadata": {},
   "outputs": [
    {
     "data": {
      "text/html": [
       "\n",
       "\n",
       "\n",
       "\n",
       "\n",
       "\n",
       "<div style=\"resize: vertical; overflow: auto; height: 400px; display: block\">\n",
       "    <iframe srcdoc=\"\n",
       "&lt;!DOCTYPE html&gt;\n",
       "&lt;html lang=&#34;en&#34;&gt;\n",
       "&lt;head&gt;\n",
       "    &lt;meta charset=&#34;UTF-8&#34;&gt;\n",
       "    &lt;!-- Download Vue 3--&gt;\n",
       "&lt;script type=&#34;application/javascript&#34; src=&#34;https://cdn.jsdelivr.net/npm/vue@3&#34;&gt;&lt;/script&gt;\n",
       "&lt;!-- Download Circuit Renderer with styles --&gt;\n",
       "&lt;script type=&#34;application/javascript&#34; src=&#34;https://unpkg.com/pytket-circuit-renderer@0.10/dist/pytket-circuit-renderer.umd.js&#34;&gt;&lt;/script&gt;\n",
       "&lt;link rel=&#34;stylesheet&#34; href=&#34;https://unpkg.com/pytket-circuit-renderer@0.10/dist/pytket-circuit-renderer.css&#34;&gt;\n",
       "&lt;/head&gt;\n",
       "&lt;body&gt;\n",
       "\n",
       "\n",
       "    &lt;div id=&#34;circuit-display-vue-container-da1d11e9-607a-4515-93c1-7fdcb035aa74&#34; class=&#34;pytket-circuit-display-container&#34;&gt;\n",
       "        &lt;div style=&#34;display: none&#34;&gt;\n",
       "            &lt;div id=&#34;circuit-json-to-display&#34;&gt;{&#34;bits&#34;: [[&#34;c&#34;, [0]], [&#34;c&#34;, [1]], [&#34;c&#34;, [2]], [&#34;c&#34;, [3]], [&#34;c&#34;, [4]]], &#34;commands&#34;: [{&#34;args&#34;: [[&#34;q&#34;, [0]]], &#34;op&#34;: {&#34;type&#34;: &#34;H&#34;}}, {&#34;args&#34;: [[&#34;q&#34;, [0]], [&#34;q&#34;, [4]]], &#34;op&#34;: {&#34;type&#34;: &#34;CX&#34;}}, {&#34;args&#34;: [[&#34;q&#34;, [0]], [&#34;q&#34;, [1]], [&#34;q&#34;, [2]], [&#34;q&#34;, [3]], [&#34;q&#34;, [4]], [&#34;q&#34;, [5]]], &#34;op&#34;: {&#34;data&#34;: &#34;&#34;, &#34;signature&#34;: [&#34;Q&#34;, &#34;Q&#34;, &#34;Q&#34;, &#34;Q&#34;, &#34;Q&#34;, &#34;Q&#34;], &#34;type&#34;: &#34;Barrier&#34;}}, {&#34;args&#34;: [[&#34;q&#34;, [0]], [&#34;q&#34;, [1]]], &#34;op&#34;: {&#34;type&#34;: &#34;CX&#34;}}, {&#34;args&#34;: [[&#34;q&#34;, [0]], [&#34;q&#34;, [1]], [&#34;q&#34;, [2]], [&#34;q&#34;, [3]], [&#34;q&#34;, [4]], [&#34;q&#34;, [5]]], &#34;op&#34;: {&#34;data&#34;: &#34;&#34;, &#34;signature&#34;: [&#34;Q&#34;, &#34;Q&#34;, &#34;Q&#34;, &#34;Q&#34;, &#34;Q&#34;, &#34;Q&#34;], &#34;type&#34;: &#34;Barrier&#34;}}, {&#34;args&#34;: [[&#34;q&#34;, [0]], [&#34;q&#34;, [4]]], &#34;op&#34;: {&#34;type&#34;: &#34;CX&#34;}}, {&#34;args&#34;: [[&#34;q&#34;, [0]], [&#34;q&#34;, [1]], [&#34;q&#34;, [2]], [&#34;q&#34;, [3]], [&#34;q&#34;, [4]], [&#34;q&#34;, [5]]], &#34;op&#34;: {&#34;data&#34;: &#34;&#34;, &#34;signature&#34;: [&#34;Q&#34;, &#34;Q&#34;, &#34;Q&#34;, &#34;Q&#34;, &#34;Q&#34;, &#34;Q&#34;], &#34;type&#34;: &#34;Barrier&#34;}}, {&#34;args&#34;: [[&#34;q&#34;, [4]], [&#34;c&#34;, [0]]], &#34;op&#34;: {&#34;type&#34;: &#34;Measure&#34;}}, {&#34;args&#34;: [[&#34;q&#34;, [0]]], &#34;op&#34;: {&#34;type&#34;: &#34;H&#34;}}, {&#34;args&#34;: [[&#34;q&#34;, [1]]], &#34;op&#34;: {&#34;type&#34;: &#34;H&#34;}}, {&#34;args&#34;: [[&#34;q&#34;, [2]]], &#34;op&#34;: {&#34;type&#34;: &#34;H&#34;}}, {&#34;args&#34;: [[&#34;q&#34;, [2]], [&#34;q&#34;, [5]]], &#34;op&#34;: {&#34;type&#34;: &#34;CX&#34;}}, {&#34;args&#34;: [[&#34;q&#34;, [0]], [&#34;q&#34;, [1]], [&#34;q&#34;, [2]], [&#34;q&#34;, [3]], [&#34;q&#34;, [4]], [&#34;q&#34;, [5]]], &#34;op&#34;: {&#34;data&#34;: &#34;&#34;, &#34;signature&#34;: [&#34;Q&#34;, &#34;Q&#34;, &#34;Q&#34;, &#34;Q&#34;, &#34;Q&#34;, &#34;Q&#34;], &#34;type&#34;: &#34;Barrier&#34;}}, {&#34;args&#34;: [[&#34;q&#34;, [2]], [&#34;q&#34;, [3]]], &#34;op&#34;: {&#34;type&#34;: &#34;CX&#34;}}, {&#34;args&#34;: [[&#34;q&#34;, [0]], [&#34;q&#34;, [1]], [&#34;q&#34;, [2]], [&#34;q&#34;, [3]], [&#34;q&#34;, [4]], [&#34;q&#34;, [5]]], &#34;op&#34;: {&#34;data&#34;: &#34;&#34;, &#34;signature&#34;: [&#34;Q&#34;, &#34;Q&#34;, &#34;Q&#34;, &#34;Q&#34;, &#34;Q&#34;, &#34;Q&#34;], &#34;type&#34;: &#34;Barrier&#34;}}, {&#34;args&#34;: [[&#34;q&#34;, [2]], [&#34;q&#34;, [5]]], &#34;op&#34;: {&#34;type&#34;: &#34;CX&#34;}}, {&#34;args&#34;: [[&#34;q&#34;, [5]], [&#34;c&#34;, [1]]], &#34;op&#34;: {&#34;type&#34;: &#34;Measure&#34;}}, {&#34;args&#34;: [[&#34;c&#34;, [0]], [&#34;c&#34;, [1]], [&#34;c&#34;, [4]]], &#34;op&#34;: {&#34;box&#34;: {&#34;exp&#34;: {&#34;args&#34;: [[&#34;c&#34;, [0]], [&#34;c&#34;, [1]]], &#34;op&#34;: &#34;BitWiseOp.OR&#34;}, &#34;id&#34;: &#34;94567111-c2dd-40b1-8756-cfcf456c0f15&#34;, &#34;n_i&#34;: 2, &#34;n_io&#34;: 0, &#34;n_o&#34;: 1, &#34;type&#34;: &#34;ClassicalExpBox&#34;}, &#34;type&#34;: &#34;ClassicalExpBox&#34;}}, {&#34;args&#34;: [[&#34;q&#34;, [0]], [&#34;q&#34;, [1]], [&#34;q&#34;, [2]], [&#34;q&#34;, [3]], [&#34;q&#34;, [4]], [&#34;q&#34;, [5]]], &#34;op&#34;: {&#34;data&#34;: &#34;&#34;, &#34;signature&#34;: [&#34;Q&#34;, &#34;Q&#34;, &#34;Q&#34;, &#34;Q&#34;, &#34;Q&#34;, &#34;Q&#34;], &#34;type&#34;: &#34;Barrier&#34;}}, {&#34;args&#34;: [[&#34;q&#34;, [0]]], &#34;op&#34;: {&#34;type&#34;: &#34;X&#34;}}, {&#34;args&#34;: [[&#34;q&#34;, [2]]], &#34;op&#34;: {&#34;type&#34;: &#34;X&#34;}}, {&#34;args&#34;: [[&#34;q&#34;, [2]], [&#34;q&#34;, [3]]], &#34;op&#34;: {&#34;params&#34;: [&#34;0.0796048928646692&#34;], &#34;type&#34;: &#34;ZZPhase&#34;}}, {&#34;args&#34;: [[&#34;q&#34;, [1]], [&#34;q&#34;, [2]]], &#34;op&#34;: {&#34;params&#34;: [&#34;-0.0796048928646692&#34;], &#34;type&#34;: &#34;ZZPhase&#34;}}, {&#34;args&#34;: [[&#34;q&#34;, [0]], [&#34;q&#34;, [2]]], &#34;op&#34;: {&#34;params&#34;: [&#34;-0.0180923392738548&#34;], &#34;type&#34;: &#34;XXPhase&#34;}}, {&#34;args&#34;: [[&#34;q&#34;, [0]], [&#34;q&#34;, [2]]], &#34;op&#34;: {&#34;params&#34;: [&#34;-0.0180923392738548&#34;], &#34;type&#34;: &#34;YYPhase&#34;}}, {&#34;args&#34;: [[&#34;q&#34;, [0]], [&#34;q&#34;, [1]], [&#34;q&#34;, [2]], [&#34;q&#34;, [3]], [&#34;q&#34;, [4]], [&#34;q&#34;, [5]]], &#34;op&#34;: {&#34;data&#34;: &#34;&#34;, &#34;signature&#34;: [&#34;Q&#34;, &#34;Q&#34;, &#34;Q&#34;, &#34;Q&#34;, &#34;Q&#34;, &#34;Q&#34;], &#34;type&#34;: &#34;Barrier&#34;}}, {&#34;args&#34;: [[&#34;q&#34;, [4]]], &#34;op&#34;: {&#34;type&#34;: &#34;Reset&#34;}}, {&#34;args&#34;: [[&#34;q&#34;, [5]]], &#34;op&#34;: {&#34;type&#34;: &#34;Reset&#34;}}, {&#34;args&#34;: [[&#34;q&#34;, [5]]], &#34;op&#34;: {&#34;type&#34;: &#34;H&#34;}}, {&#34;args&#34;: [[&#34;q&#34;, [5]], [&#34;q&#34;, [0]]], &#34;op&#34;: {&#34;type&#34;: &#34;CX&#34;}}, {&#34;args&#34;: [[&#34;q&#34;, [0]], [&#34;q&#34;, [1]], [&#34;q&#34;, [2]], [&#34;q&#34;, [3]], [&#34;q&#34;, [4]], [&#34;q&#34;, [5]]], &#34;op&#34;: {&#34;data&#34;: &#34;&#34;, &#34;signature&#34;: [&#34;Q&#34;, &#34;Q&#34;, &#34;Q&#34;, &#34;Q&#34;, &#34;Q&#34;, &#34;Q&#34;], &#34;type&#34;: &#34;Barrier&#34;}}, {&#34;args&#34;: [[&#34;q&#34;, [0]], [&#34;q&#34;, [4]]], &#34;op&#34;: {&#34;type&#34;: &#34;CX&#34;}}, {&#34;args&#34;: [[&#34;q&#34;, [0]], [&#34;q&#34;, [1]], [&#34;q&#34;, [2]], [&#34;q&#34;, [3]], [&#34;q&#34;, [4]], [&#34;q&#34;, [5]]], &#34;op&#34;: {&#34;data&#34;: &#34;&#34;, &#34;signature&#34;: [&#34;Q&#34;, &#34;Q&#34;, &#34;Q&#34;, &#34;Q&#34;, &#34;Q&#34;, &#34;Q&#34;], &#34;type&#34;: &#34;Barrier&#34;}}, {&#34;args&#34;: [[&#34;q&#34;, [1]], [&#34;q&#34;, [4]]], &#34;op&#34;: {&#34;type&#34;: &#34;CX&#34;}}, {&#34;args&#34;: [[&#34;q&#34;, [0]], [&#34;q&#34;, [1]], [&#34;q&#34;, [2]], [&#34;q&#34;, [3]], [&#34;q&#34;, [4]], [&#34;q&#34;, [5]]], &#34;op&#34;: {&#34;data&#34;: &#34;&#34;, &#34;signature&#34;: [&#34;Q&#34;, &#34;Q&#34;, &#34;Q&#34;, &#34;Q&#34;, &#34;Q&#34;, &#34;Q&#34;], &#34;type&#34;: &#34;Barrier&#34;}}, {&#34;args&#34;: [[&#34;q&#34;, [5]], [&#34;q&#34;, [1]]], &#34;op&#34;: {&#34;type&#34;: &#34;CX&#34;}}, {&#34;args&#34;: [[&#34;q&#34;, [0]], [&#34;q&#34;, [1]], [&#34;q&#34;, [2]], [&#34;q&#34;, [3]], [&#34;q&#34;, [4]], [&#34;q&#34;, [5]]], &#34;op&#34;: {&#34;data&#34;: &#34;&#34;, &#34;signature&#34;: [&#34;Q&#34;, &#34;Q&#34;, &#34;Q&#34;, &#34;Q&#34;, &#34;Q&#34;, &#34;Q&#34;], &#34;type&#34;: &#34;Barrier&#34;}}, {&#34;args&#34;: [[&#34;q&#34;, [5]], [&#34;q&#34;, [2]]], &#34;op&#34;: {&#34;type&#34;: &#34;CX&#34;}}, {&#34;args&#34;: [[&#34;q&#34;, [0]], [&#34;q&#34;, [1]], [&#34;q&#34;, [2]], [&#34;q&#34;, [3]], [&#34;q&#34;, [4]], [&#34;q&#34;, [5]]], &#34;op&#34;: {&#34;data&#34;: &#34;&#34;, &#34;signature&#34;: [&#34;Q&#34;, &#34;Q&#34;, &#34;Q&#34;, &#34;Q&#34;, &#34;Q&#34;, &#34;Q&#34;], &#34;type&#34;: &#34;Barrier&#34;}}, {&#34;args&#34;: [[&#34;q&#34;, [2]], [&#34;q&#34;, [4]]], &#34;op&#34;: {&#34;type&#34;: &#34;CX&#34;}}, {&#34;args&#34;: [[&#34;q&#34;, [0]], [&#34;q&#34;, [1]], [&#34;q&#34;, [2]], [&#34;q&#34;, [3]], [&#34;q&#34;, [4]], [&#34;q&#34;, [5]]], &#34;op&#34;: {&#34;data&#34;: &#34;&#34;, &#34;signature&#34;: [&#34;Q&#34;, &#34;Q&#34;, &#34;Q&#34;, &#34;Q&#34;, &#34;Q&#34;, &#34;Q&#34;], &#34;type&#34;: &#34;Barrier&#34;}}, {&#34;args&#34;: [[&#34;q&#34;, [3]], [&#34;q&#34;, [4]]], &#34;op&#34;: {&#34;type&#34;: &#34;CX&#34;}}, {&#34;args&#34;: [[&#34;q&#34;, [0]], [&#34;q&#34;, [1]], [&#34;q&#34;, [2]], [&#34;q&#34;, [3]], [&#34;q&#34;, [4]], [&#34;q&#34;, [5]]], &#34;op&#34;: {&#34;data&#34;: &#34;&#34;, &#34;signature&#34;: [&#34;Q&#34;, &#34;Q&#34;, &#34;Q&#34;, &#34;Q&#34;, &#34;Q&#34;, &#34;Q&#34;], &#34;type&#34;: &#34;Barrier&#34;}}, {&#34;args&#34;: [[&#34;q&#34;, [5]], [&#34;q&#34;, [3]]], &#34;op&#34;: {&#34;type&#34;: &#34;CX&#34;}}, {&#34;args&#34;: [[&#34;q&#34;, [0]], [&#34;q&#34;, [1]], [&#34;q&#34;, [2]], [&#34;q&#34;, [3]], [&#34;q&#34;, [4]], [&#34;q&#34;, [5]]], &#34;op&#34;: {&#34;data&#34;: &#34;&#34;, &#34;signature&#34;: [&#34;Q&#34;, &#34;Q&#34;, &#34;Q&#34;, &#34;Q&#34;, &#34;Q&#34;, &#34;Q&#34;], &#34;type&#34;: &#34;Barrier&#34;}}, {&#34;args&#34;: [[&#34;q&#34;, [4]], [&#34;c&#34;, [0]]], &#34;op&#34;: {&#34;type&#34;: &#34;Measure&#34;}}, {&#34;args&#34;: [[&#34;q&#34;, [5]]], &#34;op&#34;: {&#34;type&#34;: &#34;H&#34;}}, {&#34;args&#34;: [[&#34;q&#34;, [5]], [&#34;c&#34;, [1]]], &#34;op&#34;: {&#34;type&#34;: &#34;Measure&#34;}}, {&#34;args&#34;: [[&#34;c&#34;, [0]], [&#34;c&#34;, [1]], [&#34;c&#34;, [4]]], &#34;op&#34;: {&#34;box&#34;: {&#34;exp&#34;: {&#34;args&#34;: [{&#34;args&#34;: [[&#34;c&#34;, [0]], [&#34;c&#34;, [1]]], &#34;op&#34;: &#34;BitWiseOp.OR&#34;}, [&#34;c&#34;, [4]]], &#34;op&#34;: &#34;BitWiseOp.OR&#34;}, &#34;id&#34;: &#34;9053bf9e-a3d9-42ed-bc30-a8b1c8486211&#34;, &#34;n_i&#34;: 2, &#34;n_io&#34;: 1, &#34;n_o&#34;: 0, &#34;type&#34;: &#34;ClassicalExpBox&#34;}, &#34;type&#34;: &#34;ClassicalExpBox&#34;}}, {&#34;args&#34;: [[&#34;q&#34;, [0]], [&#34;q&#34;, [1]], [&#34;q&#34;, [2]], [&#34;q&#34;, [3]], [&#34;q&#34;, [4]], [&#34;q&#34;, [5]]], &#34;op&#34;: {&#34;data&#34;: &#34;&#34;, &#34;signature&#34;: [&#34;Q&#34;, &#34;Q&#34;, &#34;Q&#34;, &#34;Q&#34;, &#34;Q&#34;, &#34;Q&#34;], &#34;type&#34;: &#34;Barrier&#34;}}, {&#34;args&#34;: [[&#34;q&#34;, [2]], [&#34;q&#34;, [3]]], &#34;op&#34;: {&#34;params&#34;: [&#34;0.0796048928646692&#34;], &#34;type&#34;: &#34;ZZPhase&#34;}}, {&#34;args&#34;: [[&#34;q&#34;, [1]], [&#34;q&#34;, [2]]], &#34;op&#34;: {&#34;params&#34;: [&#34;-0.0796048928646692&#34;], &#34;type&#34;: &#34;ZZPhase&#34;}}, {&#34;args&#34;: [[&#34;q&#34;, [0]], [&#34;q&#34;, [2]]], &#34;op&#34;: {&#34;params&#34;: [&#34;-0.0180923392738548&#34;], &#34;type&#34;: &#34;XXPhase&#34;}}, {&#34;args&#34;: [[&#34;q&#34;, [0]], [&#34;q&#34;, [2]]], &#34;op&#34;: {&#34;params&#34;: [&#34;-0.0180923392738548&#34;], &#34;type&#34;: &#34;YYPhase&#34;}}, {&#34;args&#34;: [[&#34;q&#34;, [0]], [&#34;q&#34;, [1]], [&#34;q&#34;, [2]], [&#34;q&#34;, [3]], [&#34;q&#34;, [4]], [&#34;q&#34;, [5]]], &#34;op&#34;: {&#34;data&#34;: &#34;&#34;, &#34;signature&#34;: [&#34;Q&#34;, &#34;Q&#34;, &#34;Q&#34;, &#34;Q&#34;, &#34;Q&#34;, &#34;Q&#34;], &#34;type&#34;: &#34;Barrier&#34;}}, {&#34;args&#34;: [[&#34;q&#34;, [1]], [&#34;q&#34;, [3]]], &#34;op&#34;: {&#34;params&#34;: [&#34;-0.0358087711823617&#34;], &#34;type&#34;: &#34;ZZPhase&#34;}}, {&#34;args&#34;: [[&#34;q&#34;, [0]], [&#34;q&#34;, [1]], [&#34;q&#34;, [2]], [&#34;q&#34;, [3]], [&#34;q&#34;, [4]], [&#34;q&#34;, [5]]], &#34;op&#34;: {&#34;data&#34;: &#34;&#34;, &#34;signature&#34;: [&#34;Q&#34;, &#34;Q&#34;, &#34;Q&#34;, &#34;Q&#34;, &#34;Q&#34;, &#34;Q&#34;], &#34;type&#34;: &#34;Barrier&#34;}}, {&#34;args&#34;: [[&#34;q&#34;, [4]]], &#34;op&#34;: {&#34;type&#34;: &#34;Reset&#34;}}, {&#34;args&#34;: [[&#34;q&#34;, [5]]], &#34;op&#34;: {&#34;type&#34;: &#34;Reset&#34;}}, {&#34;args&#34;: [[&#34;q&#34;, [0]], [&#34;q&#34;, [4]]], &#34;op&#34;: {&#34;type&#34;: &#34;CX&#34;}}, {&#34;args&#34;: [[&#34;q&#34;, [5]]], &#34;op&#34;: {&#34;type&#34;: &#34;H&#34;}}, {&#34;args&#34;: [[&#34;q&#34;, [0]], [&#34;q&#34;, [1]], [&#34;q&#34;, [2]], [&#34;q&#34;, [3]], [&#34;q&#34;, [4]], [&#34;q&#34;, [5]]], &#34;op&#34;: {&#34;data&#34;: &#34;&#34;, &#34;signature&#34;: [&#34;Q&#34;, &#34;Q&#34;, &#34;Q&#34;, &#34;Q&#34;, &#34;Q&#34;, &#34;Q&#34;], &#34;type&#34;: &#34;Barrier&#34;}}, {&#34;args&#34;: [[&#34;q&#34;, [5]], [&#34;q&#34;, [4]]], &#34;op&#34;: {&#34;type&#34;: &#34;CX&#34;}}, {&#34;args&#34;: [[&#34;q&#34;, [0]], [&#34;q&#34;, [1]], [&#34;q&#34;, [2]], [&#34;q&#34;, [3]], [&#34;q&#34;, [4]], [&#34;q&#34;, [5]]], &#34;op&#34;: {&#34;data&#34;: &#34;&#34;, &#34;signature&#34;: [&#34;Q&#34;, &#34;Q&#34;, &#34;Q&#34;, &#34;Q&#34;, &#34;Q&#34;, &#34;Q&#34;], &#34;type&#34;: &#34;Barrier&#34;}}, {&#34;args&#34;: [[&#34;q&#34;, [1]], [&#34;q&#34;, [4]]], &#34;op&#34;: {&#34;type&#34;: &#34;CX&#34;}}, {&#34;args&#34;: [[&#34;q&#34;, [0]], [&#34;q&#34;, [1]], [&#34;q&#34;, [2]], [&#34;q&#34;, [3]], [&#34;q&#34;, [4]], [&#34;q&#34;, [5]]], &#34;op&#34;: {&#34;data&#34;: &#34;&#34;, &#34;signature&#34;: [&#34;Q&#34;, &#34;Q&#34;, &#34;Q&#34;, &#34;Q&#34;, &#34;Q&#34;, &#34;Q&#34;], &#34;type&#34;: &#34;Barrier&#34;}}, {&#34;args&#34;: [[&#34;q&#34;, [2]], [&#34;q&#34;, [4]]], &#34;op&#34;: {&#34;type&#34;: &#34;CX&#34;}}, {&#34;args&#34;: [[&#34;q&#34;, [0]], [&#34;q&#34;, [1]], [&#34;q&#34;, [2]], [&#34;q&#34;, [3]], [&#34;q&#34;, [4]], [&#34;q&#34;, [5]]], &#34;op&#34;: {&#34;data&#34;: &#34;&#34;, &#34;signature&#34;: [&#34;Q&#34;, &#34;Q&#34;, &#34;Q&#34;, &#34;Q&#34;, &#34;Q&#34;, &#34;Q&#34;], &#34;type&#34;: &#34;Barrier&#34;}}, {&#34;args&#34;: [[&#34;q&#34;, [5]], [&#34;q&#34;, [4]]], &#34;op&#34;: {&#34;type&#34;: &#34;CX&#34;}}, {&#34;args&#34;: [[&#34;q&#34;, [0]], [&#34;q&#34;, [1]], [&#34;q&#34;, [2]], [&#34;q&#34;, [3]], [&#34;q&#34;, [4]], [&#34;q&#34;, [5]]], &#34;op&#34;: {&#34;data&#34;: &#34;&#34;, &#34;signature&#34;: [&#34;Q&#34;, &#34;Q&#34;, &#34;Q&#34;, &#34;Q&#34;, &#34;Q&#34;, &#34;Q&#34;], &#34;type&#34;: &#34;Barrier&#34;}}, {&#34;args&#34;: [[&#34;q&#34;, [3]], [&#34;q&#34;, [4]]], &#34;op&#34;: {&#34;type&#34;: &#34;CX&#34;}}, {&#34;args&#34;: [[&#34;q&#34;, [0]], [&#34;q&#34;, [1]], [&#34;q&#34;, [2]], [&#34;q&#34;, [3]], [&#34;q&#34;, [4]], [&#34;q&#34;, [5]]], &#34;op&#34;: {&#34;data&#34;: &#34;&#34;, &#34;signature&#34;: [&#34;Q&#34;, &#34;Q&#34;, &#34;Q&#34;, &#34;Q&#34;, &#34;Q&#34;, &#34;Q&#34;], &#34;type&#34;: &#34;Barrier&#34;}}, {&#34;args&#34;: [[&#34;q&#34;, [4]], [&#34;c&#34;, [0]]], &#34;op&#34;: {&#34;type&#34;: &#34;Measure&#34;}}, {&#34;args&#34;: [[&#34;q&#34;, [5]]], &#34;op&#34;: {&#34;type&#34;: &#34;H&#34;}}, {&#34;args&#34;: [[&#34;q&#34;, [5]], [&#34;c&#34;, [1]]], &#34;op&#34;: {&#34;type&#34;: &#34;Measure&#34;}}, {&#34;args&#34;: [[&#34;c&#34;, [0]], [&#34;c&#34;, [1]], [&#34;c&#34;, [4]]], &#34;op&#34;: {&#34;box&#34;: {&#34;exp&#34;: {&#34;args&#34;: [{&#34;args&#34;: [[&#34;c&#34;, [0]], [&#34;c&#34;, [1]]], &#34;op&#34;: &#34;BitWiseOp.OR&#34;}, [&#34;c&#34;, [4]]], &#34;op&#34;: &#34;BitWiseOp.OR&#34;}, &#34;id&#34;: &#34;adf39b54-fe32-4e61-98c3-4abf9ee5c48e&#34;, &#34;n_i&#34;: 2, &#34;n_io&#34;: 1, &#34;n_o&#34;: 0, &#34;type&#34;: &#34;ClassicalExpBox&#34;}, &#34;type&#34;: &#34;ClassicalExpBox&#34;}}, {&#34;args&#34;: [[&#34;q&#34;, [0]], [&#34;q&#34;, [1]], [&#34;q&#34;, [2]], [&#34;q&#34;, [3]], [&#34;q&#34;, [4]], [&#34;q&#34;, [5]]], &#34;op&#34;: {&#34;data&#34;: &#34;&#34;, &#34;signature&#34;: [&#34;Q&#34;, &#34;Q&#34;, &#34;Q&#34;, &#34;Q&#34;, &#34;Q&#34;, &#34;Q&#34;], &#34;type&#34;: &#34;Barrier&#34;}}, {&#34;args&#34;: [[&#34;q&#34;, [0]]], &#34;op&#34;: {&#34;type&#34;: &#34;H&#34;}}, {&#34;args&#34;: [[&#34;q&#34;, [1]]], &#34;op&#34;: {&#34;type&#34;: &#34;H&#34;}}, {&#34;args&#34;: [[&#34;q&#34;, [2]]], &#34;op&#34;: {&#34;type&#34;: &#34;H&#34;}}, {&#34;args&#34;: [[&#34;q&#34;, [3]]], &#34;op&#34;: {&#34;type&#34;: &#34;H&#34;}}, {&#34;args&#34;: [[&#34;q&#34;, [0]], [&#34;c&#34;, [0]]], &#34;op&#34;: {&#34;type&#34;: &#34;Measure&#34;}}, {&#34;args&#34;: [[&#34;q&#34;, [1]], [&#34;c&#34;, [1]]], &#34;op&#34;: {&#34;type&#34;: &#34;Measure&#34;}}, {&#34;args&#34;: [[&#34;q&#34;, [2]], [&#34;c&#34;, [2]]], &#34;op&#34;: {&#34;type&#34;: &#34;Measure&#34;}}, {&#34;args&#34;: [[&#34;q&#34;, [3]], [&#34;c&#34;, [3]]], &#34;op&#34;: {&#34;type&#34;: &#34;Measure&#34;}}], &#34;created_qubits&#34;: [], &#34;discarded_qubits&#34;: [], &#34;implicit_permutation&#34;: [[[&#34;q&#34;, [0]], [&#34;q&#34;, [0]]], [[&#34;q&#34;, [1]], [&#34;q&#34;, [1]]], [[&#34;q&#34;, [2]], [&#34;q&#34;, [2]]], [[&#34;q&#34;, [3]], [&#34;q&#34;, [3]]], [[&#34;q&#34;, [4]], [&#34;q&#34;, [4]]], [[&#34;q&#34;, [5]], [&#34;q&#34;, [5]]]], &#34;phase&#34;: &#34;0.0&#34;, &#34;qubits&#34;: [[&#34;q&#34;, [0]], [&#34;q&#34;, [1]], [&#34;q&#34;, [2]], [&#34;q&#34;, [3]], [&#34;q&#34;, [4]], [&#34;q&#34;, [5]]]}&lt;/div&gt;\n",
       "        &lt;/div&gt;\n",
       "        &lt;circuit-display-container\n",
       "                :circuit-element-str=&#34;&#39;#circuit-json-to-display&#39;&#34;\n",
       "                :init-render-options=&#34;initRenderOptions&#34;\n",
       "                view-format=&#34;None&#34;\n",
       "        &gt;&lt;/circuit-display-container&gt;\n",
       "    &lt;/div&gt;\n",
       "    &lt;script type=&#34;application/javascript&#34;&gt;\n",
       "      const circuitRendererUid = &#34;da1d11e9-607a-4515-93c1-7fdcb035aa74&#34;;\n",
       "      const displayOptions = JSON.parse(&#39;{}&#39;);\n",
       "\n",
       "      // Script to initialise the circuit renderer app\n",
       "\n",
       "const { createApp } = Vue;\n",
       "const circuitDisplayContainer = window[&#34;pytket-circuit-renderer&#34;].default;\n",
       "// Init variables to be shared between circuit display instances\n",
       "if (typeof window.pytketCircuitDisplays === &#34;undefined&#34;) {\n",
       "    window.pytketCircuitDisplays = {};\n",
       "}\n",
       "// Create the root Vue component\n",
       "const app = createApp({\n",
       "    delimiters: [&#39;[[#&#39;, &#39;#]]&#39;],\n",
       "    components: { circuitDisplayContainer },\n",
       "    data () {\n",
       "      return {\n",
       "        initRenderOptions: displayOptions,\n",
       "      }\n",
       "    }\n",
       "})\n",
       "app.config.unwrapInjectedRef = true;\n",
       "app.mount(&#34;#circuit-display-vue-container-&#34;+circuitRendererUid);\n",
       "window.pytketCircuitDisplays[circuitRendererUid] = app;\n",
       "    &lt;/script&gt;\n",
       "\n",
       "\n",
       "\n",
       "&lt;/body&gt;\n",
       "&lt;/html&gt;\n",
       "\"\n",
       "            width=\"100%\" height=\"100%\"\n",
       "            style=\"border: none; outline: none; overflow: auto\"></iframe>\n",
       "</div>\n",
       "\n"
      ],
      "text/plain": [
       "<IPython.core.display.HTML object>"
      ]
     },
     "metadata": {},
     "output_type": "display_data"
    }
   ],
   "source": [
    "from pytket.circuit.display import render_circuit_jupyter as draw\n",
    "\n",
    "draw(circ_temp)\n"
   ]
  },
  {
   "cell_type": "markdown",
   "metadata": {},
   "source": [
    "`pytket` allows users to access the unitary corresponding to a circuit or the statevector (if there are no measurements)"
   ]
  },
  {
   "cell_type": "markdown",
   "metadata": {},
   "source": [
    "## CUDA-Q Circuits"
   ]
  },
  {
   "cell_type": "markdown",
   "metadata": {},
   "source": [
    "Now we define `cuda-q` kernels for each sub-routine of the QPE circuit above."
   ]
  },
  {
   "cell_type": "code",
   "execution_count": 8,
   "metadata": {},
   "outputs": [],
   "source": [
    "# This is needed to debug `CUDA-Q` calls:\n",
    "# import os\n",
    "\n",
    "# os.environ[\"CUDAQ_LOG_LEVEL\"] = \"info\"\n",
    "# os.environ[\"CUDAQ_LOG_LEVEL\"] = \"trace\""
   ]
  },
  {
   "cell_type": "code",
   "execution_count": 9,
   "metadata": {},
   "outputs": [],
   "source": [
    "import cudaq"
   ]
  },
  {
   "cell_type": "markdown",
   "metadata": {},
   "source": [
    "The kernels below are `pure device` kernels and take a quantum register as input, together with other parameters as needed."
   ]
  },
  {
   "cell_type": "markdown",
   "metadata": {},
   "source": [
    "### Fault-tolerant state preparation for $|+\\rangle$"
   ]
  },
  {
   "cell_type": "markdown",
   "metadata": {},
   "source": [
    "We comment out any mid-circuit measurements for the time being, to simplify the evaluation of the kernels. For an example on using them see the notebook [qpe_cudaq_iceberg_discard.ipynb](./qpe_cudaq_iceberg_discard.ipynb)"
   ]
  },
  {
   "cell_type": "code",
   "execution_count": 10,
   "metadata": {},
   "outputs": [],
   "source": [
    "# Fault-tolerant Plus state preparation\n",
    "@cudaq.kernel\n",
    "def FTstatePrep(q: cudaq.qview):\n",
    "    # Qubit register mapping:\n",
    "    # ic: [t, 0, 1, b, f0, f1]\n",
    "    #  q: [0, 1, 2, 3, 4, 5]\n",
    "    h(q[0])\n",
    "    x.ctrl(q[0], q[4])\n",
    "    # barrier()\n",
    "    x.ctrl(q[0], q[1])\n",
    "    # barrier()\n",
    "    x.ctrl(q[0], q[4])\n",
    "    # barrier()\n",
    "    h(q[0])\n",
    "    h(q[1])\n",
    "    h(q[2])\n",
    "    # bit0 = mz(q[4])\n",
    "    x.ctrl(q[2], q[5])\n",
    "    # barrier()\n",
    "    x.ctrl(q[2], q[3])\n",
    "    # barrier()\n",
    "    x.ctrl(q[2], q[5])\n",
    "    # bit1 = mz(q[5])\n",
    "    # return (bit0 or bit1)"
   ]
  },
  {
   "cell_type": "markdown",
   "metadata": {},
   "source": [
    "### Hartree-Fock initial state preparation in the Iceberg Code logical qubits"
   ]
  },
  {
   "cell_type": "code",
   "execution_count": 11,
   "metadata": {},
   "outputs": [],
   "source": [
    "# logical hartree-fock state preparation\n",
    "@cudaq.kernel\n",
    "def HFstatePrep(q: cudaq.qview):\n",
    "    x(q[0])\n",
    "    x(q[2])"
   ]
  },
  {
   "cell_type": "markdown",
   "metadata": {},
   "source": [
    "### Syndrome measurement circuit"
   ]
  },
  {
   "cell_type": "code",
   "execution_count": 12,
   "metadata": {},
   "outputs": [],
   "source": [
    "# Syndrome measurement circuit\n",
    "@cudaq.kernel\n",
    "def syndromeMeasurement(q: cudaq.qview):\n",
    "    reset(q[4])\n",
    "    reset(q[5])\n",
    "    h(q[5])\n",
    "    x.ctrl(q[5], q[0])\n",
    "    # barrier()\n",
    "    x.ctrl(q[0], q[4])\n",
    "    # barrier()\n",
    "    x.ctrl(q[1], q[4])\n",
    "    # barrier()\n",
    "    x.ctrl(q[5], q[1])\n",
    "    # barrier()\n",
    "    x.ctrl(q[5], q[2])\n",
    "    # barrier()\n",
    "    x.ctrl(q[2], q[4])\n",
    "    # barrier()\n",
    "    x.ctrl(q[3], q[4])\n",
    "    # barrier()\n",
    "    x.ctrl(q[5], q[3])\n",
    "    # barrier()\n",
    "    # bit0 = mz(q[4])\n",
    "    h(q[5])\n",
    "    # bit1 = mz(q[5])\n",
    "    # return (bit0 or bit1)"
   ]
  },
  {
   "cell_type": "markdown",
   "metadata": {},
   "source": [
    "### Fault-tolerant measurement circuit"
   ]
  },
  {
   "cell_type": "code",
   "execution_count": 13,
   "metadata": {},
   "outputs": [],
   "source": [
    "# Fault-tolerant measurements\n",
    "@cudaq.kernel\n",
    "def FTmeasurement(q: cudaq.qview):\n",
    "    reset(q[4])\n",
    "    reset(q[5])\n",
    "    x.ctrl(q[0], q[4])\n",
    "    h(q[5])\n",
    "    # barrier()\n",
    "    x.ctrl(q[5], q[4])\n",
    "    # barrier()\n",
    "    x.ctrl(q[1], q[4])\n",
    "    # barrier()\n",
    "    x.ctrl(q[2], q[4])\n",
    "    # barrier()\n",
    "    x.ctrl(q[5], q[4])\n",
    "    # barrier()\n",
    "    x.ctrl(q[3], q[4])\n",
    "    # barrier()\n",
    "    # bit0 = mz(q[4])\n",
    "    h(q[5])\n",
    "    # bit1 = mz(q[5])\n",
    "    # return (bit0 or bit1)"
   ]
  },
  {
   "cell_type": "markdown",
   "metadata": {},
   "source": [
    "### Controlled-unitary circuit"
   ]
  },
  {
   "cell_type": "markdown",
   "metadata": {},
   "source": [
    "We use the `exp_pauli` object to create unitaries that are exponentials of Pauli strings. \n",
    "The following kernel implements the controlled unitary raised to the `k` power, and it includes syndrome measurements.\n",
    "This shows how to combine two `cuda-q` kernels to create more complicated quantum workflows."
   ]
  },
  {
   "cell_type": "code",
   "execution_count": 14,
   "metadata": {},
   "outputs": [],
   "source": [
    "from math import pi\n",
    "\n",
    "coefficients = np.array(\n",
    "    [\n",
    "        -pi / 2 * c\n",
    "        for c in [CZ * DELTAT, -CZ * DELTAT, CX * DELTAT, CX * DELTAT, -CI * DELTAT]\n",
    "    ],\n",
    "    dtype=np.float64,\n",
    ")\n",
    "# control-U^{k} and Rz(beta) operations\n",
    "@cudaq.kernel\n",
    "def ctrlU(q: cudaq.qview, k: int, rescaled_beta: float, coeffs: list[float], syndrome_interval: int):\n",
    "    for i in range(k):\n",
    "        exp_pauli(coeffs[0], q, \"IIZZII\")  # this is the pauli exponential e^{i c Z2Z3}\n",
    "        exp_pauli(coeffs[1], q, \"IZZIII\")  # this is the pauli exponential e^{i c Z1Z2}\n",
    "        exp_pauli(coeffs[2], q, \"XIXIII\")  # this is the pauli exponential e^{i c X0X2}\n",
    "        exp_pauli(coeffs[3], q, \"YIYIII\")  # this is the pauli exponential e^{i c Y0Y2}\n",
    "        if i + 1 >= k:  # no syndrome measurement in the last iteration\n",
    "            break\n",
    "        if (i + 1) % syndrome_interval == 0:\n",
    "            syndromeMeasurement(q)\n",
    "    exp_pauli(coeffs[4]*k + rescaled_beta, q, \"IZIZII\")  # this is the pauli exponential e^{i c Z1Z3}"
   ]
  },
  {
   "cell_type": "markdown",
   "metadata": {},
   "source": [
    "### Putting everything together"
   ]
  },
  {
   "cell_type": "markdown",
   "metadata": {},
   "source": [
    "Using the sub-routines given by the kernels above, we can build the full QPE circuit for any given value of `(k, beta)` and number of syndrome measurements.\n",
    "\n",
    "We add the measurement of two ancilla qubits in the `Z` basis to partially detect some errors."
   ]
  },
  {
   "cell_type": "code",
   "execution_count": 15,
   "metadata": {},
   "outputs": [],
   "source": [
    "@cudaq.kernel(verbose=False)\n",
    "def qpe_iceberg(k: int, rescaled_beta: float, syndrome_interval: int):\n",
    "    q = cudaq.qvector(6)\n",
    "    # state preparation\n",
    "    FTstatePrep(q)\n",
    "    # HF state preparation\n",
    "    HFstatePrep(q)\n",
    "    # ctrl-U with syndrome\n",
    "    ctrlU(q, k, rescaled_beta, coefficients, syndrome_interval)\n",
    "    # FT measurements\n",
    "    FTmeasurement(q)\n",
    "    # measure in X basis\n",
    "    h(q)\n",
    "    mz(q)\n",
    "\n"
   ]
  },
  {
   "cell_type": "markdown",
   "metadata": {},
   "source": [
    "## Create and sample shots from the circuits"
   ]
  },
  {
   "cell_type": "markdown",
   "metadata": {},
   "source": [
    "We can now create the circuits and use the `cudaq.sample` primitive to take shots from those circuits.\n",
    "\n",
    "First we set the target of `cuda-q` to a simulation backend:"
   ]
  },
  {
   "cell_type": "code",
   "execution_count": 16,
   "metadata": {},
   "outputs": [],
   "source": [
    "# CPU\n",
    "cudaq.set_target('qpp-cpu')\n"
   ]
  },
  {
   "cell_type": "markdown",
   "metadata": {},
   "source": [
    "Now we can test a single circuit"
   ]
  },
  {
   "cell_type": "code",
   "execution_count": 17,
   "metadata": {},
   "outputs": [
    {
     "name": "stdout",
     "output_type": "stream",
     "text": [
      "{ 000000:1 001110:1 010100:1 010101:1 010110:1 101010:1 110001:1 111100:1 111101:1 111110:1 }\n"
     ]
    }
   ],
   "source": [
    "k = 3\n",
    "beta = -0.1\n",
    "syndrome_interval = 1\n",
    "counts = cudaq.sample(qpe_iceberg, k, beta, syndrome_interval, shots_count=10)\n",
    "counts.dump()"
   ]
  },
  {
   "cell_type": "markdown",
   "metadata": {},
   "source": [
    "We are now ready to execute all the circuits and collect their results. We take 1 shot per circuit"
   ]
  },
  {
   "cell_type": "code",
   "execution_count": 18,
   "metadata": {},
   "outputs": [],
   "source": [
    "# Execute the QPE circuits.\n",
    "results = []\n",
    "for k,b in zip(k_list,beta_list):\n",
    "    rb = -pi/2*b  # rescaling needed for beta\n",
    "    results.append(cudaq.sample(qpe_iceberg, k, rb, 1, shots_count=1))"
   ]
  },
  {
   "cell_type": "markdown",
   "metadata": {},
   "source": [
    "We write a helper function to translate the CUDA-Q `SampleResult` into the pytket `BackendResult`. This function will also discard a count if it detects an error in the parity of the measured encoded qubits."
   ]
  },
  {
   "cell_type": "code",
   "execution_count": 19,
   "metadata": {},
   "outputs": [],
   "source": [
    "from pytket import Bit\n",
    "from pytket.backends.backendresult import BackendResult\n",
    "from pytket.utils.outcomearray import OutcomeArray\n",
    "from typing import Counter\n",
    "\n",
    "\n",
    "def get_decoded_result(result: cudaq.SampleResult) -> BackendResult:\n",
    "    logical_counts = Counter()\n",
    "    \n",
    "    for bitstring, counts in result.items():\n",
    "        if (\n",
    "            int(bitstring[0])\n",
    "            + int(bitstring[1])\n",
    "            + int(bitstring[2])\n",
    "            + int(bitstring[3])\n",
    "        ) % 2 != 0:\n",
    "            print(\"Parity Error detected! Discard\")\n",
    "            continue\n",
    "        logical_readout = tuple(\n",
    "            [(1 - (-1) ** (int(bitstring[0]) + int(bitstring[1]))) // 2]\n",
    "        )\n",
    "        logical_counts[OutcomeArray.from_readouts([logical_readout])] += counts\n",
    "\n",
    "    logical_result = BackendResult(\n",
    "        counts=logical_counts,\n",
    "        c_bits=[Bit(0)],\n",
    "    )\n",
    "    return logical_result"
   ]
  },
  {
   "cell_type": "code",
   "execution_count": 20,
   "metadata": {},
   "outputs": [],
   "source": [
    "# Interpret the encoded results back in the logical space.\n",
    "logical_results = [get_decoded_result(r) for r in results]\n"
   ]
  },
  {
   "cell_type": "code",
   "execution_count": 21,
   "metadata": {},
   "outputs": [
    {
     "data": {
      "text/plain": [
       "[BackendResult(q_bits={},c_bits={c[0]: 0},counts=Counter({OutcomeArray([[0]], dtype=uint8): 1}),shots=None,state=None,unitary=None,density_matrix=None),\n",
       " BackendResult(q_bits={},c_bits={c[0]: 0},counts=Counter({OutcomeArray([[128]], dtype=uint8): 1}),shots=None,state=None,unitary=None,density_matrix=None),\n",
       " BackendResult(q_bits={},c_bits={c[0]: 0},counts=Counter({OutcomeArray([[128]], dtype=uint8): 1}),shots=None,state=None,unitary=None,density_matrix=None),\n",
       " BackendResult(q_bits={},c_bits={c[0]: 0},counts=Counter({OutcomeArray([[128]], dtype=uint8): 1}),shots=None,state=None,unitary=None,density_matrix=None),\n",
       " BackendResult(q_bits={},c_bits={c[0]: 0},counts=Counter({OutcomeArray([[128]], dtype=uint8): 1}),shots=None,state=None,unitary=None,density_matrix=None),\n",
       " BackendResult(q_bits={},c_bits={c[0]: 0},counts=Counter({OutcomeArray([[128]], dtype=uint8): 1}),shots=None,state=None,unitary=None,density_matrix=None),\n",
       " BackendResult(q_bits={},c_bits={c[0]: 0},counts=Counter({OutcomeArray([[128]], dtype=uint8): 1}),shots=None,state=None,unitary=None,density_matrix=None),\n",
       " BackendResult(q_bits={},c_bits={c[0]: 0},counts=Counter({OutcomeArray([[128]], dtype=uint8): 1}),shots=None,state=None,unitary=None,density_matrix=None),\n",
       " BackendResult(q_bits={},c_bits={c[0]: 0},counts=Counter({OutcomeArray([[0]], dtype=uint8): 1}),shots=None,state=None,unitary=None,density_matrix=None),\n",
       " BackendResult(q_bits={},c_bits={c[0]: 0},counts=Counter({OutcomeArray([[128]], dtype=uint8): 1}),shots=None,state=None,unitary=None,density_matrix=None),\n",
       " BackendResult(q_bits={},c_bits={c[0]: 0},counts=Counter({OutcomeArray([[128]], dtype=uint8): 1}),shots=None,state=None,unitary=None,density_matrix=None),\n",
       " BackendResult(q_bits={},c_bits={c[0]: 0},counts=Counter({OutcomeArray([[0]], dtype=uint8): 1}),shots=None,state=None,unitary=None,density_matrix=None),\n",
       " BackendResult(q_bits={},c_bits={c[0]: 0},counts=Counter({OutcomeArray([[128]], dtype=uint8): 1}),shots=None,state=None,unitary=None,density_matrix=None),\n",
       " BackendResult(q_bits={},c_bits={c[0]: 0},counts=Counter({OutcomeArray([[0]], dtype=uint8): 1}),shots=None,state=None,unitary=None,density_matrix=None),\n",
       " BackendResult(q_bits={},c_bits={c[0]: 0},counts=Counter({OutcomeArray([[0]], dtype=uint8): 1}),shots=None,state=None,unitary=None,density_matrix=None),\n",
       " BackendResult(q_bits={},c_bits={c[0]: 0},counts=Counter({OutcomeArray([[128]], dtype=uint8): 1}),shots=None,state=None,unitary=None,density_matrix=None),\n",
       " BackendResult(q_bits={},c_bits={c[0]: 0},counts=Counter({OutcomeArray([[0]], dtype=uint8): 1}),shots=None,state=None,unitary=None,density_matrix=None),\n",
       " BackendResult(q_bits={},c_bits={c[0]: 0},counts=Counter({OutcomeArray([[0]], dtype=uint8): 1}),shots=None,state=None,unitary=None,density_matrix=None),\n",
       " BackendResult(q_bits={},c_bits={c[0]: 0},counts=Counter({OutcomeArray([[0]], dtype=uint8): 1}),shots=None,state=None,unitary=None,density_matrix=None),\n",
       " BackendResult(q_bits={},c_bits={c[0]: 0},counts=Counter({OutcomeArray([[128]], dtype=uint8): 1}),shots=None,state=None,unitary=None,density_matrix=None),\n",
       " BackendResult(q_bits={},c_bits={c[0]: 0},counts=Counter({OutcomeArray([[0]], dtype=uint8): 1}),shots=None,state=None,unitary=None,density_matrix=None),\n",
       " BackendResult(q_bits={},c_bits={c[0]: 0},counts=Counter({OutcomeArray([[128]], dtype=uint8): 1}),shots=None,state=None,unitary=None,density_matrix=None),\n",
       " BackendResult(q_bits={},c_bits={c[0]: 0},counts=Counter({OutcomeArray([[0]], dtype=uint8): 1}),shots=None,state=None,unitary=None,density_matrix=None),\n",
       " BackendResult(q_bits={},c_bits={c[0]: 0},counts=Counter({OutcomeArray([[128]], dtype=uint8): 1}),shots=None,state=None,unitary=None,density_matrix=None),\n",
       " BackendResult(q_bits={},c_bits={c[0]: 0},counts=Counter({OutcomeArray([[0]], dtype=uint8): 1}),shots=None,state=None,unitary=None,density_matrix=None),\n",
       " BackendResult(q_bits={},c_bits={c[0]: 0},counts=Counter({OutcomeArray([[128]], dtype=uint8): 1}),shots=None,state=None,unitary=None,density_matrix=None),\n",
       " BackendResult(q_bits={},c_bits={c[0]: 0},counts=Counter({OutcomeArray([[128]], dtype=uint8): 1}),shots=None,state=None,unitary=None,density_matrix=None),\n",
       " BackendResult(q_bits={},c_bits={c[0]: 0},counts=Counter({OutcomeArray([[0]], dtype=uint8): 1}),shots=None,state=None,unitary=None,density_matrix=None),\n",
       " BackendResult(q_bits={},c_bits={c[0]: 0},counts=Counter({OutcomeArray([[128]], dtype=uint8): 1}),shots=None,state=None,unitary=None,density_matrix=None),\n",
       " BackendResult(q_bits={},c_bits={c[0]: 0},counts=Counter({OutcomeArray([[128]], dtype=uint8): 1}),shots=None,state=None,unitary=None,density_matrix=None),\n",
       " BackendResult(q_bits={},c_bits={c[0]: 0},counts=Counter({OutcomeArray([[0]], dtype=uint8): 1}),shots=None,state=None,unitary=None,density_matrix=None),\n",
       " BackendResult(q_bits={},c_bits={c[0]: 0},counts=Counter({OutcomeArray([[128]], dtype=uint8): 1}),shots=None,state=None,unitary=None,density_matrix=None),\n",
       " BackendResult(q_bits={},c_bits={c[0]: 0},counts=Counter({OutcomeArray([[128]], dtype=uint8): 1}),shots=None,state=None,unitary=None,density_matrix=None),\n",
       " BackendResult(q_bits={},c_bits={c[0]: 0},counts=Counter({OutcomeArray([[128]], dtype=uint8): 1}),shots=None,state=None,unitary=None,density_matrix=None),\n",
       " BackendResult(q_bits={},c_bits={c[0]: 0},counts=Counter({OutcomeArray([[0]], dtype=uint8): 1}),shots=None,state=None,unitary=None,density_matrix=None),\n",
       " BackendResult(q_bits={},c_bits={c[0]: 0},counts=Counter({OutcomeArray([[0]], dtype=uint8): 1}),shots=None,state=None,unitary=None,density_matrix=None),\n",
       " BackendResult(q_bits={},c_bits={c[0]: 0},counts=Counter({OutcomeArray([[0]], dtype=uint8): 1}),shots=None,state=None,unitary=None,density_matrix=None),\n",
       " BackendResult(q_bits={},c_bits={c[0]: 0},counts=Counter({OutcomeArray([[0]], dtype=uint8): 1}),shots=None,state=None,unitary=None,density_matrix=None),\n",
       " BackendResult(q_bits={},c_bits={c[0]: 0},counts=Counter({OutcomeArray([[0]], dtype=uint8): 1}),shots=None,state=None,unitary=None,density_matrix=None),\n",
       " BackendResult(q_bits={},c_bits={c[0]: 0},counts=Counter({OutcomeArray([[128]], dtype=uint8): 1}),shots=None,state=None,unitary=None,density_matrix=None),\n",
       " BackendResult(q_bits={},c_bits={c[0]: 0},counts=Counter({OutcomeArray([[0]], dtype=uint8): 1}),shots=None,state=None,unitary=None,density_matrix=None),\n",
       " BackendResult(q_bits={},c_bits={c[0]: 0},counts=Counter({OutcomeArray([[128]], dtype=uint8): 1}),shots=None,state=None,unitary=None,density_matrix=None),\n",
       " BackendResult(q_bits={},c_bits={c[0]: 0},counts=Counter({OutcomeArray([[128]], dtype=uint8): 1}),shots=None,state=None,unitary=None,density_matrix=None),\n",
       " BackendResult(q_bits={},c_bits={c[0]: 0},counts=Counter({OutcomeArray([[128]], dtype=uint8): 1}),shots=None,state=None,unitary=None,density_matrix=None),\n",
       " BackendResult(q_bits={},c_bits={c[0]: 0},counts=Counter({OutcomeArray([[128]], dtype=uint8): 1}),shots=None,state=None,unitary=None,density_matrix=None),\n",
       " BackendResult(q_bits={},c_bits={c[0]: 0},counts=Counter({OutcomeArray([[0]], dtype=uint8): 1}),shots=None,state=None,unitary=None,density_matrix=None),\n",
       " BackendResult(q_bits={},c_bits={c[0]: 0},counts=Counter({OutcomeArray([[0]], dtype=uint8): 1}),shots=None,state=None,unitary=None,density_matrix=None),\n",
       " BackendResult(q_bits={},c_bits={c[0]: 0},counts=Counter({OutcomeArray([[128]], dtype=uint8): 1}),shots=None,state=None,unitary=None,density_matrix=None),\n",
       " BackendResult(q_bits={},c_bits={c[0]: 0},counts=Counter({OutcomeArray([[128]], dtype=uint8): 1}),shots=None,state=None,unitary=None,density_matrix=None),\n",
       " BackendResult(q_bits={},c_bits={c[0]: 0},counts=Counter({OutcomeArray([[128]], dtype=uint8): 1}),shots=None,state=None,unitary=None,density_matrix=None)]"
      ]
     },
     "execution_count": 21,
     "metadata": {},
     "output_type": "execute_result"
    }
   ],
   "source": [
    "logical_results"
   ]
  },
  {
   "cell_type": "markdown",
   "metadata": {},
   "source": [
    "## Post-process the results using utility functions performing the Bayesian Maximum Likelihood computation"
   ]
  },
  {
   "cell_type": "code",
   "execution_count": 22,
   "metadata": {},
   "outputs": [],
   "source": [
    "from algorithm import get_mu_and_sigma, bayesian_update\n",
    "\n",
    "\n",
    "# Prepare the uniform prior distribution.\n",
    "n_grid_points = 2**14\n",
    "phi = np.linspace(-1, 1, n_grid_points + 1)[:-1]\n",
    "prior = np.ones_like(phi)\n",
    "\n",
    "posterior = bayesian_update(\n",
    "    phi,\n",
    "    prior,\n",
    "    k_list,\n",
    "    beta_list,\n",
    "    logical_results,\n",
    "    error_rate=error_rate_func,\n",
    ")"
   ]
  },
  {
   "cell_type": "code",
   "execution_count": 23,
   "metadata": {},
   "outputs": [
    {
     "name": "stdout",
     "output_type": "stream",
     "text": [
      "Energy estimate =    -1.15078 Ha\n",
      "Energy sigma    =     0.05391 Ha\n",
      "FCI energy      =    -1.13731 Ha\n"
     ]
    }
   ],
   "source": [
    "mu, sigma = get_mu_and_sigma(posterior, phi=phi)\n",
    "mu_energy = -mu / DELTAT\n",
    "sigma_energy = sigma / DELTAT\n",
    "print(f\"Energy estimate = {mu_energy:11.5f} Ha\")\n",
    "print(f\"Energy sigma    = {sigma_energy:11.5f} Ha\")\n",
    "print(f\"FCI energy      = {FCI_ENERGY:11.5f} Ha\")"
   ]
  },
  {
   "cell_type": "markdown",
   "metadata": {},
   "source": [
    "### Plot probability distribution"
   ]
  },
  {
   "cell_type": "code",
   "execution_count": 24,
   "metadata": {},
   "outputs": [
    {
     "data": {
      "text/plain": [
       "<matplotlib.legend.Legend at 0xfffedc578970>"
      ]
     },
     "execution_count": 24,
     "metadata": {},
     "output_type": "execute_result"
    },
    {
     "data": {
      "image/png": "[encoded data removed]",
      "text/plain": [
       "<Figure size 640x480 with 1 Axes>"
      ]
     },
     "metadata": {},
     "output_type": "display_data"
    }
   ],
   "source": [
    "import matplotlib.pyplot as plt\n",
    "\n",
    "x_energy = -phi / DELTAT\n",
    "plt.plot(x_energy, posterior, \"k-\")\n",
    "plt.xlim([-1.2,-1.0])\n",
    "plt.plot(FCI_ENERGY, 0, \"r^\", label=\"Reference value\")\n",
    "plt.xlabel(r\"Energy $E$ / hartree\")\n",
    "plt.ylabel(r\"Probability distribuition $P(E)$\")\n",
    "plt.legend()"
   ]
  },
  {
   "cell_type": "markdown",
   "metadata": {},
   "source": [
    "## Noisy Simulations\n",
    "\n",
    "We can repeat the simulation above after introducing a noise model for the gate operations. We can use some functions from [this example](https://nvidia.github.io/cuda-quantum/latest/applications/python/logical_aim_sqale.html#Running-a-CUDA-Q-noisy-simulation) in the `cuda-q` documentation"
   ]
  },
  {
   "cell_type": "code",
   "execution_count": 25,
   "metadata": {},
   "outputs": [],
   "source": [
    "def get_device_noise(\n",
    "    depolar_prob_1q: float,\n",
    "    depolar_prob_2q: float,\n",
    "    *,\n",
    "    readout_error_prob: float | None = None,\n",
    "    custom_gates: list[str] | None = None,\n",
    ") -> cudaq.mlir._mlir_libs._quakeDialects.cudaq_runtime.NoiseModel:\n",
    "    noise = cudaq.NoiseModel()\n",
    "    depolar_noise = cudaq.DepolarizationChannel(depolar_prob_1q)\n",
    "\n",
    "    noisy_ops = [\"z\", \"s\", \"x\", \"h\", \"rx\", \"rz\"]\n",
    "    for op in noisy_ops:\n",
    "        noise.add_all_qubit_channel(op, depolar_noise)\n",
    "\n",
    "    if custom_gates:\n",
    "        custom_depolar_channel = cudaq.DepolarizationChannel(depolar_prob_1q)\n",
    "        for op in custom_gates:\n",
    "            noise.add_all_qubit_channel(op, custom_depolar_channel)\n",
    "\n",
    "    # Two qubit depolarization error\n",
    "    p_0 = 1 - depolar_prob_2q\n",
    "    p_1 = np.sqrt((1 - p_0**2) / 3)\n",
    "\n",
    "    k0 = np.array(\n",
    "        [[p_0, 0.0, 0.0, 0.0], [0.0, p_0, 0.0, 0.0], [0.0, 0.0, p_0, 0.0], [0.0, 0.0, 0.0, p_0]],\n",
    "        dtype=np.complex128,\n",
    "    )\n",
    "    k1 = np.array(\n",
    "        [[0.0, 0.0, p_1, 0.0], [0.0, 0.0, 0.0, p_1], [p_1, 0.0, 0.0, 0.0], [0.0, p_1, 0.0, 0.0]],\n",
    "        dtype=np.complex128,\n",
    "    )\n",
    "    k2 = np.array(\n",
    "        [\n",
    "            [0.0, 0.0, -1j * p_1, 0.0],\n",
    "            [0.0, 0.0, 0.0, -1j * p_1],\n",
    "            [1j * p_1, 0.0, 0.0, 0.0],\n",
    "            [0.0, 1j * p_1, 0.0, 0.0],\n",
    "        ],\n",
    "        dtype=np.complex128,\n",
    "    )\n",
    "    k3 = np.array(\n",
    "        [[p_1, 0.0, 0.0, 0.0], [0.0, p_1, 0.0, 0.0], [0.0, 0.0, -p_1, 0.0], [0.0, 0.0, 0.0, -p_1]],\n",
    "        dtype=np.complex128,\n",
    "    )\n",
    "    kraus_channel = cudaq.KrausChannel([k0, k1, k2, k3])\n",
    "\n",
    "    noise.add_all_qubit_channel(\"cz\", kraus_channel)\n",
    "    noise.add_all_qubit_channel(\"cx\", kraus_channel)\n",
    "\n",
    "    if readout_error_prob is not None:\n",
    "        # Readout error modeled with a Bit flip channel on identity before measurement\n",
    "        bit_flip = cudaq.BitFlipChannel(readout_error_prob)\n",
    "        noise.add_all_qubit_channel(\"mz\", bit_flip)\n",
    "    return noise"
   ]
  },
  {
   "cell_type": "markdown",
   "metadata": {},
   "source": [
    "The next cell builds a custom noise model that can be used by `cuda-q`"
   ]
  },
  {
   "cell_type": "code",
   "execution_count": 26,
   "metadata": {},
   "outputs": [],
   "source": [
    "# Example parameters that can model execution on hardware at the high, simulation, level:\n",
    "# Take single-qubit gate depolarization rate: ~0.01% or better (fidelity ≥99.99%)\n",
    "# Take two-qubit gate depolarization rate: ~0.1% (fidelity ~99.9%)\n",
    "cudaq_noise_model = get_device_noise(0.0001, 0.001, readout_error_prob=0.001)"
   ]
  },
  {
   "cell_type": "markdown",
   "metadata": {},
   "source": [
    "A simulator that can use the noise model is the `density-matrix-cpu` target"
   ]
  },
  {
   "cell_type": "code",
   "execution_count": 27,
   "metadata": {},
   "outputs": [],
   "source": [
    "# this is needed for noisy simulations\n",
    "cudaq.reset_target()\n",
    "cudaq.set_target(\"density-matrix-cpu\")"
   ]
  },
  {
   "cell_type": "markdown",
   "metadata": {},
   "source": [
    "Since we have a noisy backend, we can improve our information theoretic QPE algorithm by telling our likelihood that our gates are noisy."
   ]
  },
  {
   "cell_type": "code",
   "execution_count": null,
   "metadata": {},
   "outputs": [],
   "source": [
    "# Prepare the samples of (k, beta).\n",
    "k_max = 16\n",
    "n_samples = 50  # this will set how many circuits we need to run for the QPE\n",
    "error_rate = 0.002  # this is for the custom noise model above: we consider a factor of 2 because we have 2 TQ gates in each controlled-U step\n",
    "\n",
    "\n",
    "def error_rate_func(k: int) -> float:\n",
    "    q = 1 - (1 - error_rate) ** k\n",
    "    return q\n",
    "\n",
    "\n",
    "k_list = generate_ks(k_max, n_samples, error_rate=error_rate_func)\n",
    "beta_list = (1 - 2 * np.random.random(size=n_samples)).tolist()"
   ]
  },
  {
   "cell_type": "code",
   "execution_count": 29,
   "metadata": {},
   "outputs": [],
   "source": [
    "# Execute the QPE circuits.\n",
    "results = []\n",
    "for k,b in zip(k_list,beta_list):\n",
    "    rb = -pi/2*b  # rescaling needed for beta\n",
    "    results.append(cudaq.sample(qpe_iceberg, k, rb, 4, shots_count=1, noise_model=cudaq_noise_model))"
   ]
  },
  {
   "cell_type": "code",
   "execution_count": 30,
   "metadata": {},
   "outputs": [
    {
     "name": "stdout",
     "output_type": "stream",
     "text": [
      "Parity Error detected! Discard\n",
      "Parity Error detected! Discard\n",
      "Parity Error detected! Discard\n"
     ]
    }
   ],
   "source": [
    "# Interpret the encoded results back in the logical space.\n",
    "logical_results = [get_decoded_result(r) for r in results]"
   ]
  },
  {
   "cell_type": "code",
   "execution_count": 31,
   "metadata": {},
   "outputs": [],
   "source": [
    "# Prepare the uniform prior distribution.\n",
    "n_grid_points = 2**14\n",
    "phi = np.linspace(-1, 1, n_grid_points + 1)[:-1]\n",
    "prior = np.ones_like(phi)\n",
    "\n",
    "posterior = bayesian_update(\n",
    "    phi,\n",
    "    prior,\n",
    "    k_list,\n",
    "    beta_list,\n",
    "    logical_results,\n",
    "    error_rate=error_rate_func,\n",
    ")"
   ]
  },
  {
   "cell_type": "code",
   "execution_count": 32,
   "metadata": {},
   "outputs": [
    {
     "name": "stdout",
     "output_type": "stream",
     "text": [
      "Energy estimate =    -1.12191 Ha\n",
      "Energy sigma    =     0.05404 Ha\n",
      "FCI energy      =    -1.13731 Ha\n"
     ]
    }
   ],
   "source": [
    "mu, sigma = get_mu_and_sigma(posterior, phi=phi)\n",
    "mu_energy = -mu / DELTAT\n",
    "sigma_energy = sigma / DELTAT\n",
    "print(f\"Energy estimate = {mu_energy:11.5f} Ha\")\n",
    "print(f\"Energy sigma    = {sigma_energy:11.5f} Ha\")\n",
    "print(f\"FCI energy      = {FCI_ENERGY:11.5f} Ha\")"
   ]
  },
  {
   "cell_type": "code",
   "execution_count": 33,
   "metadata": {},
   "outputs": [
    {
     "data": {
      "text/plain": [
       "<matplotlib.legend.Legend at 0xfffedc40ceb0>"
      ]
     },
     "execution_count": 33,
     "metadata": {},
     "output_type": "execute_result"
    },
    {
     "data": {
      "image/png": "[encoded data removed]",
      "text/plain": [
       "<Figure size 640x480 with 1 Axes>"
      ]
     },
     "metadata": {},
     "output_type": "display_data"
    }
   ],
   "source": [
    "import matplotlib.pyplot as plt\n",
    "\n",
    "x_energy = -phi / DELTAT\n",
    "plt.plot(x_energy, posterior, \"k-\")\n",
    "plt.xlim([-1.2,-1.0])\n",
    "plt.plot(FCI_ENERGY, 0, \"r^\", label=\"Reference value\")\n",
    "plt.xlabel(r\"Energy $E$ / hartree\")\n",
    "plt.ylabel(r\"Probability distribuition $P(E)$\")\n",
    "plt.legend()"
   ]
  },
  {
   "cell_type": "markdown",
   "metadata": {},
   "source": [
    "## Run on Quantinuum Systems\n",
    "\n",
    "Documentation on how to access Quantinuum Systems via `cuda-q` is provided in the Quantinuum documentation [page](https://docs.quantinuum.com/systems/trainings/getting_started/getting_started_index.html)"
   ]
  },
  {
   "cell_type": "markdown",
   "metadata": {},
   "source": [
    "In order to use Quantinuum systems, you need to have an account and store your credentials as discussed in the documentation page."
   ]
  },
  {
   "cell_type": "code",
   "execution_count": 41,
   "metadata": {},
   "outputs": [],
   "source": [
    "# this is needed for Quantinuum systems\n",
    "cudaq.reset_target()\n",
    "machine = \"H1-1SC\"  # or H1-1SC for the syntax checker or H1-1E for the emulator\n",
    "are_we_emulating_in_cudaq = False\n",
    "cudaq.set_target(\"quantinuum\", machine=machine, emulate=are_we_emulating_in_cudaq)"
   ]
  },
  {
   "cell_type": "markdown",
   "metadata": {},
   "source": [
    "Setting `emulate=True` in the cell above will not run any calls to the Quantinuum API, but it will test the compilation of the kernels.\n",
    "With `emulate=False` (which is the default value), the API will be queried and the jobs will be submitted to the selected `machine`.\n",
    "Jobs submitted to the machine will apper in the quantum computing platform [Quantinuum Nexus](https://docs.quantinuum.com/nexus/index.html)."
   ]
  },
  {
   "cell_type": "code",
   "execution_count": null,
   "metadata": {},
   "outputs": [],
   "source": [
    "# Prepare the samples of (k, beta).\n",
    "k_max = 16\n",
    "n_samples = 10  # this will set how many circuits we need to run for the QPE\n",
    "error_rate = 0.002  # this is for the custom noise model on H1-1: we consider a factor of 2 because we have 2 TQ gates in each controlled-U step\n",
    "\n",
    "\n",
    "def error_rate_func(k: int) -> float:\n",
    "    q = 1 - (1 - error_rate) ** k\n",
    "    return q\n",
    "\n",
    "\n",
    "k_list = generate_ks(k_max, n_samples, error_rate=error_rate_func)\n",
    "beta_list = (1 - 2 * np.random.random(size=n_samples)).tolist()"
   ]
  },
  {
   "cell_type": "markdown",
   "metadata": {},
   "source": [
    "When running on remote QPU, we can use the `cudaq.sample_async` and save the result of the job ID on a file for later retrieval."
   ]
  },
  {
   "cell_type": "code",
   "execution_count": 43,
   "metadata": {},
   "outputs": [],
   "source": [
    "# Execute the QPE circuits and save output for future retireval\n",
    "# if running on Quantinuum Systems with sample_async.\n",
    "import os\n",
    "import json\n",
    "\n",
    "results_dir = f\"results_{machine}_{k_max}_{n_samples}\"\n",
    "os.makedirs(results_dir, exist_ok=True)\n",
    "\n",
    "results = []\n",
    "for k, b in zip(k_list, beta_list):\n",
    "    rb = -pi / 2 * b  # rescaling needed for beta\n",
    "    if are_we_emulating_in_cudaq:\n",
    "        # emulation runs immediately\n",
    "        tmp_result = cudaq.sample(qpe_iceberg, k, rb, k_max, shots_count=1)\n",
    "        results.append(tmp_result)\n",
    "    else:\n",
    "        # this runs asyncronously and submits to the Quantinuum API\n",
    "        tmp_result = cudaq.sample_async(qpe_iceberg, k, rb, k_max, shots_count=1)\n",
    "        with open(f\"{results_dir}/job_{k}_{b}.json\", \"w\") as file_io:\n",
    "            json.dump(str(tmp_result), file_io)"
   ]
  },
  {
   "cell_type": "markdown",
   "metadata": {},
   "source": [
    "We get the job info from the files and get the results from the cloud QPU once they are ready. In this case we are running only the Quantinuum Syntax Checker, so we do not expect the returned counts to be from actual shots of the circuit."
   ]
  },
  {
   "cell_type": "code",
   "execution_count": 44,
   "metadata": {},
   "outputs": [],
   "source": [
    "import os\n",
    "import json\n",
    "\n",
    "if not are_we_emulating_in_cudaq:\n",
    "    results = []\n",
    "    for file in os.listdir(results_dir):\n",
    "        with open(f\"{results_dir}/{file}\", \"r\") as file_io:\n",
    "            job_data = json.load(file_io)\n",
    "        tmp_results = cudaq.AsyncSampleResult(str(job_data))\n",
    "        counts = tmp_results.get()\n",
    "        results.append(counts)"
   ]
  },
  {
   "cell_type": "markdown",
   "metadata": {},
   "source": [
    "Here is an example of the result from Quantinuum Systems `H1-1SC`"
   ]
  },
  {
   "cell_type": "code",
   "execution_count": 45,
   "metadata": {},
   "outputs": [
    {
     "name": "stdout",
     "output_type": "stream",
     "text": [
      "{ \n",
      "  __global__ : { 000000:1 }\n",
      "   r00000 : { 0:1 }\n",
      "   r00001 : { 0:1 }\n",
      "   r00002 : { 0:1 }\n",
      "   r00003 : { 0:1 }\n",
      "   r00004 : { 0:1 }\n",
      "   r00005 : { 0:1 }\n",
      "}\n"
     ]
    }
   ],
   "source": [
    "results[0].dump()"
   ]
  },
  {
   "cell_type": "code",
   "execution_count": 46,
   "metadata": {},
   "outputs": [
    {
     "data": {
      "text/plain": [
       "cudaq.mlir._mlir_libs._quakeDialects.cudaq_runtime.SampleResult"
      ]
     },
     "execution_count": 46,
     "metadata": {},
     "output_type": "execute_result"
    }
   ],
   "source": [
    "type(results[0])"
   ]
  },
  {
   "cell_type": "markdown",
   "metadata": {},
   "source": [
    "The results are of type `cudaq.SampleResult` as we saw in the case of a simulation backend. This means the workflow to process the results to obtain the final answer will not change even though we are using the Quantinuum Systems."
   ]
  },
  {
   "cell_type": "markdown",
   "metadata": {},
   "source": [
    "For results obtained from the `H1-1E` emulator we can get load the results already saved on disk and make a plot"
   ]
  },
  {
   "cell_type": "code",
   "execution_count": 47,
   "metadata": {},
   "outputs": [
    {
     "name": "stdout",
     "output_type": "stream",
     "text": [
      "[15, 7, 9, 5, 15, 1, 5, 7, 4, 13, 12, 9, 9, 13, 6, 5, 15, 2, 8, 14, 12, 12, 1, 11, 5, 3, 4, 10, 16, 11, 11, 10, 4, 16, 6, 13, 6, 16, 1, 11, 14, 15, 6, 16, 2, 14, 13, 7, 12, 11]\n",
      "[0.27017512, -0.47394802, 0.0466498, -0.50235102, -0.8672703, 0.44692812, 0.32392869, -0.001313, 0.31648886, -0.65808325, 0.88069354, 0.46200438, -0.54192628, 0.90491895, -0.87763258, 0.99472779, 0.66869691, 0.5255515, -0.73701811, 0.12615369, 0.45811549, -0.22744194, 0.26105682, -0.1323189, -0.7998807, -0.03014, -0.70235605, -0.94922763, -0.09694152, 0.44925274, 0.20773296, 0.43156246, 0.3038661, -0.60392304, -0.12735312, 0.33493999, 0.41248766, 0.09322811, 0.39017891, -0.5706066, 0.61596944, -0.99933448, 0.13725022, 0.53325828, -0.17347777, -0.80427508, 0.62151118, 0.92580193, 0.57938717, -0.3682388]\n",
      "BackendResult(q_bits={},c_bits={c[0]: 0},counts=Counter(),shots=None,state=None,unitary=None,density_matrix=None)\n"
     ]
    }
   ],
   "source": [
    "import numpy as np\n",
    "import json\n",
    "\n",
    "# Read k_list and beta_list from text files\n",
    "k_list = np.loadtxt(\"results_H1-1E/k_list.txt\", dtype=int).tolist()\n",
    "beta_list = np.loadtxt(\"results_H1-1E/beta_list.txt\", dtype=float).tolist()\n",
    "\n",
    "# Load logical results from JSON files\n",
    "logical_results = []\n",
    "for i in range(len(k_list)):\n",
    "    with open(f\"results_H1-1E/logical_result_{i}.json\", \"r\") as f:\n",
    "        result_dict = json.load(f)\n",
    "        logical_results.append(BackendResult.from_dict(result_dict))\n",
    "\n",
    "print(k_list)\n",
    "print(beta_list)\n",
    "print(logical_results[0])"
   ]
  },
  {
   "cell_type": "code",
   "execution_count": 48,
   "metadata": {},
   "outputs": [
    {
     "name": "stdout",
     "output_type": "stream",
     "text": [
      "Energy estimate =    -1.19576 Ha\n",
      "Energy sigma    =     0.05067 Ha\n",
      "FCI energy      =    -1.13731 Ha\n"
     ]
    }
   ],
   "source": [
    "from algorithm import get_mu_and_sigma, bayesian_update\n",
    "\n",
    "# Prepare the uniform prior distribution.\n",
    "n_grid_points = 2**14\n",
    "phi = np.linspace(-1, 1, n_grid_points + 1)[:-1]\n",
    "prior = np.ones_like(phi)\n",
    "\n",
    "posterior = bayesian_update(\n",
    "    phi,\n",
    "    prior,\n",
    "    k_list,\n",
    "    beta_list,\n",
    "    logical_results,\n",
    "    error_rate=error_rate_func,\n",
    ")\n",
    "\n",
    "mu, sigma = get_mu_and_sigma(posterior, phi=phi)\n",
    "mu_energy = -mu / DELTAT\n",
    "sigma_energy = sigma / DELTAT\n",
    "print(f\"Energy estimate = {mu_energy:11.5f} Ha\")\n",
    "print(f\"Energy sigma    = {sigma_energy:11.5f} Ha\")\n",
    "print(f\"FCI energy      = {FCI_ENERGY:11.5f} Ha\")"
   ]
  },
  {
   "cell_type": "code",
   "execution_count": 49,
   "metadata": {},
   "outputs": [
    {
     "data": {
      "text/plain": [
       "<matplotlib.legend.Legend at 0xfffedc40e9b0>"
      ]
     },
     "execution_count": 49,
     "metadata": {},
     "output_type": "execute_result"
    },
    {
     "data": {
      "image/png": "[encoded data removed]",
      "text/plain": [
       "<Figure size 640x480 with 1 Axes>"
      ]
     },
     "metadata": {},
     "output_type": "display_data"
    }
   ],
   "source": [
    "import matplotlib.pyplot as plt\n",
    "\n",
    "x_energy = -phi / DELTAT\n",
    "plt.plot(x_energy, posterior, \"k-\")\n",
    "plt.xlim(-1.5, -0.8)\n",
    "plt.plot(FCI_ENERGY, 0, \"r^\", label=\"Reference value\")\n",
    "plt.xlabel(r\"Energy $E$ / hartree\")\n",
    "plt.ylabel(r\"Probability distribuition $P(E)$\")\n",
    "plt.legend()"
   ]
  }
 ],
 "metadata": {
  "kernelspec": {
   "display_name": "Python 3",
   "language": "python",
   "name": "python3"
  },
  "language_info": {
   "codemirror_mode": {
    "name": "ipython",
    "version": 3
   },
   "file_extension": ".py",
   "mimetype": "text/x-python",
   "name": "python",
   "nbconvert_exporter": "python",
   "pygments_lexer": "ipython3",
   "version": "3.10.12"
  }
 },
 "nbformat": 4,
 "nbformat_minor": 2
}
